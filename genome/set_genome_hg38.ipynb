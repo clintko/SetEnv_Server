{
 "cells": [
  {
   "cell_type": "markdown",
   "id": "ebcce282-9d4e-4a8b-966a-8aecbecbdd32",
   "metadata": {},
   "source": [
    "# Download from Duke Using Duke Data Service DukeDSClient"
   ]
  },
  {
   "cell_type": "code",
   "execution_count": null,
   "id": "67320121-78c4-4022-b5c1-2700f075e0f5",
   "metadata": {},
   "outputs": [],
   "source": []
  },
  {
   "cell_type": "code",
   "execution_count": 1,
   "id": "d14e531f-e702-4cee-8bc2-814315f9e2c2",
   "metadata": {},
   "outputs": [
    {
     "name": "stdout",
     "output_type": "stream",
     "text": [
      "usage: ddsclient download [-h] (-p ProjectName | -i ProjectUUID)\n",
      "                          [--include Path | --exclude Path]\n",
      "                          [Folder]\n",
      "\n",
      "Download the contents of a remote remote project to a local folder.\n",
      "\n",
      "positional arguments:\n",
      "  Folder                Name of the folder to download the project contents\n",
      "                        into. If not specified it will use the name of the\n",
      "                        project with spaces translated to '_'.\n",
      "\n",
      "optional arguments:\n",
      "  -h, --help            show this help message and exit\n",
      "  -p ProjectName, --project-name ProjectName\n",
      "                        Name of the project to download.\n",
      "  -i ProjectUUID, --project-id ProjectUUID\n",
      "                        ID of the project to download.\n",
      "  --include Path        Specifies a single path to include. This argument can\n",
      "                        be repeated.\n",
      "  --exclude Path        Specifies a single path to exclude. This argument can\n",
      "                        be repeated.\n"
     ]
    }
   ],
   "source": [
    "ddsclient download -h"
   ]
  },
  {
   "cell_type": "code",
   "execution_count": null,
   "id": "01b13189-9248-41a5-b447-df253f54ac64",
   "metadata": {},
   "outputs": [],
   "source": []
  }
 ],
 "metadata": {
  "kernelspec": {
   "display_name": "Bash",
   "language": "bash",
   "name": "bash"
  },
  "language_info": {
   "codemirror_mode": "shell",
   "file_extension": ".sh",
   "mimetype": "text/x-sh",
   "name": "bash"
  }
 },
 "nbformat": 4,
 "nbformat_minor": 5
}
