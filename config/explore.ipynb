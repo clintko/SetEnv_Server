{
 "cells": [
  {
   "cell_type": "code",
   "execution_count": 1,
   "id": "073e1c51-1e27-452b-801b-3191036341a6",
   "metadata": {},
   "outputs": [],
   "source": [
    "source ../config/config_duke.sh"
   ]
  },
  {
   "cell_type": "code",
   "execution_count": 3,
   "id": "32f8fa46-a0b8-4ed2-93b6-7b14d4725e89",
   "metadata": {},
   "outputs": [
    {
     "name": "stdout",
     "output_type": "stream",
     "text": [
      "-rw-rw-r-- 1 reddylab 13G Dec  9  2018 \u001b[0m\u001b[38;5;9m/data/reddylab/Kuei/annotation/snp/hg38/snp151.txt.gz\u001b[0m\n"
     ]
    }
   ],
   "source": [
    "FDIRY=${FD_ANN}/snp/hg38\n",
    "FNAME=snp151.txt.gz\n",
    "FPATH=${FDIRY}/${FNAME}\n",
    "\n",
    "ls -hg ${FPATH}"
   ]
  },
  {
   "cell_type": "code",
   "execution_count": 4,
   "id": "aaccbe9b-567f-4305-b8ef-a88d8972870f",
   "metadata": {},
   "outputs": [
    {
     "name": "stdout",
     "output_type": "stream",
     "text": [
      "585\tchr1\t10019\t10020\trs775809821\t0\t+\tA\tA\t-/A\tgenomic\tdeletion\tunknown\t0\t0\tnear-gene-5\texact\t1\t\t1\tSSMP,\t0\t\t\t\t\n",
      "585\tchr1\t10038\t10039\trs978760828\t0\t+\tA\tA\tA/C\tgenomic\tsingle\tunknown\t0\t0\tnear-gene-5\texact\t1\t\t1\tUSC_VALOUEV,\t0\t\t\t\t\n",
      "585\tchr1\t10042\t10043\trs1008829651\t0\t+\tT\tT\tA/T\tgenomic\tsingle\tunknown\t0\t0\tnear-gene-5\texact\t1\t\t1\tUSC_VALOUEV,\t0\t\t\t\t\n",
      "585\tchr1\t10050\t10051\trs1052373574\t0\t+\tA\tA\tA/G\tgenomic\tsingle\tunknown\t0\t0\tnear-gene-5\texact\t1\t\t1\tUSC_VALOUEV,\t0\t\t\t\t\n",
      "585\tchr1\t10051\t10051\trs1326880612\t0\t+\t-\t-\t-/C\tgenomic\tinsertion\tunknown\t0\t0\tnear-gene-5\tbetween\t1\t\t1\tTOPMED,\t0\t\t\t\t\n",
      "585\tchr1\t10054\t10055\trs892501864\t0\t+\tT\tT\tA/T\tgenomic\tsingle\tunknown\t0\t0\tnear-gene-5\texact\t1\t\t1\tUSC_VALOUEV,\t0\t\t\t\t\n",
      "585\tchr1\t10055\t10055\trs768019142\t0\t+\t-\t-\t-/A\tgenomic\tinsertion\tunknown\t0\t0\tnear-gene-5\tbetween\t1\t\t1\tSSMP,\t0\t\t\t\t\n",
      "585\tchr1\t10062\t10063\trs1010989343\t0\t+\tA\tA\tA/C\tgenomic\tsingle\tunknown\t0\t0\tnear-gene-5\texact\t1\t\t1\tUSC_VALOUEV,\t0\t\t\t\t\n",
      "585\tchr1\t10067\t10067\trs1489251879\t0\t+\t-\t-\tlengthTooLong\tgenomic\tin-del\tunknown\t0\t0\tnear-gene-5\tbetween\t1\tObservedTooLong\t1\tGNOMAD,\t0\t\t\t\t\n",
      "585\tchr1\t10076\t10077\trs1022805358\t0\t+\tC\tC\tC/G\tgenomic\tsingle\tunknown\t0\t0\tnear-gene-5\texact\t1\t\t1\tUSC_VALOUEV,\t0\t\t\t\t\n"
     ]
    }
   ],
   "source": [
    "zcat ${FPATH} | head"
   ]
  },
  {
   "cell_type": "code",
   "execution_count": null,
   "id": "bb90eacb-f8be-403d-afb4-ee591f7876eb",
   "metadata": {},
   "outputs": [],
   "source": []
  }
 ],
 "metadata": {
  "kernelspec": {
   "display_name": "Bash",
   "language": "bash",
   "name": "bash"
  },
  "language_info": {
   "codemirror_mode": "shell",
   "file_extension": ".sh",
   "mimetype": "text/x-sh",
   "name": "bash"
  }
 },
 "nbformat": 4,
 "nbformat_minor": 5
}
