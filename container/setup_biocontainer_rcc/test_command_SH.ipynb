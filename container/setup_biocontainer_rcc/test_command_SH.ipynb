{
 "cells": [
  {
   "cell_type": "raw",
   "id": "b72241bb-902d-4078-aaa2-ab623da53bb5",
   "metadata": {},
   "source": [
    "---\n",
    "title: Setup Envionment 01\n",
    "subtitle: Project folder structure and file arrangement on Duke HARDAC Server\n",
    "format:\n",
    "    html:\n",
    "        code-fold:  true\n",
    "        code-tools: true\n",
    "---"
   ]
  },
  {
   "cell_type": "markdown",
   "id": "4b4217f7-3e7e-4b8c-8e8c-8ac3b3f859ee",
   "metadata": {},
   "source": [
    "**Set environment**"
   ]
  },
  {
   "cell_type": "code",
   "execution_count": 1,
   "id": "6a10d87b-12d8-43d2-a01f-ba55a72c5294",
   "metadata": {},
   "outputs": [
    {
     "name": "stdout",
     "output_type": "stream",
     "text": [
      "You are working on        \n",
      "BASE DIRECTORY (FD_BASE): /data/reddylab/Kuei\n",
      "REPO DIRECTORY (FD_REPO): /data/reddylab/Kuei/repo\n",
      "WORK DIRECTORY (FD_WORK): /data/reddylab/Kuei/work\n",
      "DATA DIRECTORY (FD_DATA): /data/reddylab/Kuei/data\n",
      "ENVS DIRECTORY (FD_ENVS): /data/reddylab/Kuei/envs\n",
      "BINS DIRECTORY (FD_BINS): /data/reddylab/Kuei/bins\n",
      "CONTAINER DIR. (FD_SING): /data/reddylab/Kuei/container\n",
      "TEMPORARY DIR. (FD_TEMP): /data/reddylab/Kuei/temp\n",
      "BACKUP    DIR. (FD_BACK): /data/reddylab/Kuei/backup\n",
      "\n"
     ]
    }
   ],
   "source": [
    "show_env_base"
   ]
  },
  {
   "cell_type": "code",
   "execution_count": null,
   "id": "186cee52-3d6a-44e2-b430-27b0ed95f546",
   "metadata": {},
   "outputs": [],
   "source": []
  },
  {
   "cell_type": "code",
   "execution_count": null,
   "id": "3e165e43-5f2f-4c72-940e-36789d3a3149",
   "metadata": {},
   "outputs": [],
   "source": []
  },
  {
   "cell_type": "code",
   "execution_count": 2,
   "id": "70ec1dd2-e59a-4f9e-bb70-e1fc8ee177b7",
   "metadata": {},
   "outputs": [
    {
     "name": "stdout",
     "output_type": "stream",
     "text": [
      "ENCFF633JKZ.bam  \u001b[0m\u001b[01;32msamtools\u001b[0m  \u001b[01;32msamtools_v1.21\u001b[0m\n"
     ]
    }
   ],
   "source": [
    "ls ${FD_SING}/test"
   ]
  },
  {
   "cell_type": "code",
   "execution_count": 4,
   "id": "4c6ca633-6ac6-4617-907d-7514bf6450aa",
   "metadata": {},
   "outputs": [],
   "source": [
    "ls ${FD_WORK}/scratch/try_samtools"
   ]
  },
  {
   "cell_type": "code",
   "execution_count": 7,
   "id": "25834f60-2c02-43e2-b717-2b7588c2435d",
   "metadata": {},
   "outputs": [],
   "source": [
    "cp ${FD_SING}/test/ENCFF633JKZ.bam ${FD_WORK}/scratch/try_samtools/"
   ]
  },
  {
   "cell_type": "code",
   "execution_count": 3,
   "id": "0592f678-7130-4ef6-accf-af732cc78ce0",
   "metadata": {},
   "outputs": [
    {
     "name": "stdout",
     "output_type": "stream",
     "text": [
      "ENCFF633JKZ.bam\n"
     ]
    }
   ],
   "source": [
    "ls ${FD_WORK}/scratch/try_samtools"
   ]
  },
  {
   "cell_type": "code",
   "execution_count": 4,
   "id": "3cd48ec5-84f1-4fe3-a110-30ff574c50bc",
   "metadata": {},
   "outputs": [
    {
     "name": "stdout",
     "output_type": "stream",
     "text": [
      "/data/reddylab/Kuei/bins/samtools\n",
      "\n",
      "samtools 1.21\n",
      "Using htslib 1.21\n",
      "Copyright (C) 2024 Genome Research Ltd.\n",
      "\n",
      "Samtools compilation details:\n",
      "    Features:       build=configure curses=yes \n",
      "    CC:             /opt/conda/conda-bld/samtools_1726175734089/_build_env/bin/x86_64-conda-linux-gnu-cc\n",
      "    CPPFLAGS:       -DNDEBUG -D_FORTIFY_SOURCE=2 -O2 -isystem /usr/local/include\n",
      "    CFLAGS:         -Wall -march=nocona -mtune=haswell -ftree-vectorize -fPIC -fstack-protector-strong -fno-plt -O2 -ffunction-sections -pipe -isystem /usr/local/include -fdebug-prefix-map=/opt/conda/conda-bld/samtools_1726175734089/work=/usr/local/src/conda/samtools-1.21 -fdebug-prefix-map=/usr/local=/usr/local/src/conda-prefix\n",
      "    LDFLAGS:        -Wl,-O2 -Wl,--sort-common -Wl,--as-needed -Wl,-z,relro -Wl,-z,now -Wl,--disable-new-dtags -Wl,--gc-sections -Wl,--allow-shlib-undefined -Wl,-rpath,/usr/local/lib -Wl,-rpath-link,/usr/local/lib -L/usr/local/lib\n",
      "    HTSDIR:         \n",
      "    LIBS:           \n",
      "    CURSES_LIB:     -ltinfow -lncursesw\n",
      "\n",
      "HTSlib compilation details:\n",
      "    Features:       build=configure libcurl=yes S3=yes GCS=yes libdeflate=yes lzma=yes bzip2=yes plugins=yes plugin-path=/usr/local/libexec/htslib htscodecs=1.6.1\n",
      "    CC:             /opt/conda/conda-bld/htslib_1726172129301/_build_env/bin/x86_64-conda-linux-gnu-cc\n",
      "    CPPFLAGS:       -DNDEBUG -D_FORTIFY_SOURCE=2 -O2 -isystem /usr/local/include\n",
      "    CFLAGS:         -Wall -march=nocona -mtune=haswell -ftree-vectorize -fPIC -fstack-protector-strong -fno-plt -O2 -ffunction-sections -pipe -isystem /usr/local/include -fdebug-prefix-map=/opt/conda/conda-bld/htslib_1726172129301/work=/usr/local/src/conda/htslib-1.21 -fdebug-prefix-map=/usr/local=/usr/local/src/conda-prefix -fvisibility=hidden\n",
      "    LDFLAGS:        -Wl,-O2 -Wl,--sort-common -Wl,--as-needed -Wl,-z,relro -Wl,-z,now -Wl,--disable-new-dtags -Wl,--gc-sections -Wl,--allow-shlib-undefined -Wl,-rpath,/usr/local/lib -Wl,-rpath-link,/usr/local/lib -L/usr/local/lib -fvisibility=hidden -rdynamic\n",
      "\n",
      "HTSlib URL scheme handlers present:\n",
      "    built-in:\t file, preload, data\n",
      "    S3 Multipart Upload:\t s3w+https, s3w+http, s3w\n",
      "    Amazon S3:\t s3+https, s3, s3+http\n",
      "    libcurl:\t gophers, smtp, wss, smb, rtsp, tftp, pop3, smbs, imaps, pop3s, ws, ftps, https, ftp, gopher, sftp, imap, http, smtps, scp, dict, mqtt, telnet\n",
      "    Google Cloud Storage:\t gs+http, gs+https, gs\n",
      "    crypt4gh-needed:\t crypt4gh\n",
      "    mem:\t mem\n"
     ]
    }
   ],
   "source": [
    "which samtools\n",
    "echo\n",
    "samtools --version"
   ]
  },
  {
   "cell_type": "code",
   "execution_count": 5,
   "id": "a8fc8e84-b5f0-49d5-9c89-b479a2da67dd",
   "metadata": {},
   "outputs": [
    {
     "name": "stdout",
     "output_type": "stream",
     "text": [
      "A00261:646:HLJNNDSX5:4:1626:22055:21746:TTAGGC_CGCGGT\t99\tchr1\t10563\t255\t49M\t=\t10563\t49\tCGCAGCTCCGCCCTCGCGGTGCTCTCCGGGTCTGTGCTGAGGAGAACGC\tFFFFFFFFFFFFFFFFFFFFFFFFFFFFFFFFFFFFFFFFFFFFFFFFF\tNH:i:1\tHI:i:1\tAS:i:97\tnM:i:0\tNM:i:0\tMD:Z:49\tjM:B:c,-1\tjI:B:i,-1\tMC:Z:49M\n",
      "A00261:646:HLJNNDSX5:4:2129:3016:36182:CCGAGC_GCCCTA\t99\tchr1\t10563\t255\t58M\t=\t10563\t58\tCGCAGCTCCGCCCTCGCGGTGCTCTCCGGGTCTGTGCTGAGGAGAACGCAACTCCGCC\tFFFFFFF:FFFF,FFFFFFFF::F,FFFFFFF:FFFFF::FFFFFF:FFFFFFFFFFF\tNH:i:1\tHI:i:1\tAS:i:115\tnM:i:0\tNM:i:0\tMD:Z:58\tjM:B:c,-1\tjI:B:i,-1\tMC:Z:58M\n",
      "A00261:646:HLJNNDSX5:4:1626:22055:21746:TTAGGC_CGCGGT\t147\tchr1\t10563\t255\t49M\t=\t10563\t-49\tCGCAGCTCCGCCCTCGCGGTGCTCTCCGGGTCTGTGCTGAGGAGAACGC\tFFFFFFFFFFFFFFFFFFFF:FFFFFFFFFFFFFFFFFFFFFFFFFFFF\tNH:i:1\tHI:i:1\tAS:i:97\tnM:i:0\tNM:i:0\tMD:Z:49\tjM:B:c,-1\tjI:B:i,-1\tMC:Z:49M\n",
      "A00261:646:HLJNNDSX5:4:2129:3016:36182:CCGAGC_GCCCTA\t147\tchr1\t10563\t255\t58M\t=\t10563\t-58\tCGCAGCTCCGCCCTCGCGGTGCTCTCCGGGTCTGTGCTGAGGAGAACGCAACTCCGCC\tFF,FFFFF:FFF:F::,FFFFFFF:,,FFFFFFFFFFFF,FFF,F:F::FFFFFFF::\tNH:i:1\tHI:i:1\tAS:i:115\tnM:i:0\tNM:i:0\tMD:Z:58\tjM:B:c,-1\tjI:B:i,-1\tMC:Z:58M\n",
      "A00261:646:HLJNNDSX5:4:1442:30409:13604:CAGGGT_GTAACT\t99\tchr1\t13309\t255\t49M\t=\t13309\t49\tGGCCTGGATCTGAGCCCTGGTGGAGGTCAAAGCCACCTTTGGTTCTGCC\tFFFFFFFFFFFFFFFFFFFFFFFFFFFFFFFFFFFFFFFFFFFFFFFFF\tNH:i:1\tHI:i:1\tAS:i:97\tnM:i:0\tNM:i:0\tMD:Z:49\tjM:B:c,-1\tjI:B:i,-1\tMC:Z:49M\n"
     ]
    }
   ],
   "source": [
    "samtools view ${FD_WORK}/scratch/try_samtools/ENCFF633JKZ.bam | head -n 5"
   ]
  },
  {
   "cell_type": "code",
   "execution_count": null,
   "id": "cd785e92-cec6-4322-9800-dd21f771deff",
   "metadata": {},
   "outputs": [],
   "source": []
  }
 ],
 "metadata": {
  "kernelspec": {
   "display_name": "Bash",
   "language": "bash",
   "name": "bash"
  },
  "language_info": {
   "codemirror_mode": "shell",
   "file_extension": ".sh",
   "mimetype": "text/x-sh",
   "name": "bash"
  }
 },
 "nbformat": 4,
 "nbformat_minor": 5
}
