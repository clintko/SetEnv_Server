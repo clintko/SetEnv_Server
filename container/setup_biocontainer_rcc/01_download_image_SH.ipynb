{
 "cells": [
  {
   "cell_type": "raw",
   "id": "085b53af-79ed-42c8-bf8a-d72c432e0982",
   "metadata": {},
   "source": [
    "---\n",
    "title: Setup Envionment 01\n",
    "subtitle: Project folder structure and file arrangement on Duke HARDAC Server\n",
    "format:\n",
    "    html:\n",
    "        code-fold:  true\n",
    "        code-tools: true\n",
    "---"
   ]
  },
  {
   "cell_type": "code",
   "execution_count": 1,
   "id": "b916c21e-1c0f-49f5-93a6-5629ed072b55",
   "metadata": {},
   "outputs": [
    {
     "name": "stdout",
     "output_type": "stream",
     "text": [
      "You are working on        \n",
      "BASE DIRECTORY (FD_BASE): /data/reddylab/Kuei\n",
      "REPO DIRECTORY (FD_REPO): /data/reddylab/Kuei/repo\n",
      "WORK DIRECTORY (FD_WORK): /data/reddylab/Kuei/work\n",
      "DATA DIRECTORY (FD_DATA): /data/reddylab/Kuei/data\n",
      "ENVS DIRECTORY (FD_ENVS): /data/reddylab/Kuei/envs\n",
      "BINS DIRECTORY (FD_BINS): /data/reddylab/Kuei/bins\n",
      "CONTAINER DIR. (FD_SING): /data/reddylab/Kuei/container\n",
      "TEMPORARY DIR. (FD_TEMP): /data/reddylab/Kuei/temp\n",
      "BACKUP    DIR. (FD_BACK): /data/reddylab/Kuei/backup\n",
      "\n"
     ]
    }
   ],
   "source": [
    "show_env_base"
   ]
  },
  {
   "cell_type": "code",
   "execution_count": 3,
   "id": "1a5efab8-f96c-45ea-b656-84f216b1c207",
   "metadata": {},
   "outputs": [
    {
     "name": "stdout",
     "output_type": "stream",
     "text": [
      "\u001b[0m\u001b[01;34marchive\u001b[0m  \u001b[01;34mbiocontainer\u001b[0m  \u001b[01;34mhome\u001b[0m  \u001b[01;34mproject\u001b[0m  \u001b[01;34mtest\u001b[0m  \u001b[01;34mtoolbox\u001b[0m\n"
     ]
    }
   ],
   "source": [
    "ls ${FD_SING}"
   ]
  },
  {
   "cell_type": "code",
   "execution_count": 4,
   "id": "445741e6-5b26-43b4-b8c9-8b40ae89bb47",
   "metadata": {},
   "outputs": [
    {
     "name": "stdout",
     "output_type": "stream",
     "text": [
      "\u001b[0m\u001b[01;32mbedops:2.4.40--h9f5acd7_0\u001b[0m\n",
      "\u001b[01;32mbedtools:2.30.0--h468198e_3\u001b[0m\n",
      "\u001b[01;32mbedtools:2.31.1--hf5e1c6e_1\u001b[0m\n",
      "\u001b[01;32mdeeptools:3.5.1--py_0\u001b[0m\n"
     ]
    }
   ],
   "source": [
    "ls -1 ${FD_SING}/biocontainer"
   ]
  },
  {
   "cell_type": "code",
   "execution_count": 5,
   "id": "92213dd7-570b-42d9-8db0-e9a8b1a0f915",
   "metadata": {},
   "outputs": [],
   "source": [
    "URL=\"https://depot.galaxyproject.org/singularity/samtools:1.21--h50ea8bc_0\"\n",
    "DIR=${FD_SING}/biocontainer\n",
    "singularity pull --dir ${DIR} ${URL}"
   ]
  },
  {
   "cell_type": "code",
   "execution_count": 6,
   "id": "bf8a21dd-ddde-4f47-98a8-d51a7f67a28a",
   "metadata": {},
   "outputs": [
    {
     "name": "stdout",
     "output_type": "stream",
     "text": [
      "\u001b[0m\u001b[01;32mbedops:2.4.40--h9f5acd7_0\u001b[0m\n",
      "\u001b[01;32mbedtools:2.30.0--h468198e_3\u001b[0m\n",
      "\u001b[01;32mbedtools:2.31.1--hf5e1c6e_1\u001b[0m\n",
      "\u001b[01;32mdeeptools:3.5.1--py_0\u001b[0m\n",
      "\u001b[01;32msamtools:1.21--h50ea8bc_0\u001b[0m\n"
     ]
    }
   ],
   "source": [
    "ls -1 ${FD_SING}/biocontainer"
   ]
  },
  {
   "cell_type": "code",
   "execution_count": null,
   "id": "ba39cb30-1711-43b5-ac04-53663cd8e26f",
   "metadata": {},
   "outputs": [],
   "source": []
  }
 ],
 "metadata": {
  "kernelspec": {
   "display_name": "Bash",
   "language": "bash",
   "name": "bash"
  },
  "language_info": {
   "codemirror_mode": "shell",
   "file_extension": ".sh",
   "mimetype": "text/x-sh",
   "name": "bash"
  }
 },
 "nbformat": 4,
 "nbformat_minor": 5
}
