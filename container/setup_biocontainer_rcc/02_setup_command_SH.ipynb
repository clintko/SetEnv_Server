{
 "cells": [
  {
   "cell_type": "raw",
   "id": "830ec27f-1287-4f01-8286-85fd28d30e89",
   "metadata": {},
   "source": [
    "---\n",
    "title: Setup Envionment 01\n",
    "subtitle: Project folder structure and file arrangement on Duke HARDAC Server\n",
    "format:\n",
    "    html:\n",
    "        code-fold:  true\n",
    "        code-tools: true\n",
    "---"
   ]
  },
  {
   "cell_type": "code",
   "execution_count": 2,
   "id": "a779f77b-34cc-46ae-9dfa-dbf3ee6d2a1f",
   "metadata": {},
   "outputs": [
    {
     "name": "stdout",
     "output_type": "stream",
     "text": [
      "/data/reddylab/Kuei/bins\n",
      "\u001b[0m\u001b[01;34mbedops\u001b[0m\n",
      "\u001b[01;32mbedtools\u001b[0m\n",
      "\u001b[01;34mcmdstan\u001b[0m\n",
      "\u001b[01;32mdeeptools\u001b[0m\n",
      "\u001b[01;32mfinger\u001b[0m\n",
      "\u001b[01;32mhogs\u001b[0m\n",
      "\u001b[01;34mhogs_file\u001b[0m\n",
      "\u001b[01;32mmonitor.sh\u001b[0m\n",
      "\u001b[01;32mquarto\u001b[0m\n",
      "set_cmdstan.ipynb\n",
      "set_ucsc.ipynb\n",
      "\u001b[01;34mtest_cmdstan\u001b[0m\n",
      "test_run_cmdstan.ipynb\n",
      "\u001b[01;34mucsc\u001b[0m\n",
      "\u001b[01;32mwatchcat.sh\u001b[0m\n",
      "\u001b[01;32mwatchtail.sh\u001b[0m\n"
     ]
    }
   ],
   "source": [
    "echo  ${FD_BINS}\n",
    "ls -1 ${FD_BINS}"
   ]
  },
  {
   "cell_type": "code",
   "execution_count": 1,
   "id": "d8b3bf39-28fc-40da-b810-dcdfa87d1a62",
   "metadata": {},
   "outputs": [],
   "source": [
    "cat > template_container.sh << 'EOF'\n",
    "#!/bin/bash\n",
    "\n",
    "#########################################\n",
    "### Wrapper of PLACEHOLDER_CMD container\n",
    "### =====================================\n",
    "\n",
    "### container image\n",
    "IMG=\"PLACEHOLDER_IMG\"\n",
    "\n",
    "### command name\n",
    "CMD=\"PLACEHOLDER_CMD\"\n",
    "\n",
    "### command arguments\n",
    "ARG=\"$@\"\n",
    "\n",
    "### execute\n",
    "singularity exec   \\\n",
    "    -B ${PWD}      \\\n",
    "    -B /data:/data \\\n",
    "    ${IMG} ${CMD} ${ARG}\n",
    "\n",
    "EOF"
   ]
  },
  {
   "cell_type": "markdown",
   "id": "c9eeb41b-3926-4091-adba-36691f77a06c",
   "metadata": {},
   "source": [
    "## Samtools"
   ]
  },
  {
   "cell_type": "code",
   "execution_count": 18,
   "id": "e1344caf-91b5-415d-a37a-ba2a2a384173",
   "metadata": {},
   "outputs": [
    {
     "name": "stdout",
     "output_type": "stream",
     "text": [
      "\u001b[0m\u001b[01;32mbedops:2.4.40--h9f5acd7_0\u001b[0m\n",
      "\u001b[01;32mbedtools:2.30.0--h468198e_3\u001b[0m\n",
      "\u001b[01;32mbedtools:2.31.1--hf5e1c6e_1\u001b[0m\n",
      "\u001b[01;32mdeeptools:3.5.1--py_0\u001b[0m\n",
      "\u001b[01;32msamtools:1.21--h50ea8bc_0\u001b[0m\n"
     ]
    }
   ],
   "source": [
    "ls -1 ${FD_SING}/biocontainer"
   ]
  },
  {
   "cell_type": "code",
   "execution_count": 19,
   "id": "53c095f7-d948-4813-a3e9-b8ba128d8809",
   "metadata": {},
   "outputs": [
    {
     "name": "stdout",
     "output_type": "stream",
     "text": [
      "samtools\n",
      "/data/reddylab/Kuei/bins/samtools\n",
      "/data/reddylab/Kuei/container/biocontainer/samtools:1.21--h50ea8bc_0\n"
     ]
    }
   ],
   "source": [
    "CMD=samtools\n",
    "TXT=samtools:1.21\n",
    "IMG=$(ls -1 ${FD_SING}/biocontainer | grep ${TXT})\n",
    "\n",
    "FD_CMD=${FD_BINS}\n",
    "FN_CMD=${CMD}\n",
    "FP_CMD=${FD_CMD}/${FN_CMD}\n",
    "\n",
    "FD_IMG=${FD_SING}/biocontainer\n",
    "FN_IMG=${IMG}\n",
    "FP_IMG=${FD_IMG}/${FN_IMG}\n",
    "\n",
    "cp  template_container.sh              ${FP_CMD}\n",
    "sed -i \"s|PLACEHOLDER_IMG|${FP_IMG}|g\" ${FP_CMD}\n",
    "sed -i \"s|PLACEHOLDER_CMD|${FN_CMD}|g\" ${FP_CMD}\n",
    "chmod +x ${FP_CMD}\n",
    "\n",
    "echo ${FN_CMD}\n",
    "echo ${FP_CMD}\n",
    "echo ${FP_IMG}"
   ]
  },
  {
   "cell_type": "code",
   "execution_count": 20,
   "id": "e7774454-14a3-4a2c-8cc1-1bac58733d91",
   "metadata": {},
   "outputs": [
    {
     "name": "stdout",
     "output_type": "stream",
     "text": [
      "samtools 1.21\n",
      "Using htslib 1.21\n",
      "Copyright (C) 2024 Genome Research Ltd.\n",
      "\n",
      "Samtools compilation details:\n",
      "    Features:       build=configure curses=yes \n",
      "    CC:             /opt/conda/conda-bld/samtools_1726175734089/_build_env/bin/x86_64-conda-linux-gnu-cc\n",
      "    CPPFLAGS:       -DNDEBUG -D_FORTIFY_SOURCE=2 -O2 -isystem /usr/local/include\n",
      "    CFLAGS:         -Wall -march=nocona -mtune=haswell -ftree-vectorize -fPIC -fstack-protector-strong -fno-plt -O2 -ffunction-sections -pipe -isystem /usr/local/include -fdebug-prefix-map=/opt/conda/conda-bld/samtools_1726175734089/work=/usr/local/src/conda/samtools-1.21 -fdebug-prefix-map=/usr/local=/usr/local/src/conda-prefix\n",
      "    LDFLAGS:        -Wl,-O2 -Wl,--sort-common -Wl,--as-needed -Wl,-z,relro -Wl,-z,now -Wl,--disable-new-dtags -Wl,--gc-sections -Wl,--allow-shlib-undefined -Wl,-rpath,/usr/local/lib -Wl,-rpath-link,/usr/local/lib -L/usr/local/lib\n",
      "    HTSDIR:         \n",
      "    LIBS:           \n",
      "    CURSES_LIB:     -ltinfow -lncursesw\n",
      "\n",
      "HTSlib compilation details:\n",
      "    Features:       build=configure libcurl=yes S3=yes GCS=yes libdeflate=yes lzma=yes bzip2=yes plugins=yes plugin-path=/usr/local/libexec/htslib htscodecs=1.6.1\n",
      "    CC:             /opt/conda/conda-bld/htslib_1726172129301/_build_env/bin/x86_64-conda-linux-gnu-cc\n",
      "    CPPFLAGS:       -DNDEBUG -D_FORTIFY_SOURCE=2 -O2 -isystem /usr/local/include\n",
      "    CFLAGS:         -Wall -march=nocona -mtune=haswell -ftree-vectorize -fPIC -fstack-protector-strong -fno-plt -O2 -ffunction-sections -pipe -isystem /usr/local/include -fdebug-prefix-map=/opt/conda/conda-bld/htslib_1726172129301/work=/usr/local/src/conda/htslib-1.21 -fdebug-prefix-map=/usr/local=/usr/local/src/conda-prefix -fvisibility=hidden\n",
      "    LDFLAGS:        -Wl,-O2 -Wl,--sort-common -Wl,--as-needed -Wl,-z,relro -Wl,-z,now -Wl,--disable-new-dtags -Wl,--gc-sections -Wl,--allow-shlib-undefined -Wl,-rpath,/usr/local/lib -Wl,-rpath-link,/usr/local/lib -L/usr/local/lib -fvisibility=hidden -rdynamic\n",
      "\n",
      "HTSlib URL scheme handlers present:\n",
      "    built-in:\t file, preload, data\n",
      "    S3 Multipart Upload:\t s3w+https, s3w+http, s3w\n",
      "    Amazon S3:\t s3+https, s3, s3+http\n",
      "    libcurl:\t gophers, smtp, wss, smb, rtsp, tftp, pop3, smbs, imaps, pop3s, ws, ftps, https, ftp, gopher, sftp, imap, http, smtps, scp, dict, mqtt, telnet\n",
      "    Google Cloud Storage:\t gs+http, gs+https, gs\n",
      "    crypt4gh-needed:\t crypt4gh\n",
      "    mem:\t mem\n"
     ]
    }
   ],
   "source": [
    "${FD_BINS}/samtools --version"
   ]
  },
  {
   "cell_type": "markdown",
   "id": "f03dbc21-e766-4ff1-ae9f-c2b010dd8e9f",
   "metadata": {},
   "source": [
    "## Bedtools"
   ]
  },
  {
   "cell_type": "code",
   "execution_count": 2,
   "id": "05231068-0fd9-4ba1-bacf-8e866e552e97",
   "metadata": {},
   "outputs": [
    {
     "name": "stdout",
     "output_type": "stream",
     "text": [
      "\u001b[0m\u001b[01;32mbedops:2.4.40--h9f5acd7_0\u001b[0m\n",
      "\u001b[01;32mbedtools:2.30.0--h468198e_3\u001b[0m\n",
      "\u001b[01;32mbedtools:2.31.1--hf5e1c6e_1\u001b[0m\n",
      "\u001b[01;32mdeeptools:3.5.1--py_0\u001b[0m\n"
     ]
    }
   ],
   "source": [
    "ls -1 ${FD_SING}/biocontainer"
   ]
  },
  {
   "cell_type": "code",
   "execution_count": 3,
   "id": "c72e1cd2-8858-4100-9c65-92344cbfbfc0",
   "metadata": {},
   "outputs": [
    {
     "name": "stdout",
     "output_type": "stream",
     "text": [
      "bedtools\n",
      "/data/reddylab/Kuei/bins/bedtools\n",
      "/data/reddylab/Kuei/container/biocontainer/bedtools:2.31.1--hf5e1c6e_1\n"
     ]
    }
   ],
   "source": [
    "CMD=bedtools\n",
    "TXT=bedtools:2.31\n",
    "IMG=$(ls -1 ${FD_SING}/biocontainer | grep ${TXT})\n",
    "\n",
    "FD_CMD=${FD_BINS}\n",
    "FN_CMD=${CMD}\n",
    "FP_CMD=${FD_CMD}/${FN_CMD}\n",
    "\n",
    "FD_IMG=${FD_SING}/biocontainer\n",
    "FN_IMG=${IMG}\n",
    "FP_IMG=${FD_IMG}/${FN_IMG}\n",
    "\n",
    "cp  template_container.sh              ${FP_CMD}\n",
    "sed -i \"s|PLACEHOLDER_IMG|${FP_IMG}|g\" ${FP_CMD}\n",
    "sed -i \"s|PLACEHOLDER_CMD|${FN_CMD}|g\" ${FP_CMD}\n",
    "chmod +x ${FP_CMD}\n",
    "\n",
    "echo ${FN_CMD}\n",
    "echo ${FP_CMD}\n",
    "echo ${FP_IMG}"
   ]
  },
  {
   "cell_type": "code",
   "execution_count": 15,
   "id": "22b514c0-a25d-484a-8d5f-800199b9cdb7",
   "metadata": {},
   "outputs": [
    {
     "name": "stdout",
     "output_type": "stream",
     "text": [
      "bedtools v2.31.1\n"
     ]
    }
   ],
   "source": [
    "${FD_BINS}/bedtools --version"
   ]
  },
  {
   "cell_type": "markdown",
   "id": "fbffb06c-3515-4263-bdd3-f2a786e3734e",
   "metadata": {},
   "source": [
    "## Bedops"
   ]
  },
  {
   "cell_type": "code",
   "execution_count": 6,
   "id": "4d2f9916-46c6-4585-811b-5f565803b522",
   "metadata": {},
   "outputs": [
    {
     "name": "stdout",
     "output_type": "stream",
     "text": [
      "\u001b[0m\u001b[01;32mbedops:2.4.40--h9f5acd7_0\u001b[0m\n",
      "\u001b[01;32mbedtools:2.30.0--h468198e_3\u001b[0m\n",
      "\u001b[01;32mbedtools:2.31.1--hf5e1c6e_1\u001b[0m\n",
      "\u001b[01;32mdeeptools:3.5.1--py_0\u001b[0m\n"
     ]
    }
   ],
   "source": [
    "ls -1 ${FD_SING}/biocontainer"
   ]
  },
  {
   "cell_type": "code",
   "execution_count": 7,
   "id": "19e29b59-ef87-4ea3-a362-f93f970d6239",
   "metadata": {},
   "outputs": [],
   "source": [
    "mkdir -p ${FD_BINS}/bedops"
   ]
  },
  {
   "cell_type": "code",
   "execution_count": 8,
   "id": "673c56a4-2975-493e-b1cb-ce4b5bc13392",
   "metadata": {},
   "outputs": [
    {
     "name": "stdout",
     "output_type": "stream",
     "text": [
      "bedops\n",
      "/data/reddylab/Kuei/bins/bedops/bedops\n",
      "/data/reddylab/Kuei/container/biocontainer/bedops:2.4.40--h9f5acd7_0\n"
     ]
    }
   ],
   "source": [
    "CMD=bedops\n",
    "TXT=bedops\n",
    "IMG=$(ls -1 ${FD_SING}/biocontainer | grep ${TXT})\n",
    "\n",
    "FD_CMD=${FD_BINS}/bedops\n",
    "FN_CMD=${CMD}\n",
    "FP_CMD=${FD_CMD}/${FN_CMD}\n",
    "\n",
    "FD_IMG=${FD_SING}/biocontainer\n",
    "FN_IMG=${IMG}\n",
    "FP_IMG=${FD_IMG}/${FN_IMG}\n",
    "\n",
    "cp  template_container.sh              ${FP_CMD}\n",
    "sed -i \"s|PLACEHOLDER_IMG|${FP_IMG}|g\" ${FP_CMD}\n",
    "sed -i \"s|PLACEHOLDER_CMD|${FN_CMD}|g\" ${FP_CMD}\n",
    "chmod +x ${FP_CMD}\n",
    "\n",
    "echo ${FN_CMD}\n",
    "echo ${FP_CMD}\n",
    "echo ${FP_IMG}"
   ]
  },
  {
   "cell_type": "code",
   "execution_count": 10,
   "id": "84b33733-1f21-4171-bb99-59fdab30f4ee",
   "metadata": {},
   "outputs": [
    {
     "name": "stdout",
     "output_type": "stream",
     "text": [
      "bedops\n",
      "  citation: http://bioinformatics.oxfordjournals.org/content/28/14/1919.abstract\n",
      "            https://doi.org/10.1093/bioinformatics/bts277\n",
      "  version:  2.4.40 (typical)\n",
      "  authors:  Shane Neph & Scott Kuehn\n"
     ]
    }
   ],
   "source": [
    "${FD_BINS}/bedops/bedops --version"
   ]
  },
  {
   "cell_type": "code",
   "execution_count": 11,
   "id": "79b4699e-9aaf-4c51-afc0-89dc6f07a56e",
   "metadata": {},
   "outputs": [
    {
     "name": "stdout",
     "output_type": "stream",
     "text": [
      "bedextract\n",
      "/data/reddylab/Kuei/bins/bedops/bedextract\n",
      "/data/reddylab/Kuei/container/biocontainer/bedops:2.4.40--h9f5acd7_0\n"
     ]
    }
   ],
   "source": [
    "CMD=bedextract\n",
    "TXT=bedops\n",
    "IMG=$(ls -1 ${FD_SING}/biocontainer | grep ${TXT})\n",
    "\n",
    "FD_CMD=${FD_BINS}/bedops\n",
    "FN_CMD=${CMD}\n",
    "FP_CMD=${FD_CMD}/${FN_CMD}\n",
    "\n",
    "FD_IMG=${FD_SING}/biocontainer\n",
    "FN_IMG=${IMG}\n",
    "FP_IMG=${FD_IMG}/${FN_IMG}\n",
    "\n",
    "cp  template_container.sh              ${FP_CMD}\n",
    "sed -i \"s|PLACEHOLDER_IMG|${FP_IMG}|g\" ${FP_CMD}\n",
    "sed -i \"s|PLACEHOLDER_CMD|${FN_CMD}|g\" ${FP_CMD}\n",
    "chmod +x ${FP_CMD}\n",
    "\n",
    "echo ${FN_CMD}\n",
    "echo ${FP_CMD}\n",
    "echo ${FP_IMG}"
   ]
  },
  {
   "cell_type": "code",
   "execution_count": 13,
   "id": "204bced3-bc60-46ed-8048-77887ff4682a",
   "metadata": {},
   "outputs": [
    {
     "name": "stdout",
     "output_type": "stream",
     "text": [
      "bedextract\n",
      "  citation: http://bioinformatics.oxfordjournals.org/content/28/14/1919.abstract\n",
      "            https://doi.org/10.1093/bioinformatics/bts277\n",
      "  version:  2.4.40 (typical)\n",
      "  authors:  Shane Neph & Alex Reynolds\n"
     ]
    }
   ],
   "source": [
    "${FD_BINS}/bedops/bedextract --version"
   ]
  },
  {
   "cell_type": "code",
   "execution_count": 16,
   "id": "52a4db57-4add-444b-ab55-e7e243fb707e",
   "metadata": {},
   "outputs": [
    {
     "name": "stdout",
     "output_type": "stream",
     "text": [
      "bedmap\n",
      "/data/reddylab/Kuei/bins/bedops/bedmap\n",
      "/data/reddylab/Kuei/container/biocontainer/bedops:2.4.40--h9f5acd7_0\n"
     ]
    }
   ],
   "source": [
    "CMD=bedmap\n",
    "TXT=bedops\n",
    "IMG=$(ls -1 ${FD_SING}/biocontainer | grep ${TXT})\n",
    "\n",
    "FD_CMD=${FD_BINS}/bedops\n",
    "FN_CMD=${CMD}\n",
    "FP_CMD=${FD_CMD}/${FN_CMD}\n",
    "\n",
    "FD_IMG=${FD_SING}/biocontainer\n",
    "FN_IMG=${IMG}\n",
    "FP_IMG=${FD_IMG}/${FN_IMG}\n",
    "\n",
    "cp  template_container.sh              ${FP_CMD}\n",
    "sed -i \"s|PLACEHOLDER_IMG|${FP_IMG}|g\" ${FP_CMD}\n",
    "sed -i \"s|PLACEHOLDER_CMD|${FN_CMD}|g\" ${FP_CMD}\n",
    "chmod +x ${FP_CMD}\n",
    "\n",
    "echo ${FN_CMD}\n",
    "echo ${FP_CMD}\n",
    "echo ${FP_IMG}"
   ]
  },
  {
   "cell_type": "code",
   "execution_count": 17,
   "id": "a89bbaea-e3f8-41a7-9fd4-9636379ac3c4",
   "metadata": {},
   "outputs": [
    {
     "name": "stdout",
     "output_type": "stream",
     "text": [
      "bedmap\n",
      "  citation: http://bioinformatics.oxfordjournals.org/content/28/14/1919.abstract\n",
      "            https://doi.org/10.1093/bioinformatics/bts277\n",
      "  version:  2.4.40 (typical)\n",
      "  authors:  Shane Neph & Scott Kuehn\n"
     ]
    }
   ],
   "source": [
    "${FD_BINS}/bedops/bedmap --version"
   ]
  },
  {
   "cell_type": "code",
   "execution_count": null,
   "id": "5e1983ab-fa9a-4277-b2cb-491ee88e0468",
   "metadata": {},
   "outputs": [],
   "source": []
  },
  {
   "cell_type": "code",
   "execution_count": null,
   "id": "f24028ce-af12-43ae-94e0-f0c0cae1a68b",
   "metadata": {},
   "outputs": [],
   "source": [
    "CMD=bedtools\n",
    "TXT=CMD\n",
    "IMG=$(ls -1 ${FD_SING}/biocontainer | grep bedtools)\n",
    "\n",
    "sed -i \"s|PLACEHOLDER_DIR|${DIR}|g\" ${FD_BINS}/${CMD}\n",
    "sed -i \"s|PLACEHOLDER_IMG|${IMG}|g\" ${FD_BINS}/${CMD}\n",
    "sed -i \"s|PLACEHOLDER_CMD|${CMD}|g\" ${FD_BINS}/${CMD}\n",
    "chmod +x ${FD_BINS}/${CMD}\n",
    "cat ${FD_BINS}/${CMD}"
   ]
  },
  {
   "cell_type": "code",
   "execution_count": null,
   "id": "5baa736f-e7f3-4d91-b2ef-ca2c311a96ee",
   "metadata": {},
   "outputs": [],
   "source": [
    "# CMD=\n",
    "# cp ${FD_BINS}/template_container.sh"
   ]
  },
  {
   "cell_type": "code",
   "execution_count": null,
   "id": "7dffae16-24ae-4c7c-a7ea-9d01c415ba2a",
   "metadata": {},
   "outputs": [],
   "source": [
    "CMD=bedextract\n",
    "TXT=bedops\n",
    "IMG=$(ls -1 ${FD_SING}/biocontainer | grep ${TXT})\n"
   ]
  },
  {
   "cell_type": "code",
   "execution_count": null,
   "id": "ecb3632e-3919-472c-9fd3-d90457ad70a6",
   "metadata": {},
   "outputs": [],
   "source": []
  },
  {
   "cell_type": "code",
   "execution_count": null,
   "id": "fee66d2f-500f-4b62-906d-f33fb974e793",
   "metadata": {},
   "outputs": [],
   "source": []
  },
  {
   "cell_type": "code",
   "execution_count": null,
   "id": "8781fef4-5524-4e45-84c4-6922cc6d7cd3",
   "metadata": {},
   "outputs": [],
   "source": [
    "CMD=\"bedtools\"\n",
    "IMG=\"bedtools:2.30.0--h468198e_3\"\n",
    "URL=\"https://depot.galaxyproject.org/singularity/${IMG}\"\n",
    "DIR=${FD_SING}/biocontainer\n",
    "\n",
    "if [[ -f \"${DIR}/${IMG}\" ]]; then\n",
    "    echo \"${IMG} already exists.\"\n",
    "else\n",
    "    echo \"${IMG} does not exists. Download now...\"\n",
    "    singularity pull --dir ${DIR} ${URL}\n",
    "fi"
   ]
  },
  {
   "cell_type": "code",
   "execution_count": null,
   "id": "cc95ef38-c7db-49df-8377-7a26d9af1507",
   "metadata": {},
   "outputs": [],
   "source": [
    "sed -i \"s|PLACEHOLDER_DIR|${DIR}|g\" ${FD_BIN}/${CMD}\n",
    "sed -i \"s|PLACEHOLDER_IMG|${IMG}|g\" ${FD_BIN}/${CMD}\n",
    "sed -i \"s|PLACEHOLDER_CMD|${CMD}|g\" ${FD_BIN}/${CMD}\n",
    "chmod +x ${FD_BIN}/${CMD}\n",
    "cat ${FD_BIN}/${CMD}"
   ]
  }
 ],
 "metadata": {
  "kernelspec": {
   "display_name": "Bash",
   "language": "bash",
   "name": "bash"
  },
  "language_info": {
   "codemirror_mode": "shell",
   "file_extension": ".sh",
   "mimetype": "text/x-sh",
   "name": "bash"
  }
 },
 "nbformat": 4,
 "nbformat_minor": 5
}
