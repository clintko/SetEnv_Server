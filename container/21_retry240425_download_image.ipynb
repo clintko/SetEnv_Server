{
 "cells": [
  {
   "cell_type": "markdown",
   "id": "3bca0269-d76b-4188-8544-1ce9da74df28",
   "metadata": {},
   "source": [
    "https://biocontainers.pro/tools/bedtools"
   ]
  },
  {
   "cell_type": "code",
   "execution_count": 1,
   "id": "7b17aab4-9e86-4d7c-83e5-c0bcf67f4a00",
   "metadata": {},
   "outputs": [
    {
     "name": "stdout",
     "output_type": "stream",
     "text": [
      "You are working on             Duke Server: HARDAC\n",
      "BASE DIRECTORY (FD_BASE):      /data/reddylab/Kuei\n",
      "REPO DIRECTORY (FD_REPO):      /data/reddylab/Kuei/repo\n",
      "WORK DIRECTORY (FD_WORK):      /data/reddylab/Kuei/work\n",
      "DATA DIRECTORY (FD_DATA):      /data/reddylab/Kuei/data\n",
      "CONTAINER DIR. (FD_SING):      /data/reddylab/Kuei/container\n",
      "\n"
     ]
    }
   ],
   "source": [
    "source ../config_path_duke_hardac.sh\n",
    "show_env"
   ]
  },
  {
   "cell_type": "code",
   "execution_count": 3,
   "id": "2f404810-614d-4947-8c35-e70583cbcb70",
   "metadata": {},
   "outputs": [
    {
     "name": "stdout",
     "output_type": "stream",
     "text": [
      "\u001b[0m\u001b[38;5;27mbiocontainer\u001b[0m  \u001b[38;5;27mhome\u001b[0m  \u001b[38;5;27mproject\u001b[0m  \u001b[38;5;27mproject_backup\u001b[0m  \u001b[38;5;27mproject_tmp\u001b[0m  \u001b[38;5;27mrstudio_tmp\u001b[0m  \u001b[38;5;27mtoolbox\u001b[0m\n"
     ]
    }
   ],
   "source": [
    "ls ${FD_SING}"
   ]
  },
  {
   "cell_type": "code",
   "execution_count": 4,
   "id": "d3a2060c-9781-444f-87f1-03193819faf9",
   "metadata": {},
   "outputs": [
    {
     "name": "stdout",
     "output_type": "stream",
     "text": [
      "\u001b[0m\u001b[38;5;34mbedtools:2.30.0--h468198e_3\u001b[0m  \u001b[38;5;34mdeeptools:3.5.1--py_0\u001b[0m\n"
     ]
    }
   ],
   "source": [
    "ls ${FD_SING}/biocontainer"
   ]
  },
  {
   "cell_type": "code",
   "execution_count": 5,
   "id": "c6c77323-acd1-4e66-a605-bdc28b68b0e4",
   "metadata": {},
   "outputs": [
    {
     "name": "stdout",
     "output_type": "stream",
     "text": [
      "\u001b[34mINFO:   \u001b[0m Downloading network image\n",
      "127.7KiB / 12.8MiB [-----------------------------------------] 1 % 1.0 MiB/s 12s\n",
      "\u001b[1A\u001b[J431.7KiB / 12.8MiB [>-----------------------------------------] 3 % 1.8 MiB/s 7s\n",
      "\u001b[1A\u001b[J1.2MiB / 12.8MiB [===>----------------------------------------] 9 % 3.2 MiB/s 3s\n",
      "\u001b[1A\u001b[J2.9MiB / 12.8MiB [=========>---------------------------------] 22 % 6.0 MiB/s 1s\n",
      "\u001b[1A\u001b[J4.8MiB / 12.8MiB [===============>---------------------------] 38 % 8.0 MiB/s 0s\n",
      "\u001b[1A\u001b[J6.7MiB / 12.8MiB [======================>--------------------] 53 % 9.4 MiB/s 0s\n",
      "\u001b[1A\u001b[J8.6MiB / 12.8MiB [===========================>--------------] 67 % 10.3 MiB/s 0s\n",
      "\u001b[1A\u001b[J10.5MiB / 12.8MiB [=================================>-------] 82 % 11.0 MiB/s 0s\n",
      "\u001b[1A\u001b[J12.4MiB / 12.8MiB [=======================================>-] 97 % 11.5 MiB/s 0s\n",
      "\u001b[1A\u001b[J12.8MiB / 12.8MiB [========================================] 100 % 11.3 MiB/s 0s\n",
      "\u001b[1A\u001b[J12.8MiB / 12.8MiB [========================================] 100 % 11.3 MiB/s 0s\n"
     ]
    }
   ],
   "source": [
    "URL=\"https://depot.galaxyproject.org/singularity/bedtools:2.31.1--hf5e1c6e_1\"\n",
    "DIR=${FD_SING}/biocontainer\n",
    "singularity pull --dir ${DIR} ${URL}"
   ]
  },
  {
   "cell_type": "code",
   "execution_count": 6,
   "id": "03508872-f092-4a90-a0f8-5edcbb0d380b",
   "metadata": {},
   "outputs": [
    {
     "name": "stdout",
     "output_type": "stream",
     "text": [
      "\u001b[0m\u001b[38;5;34mbedtools:2.30.0--h468198e_3\u001b[0m  \u001b[38;5;34mbedtools:2.31.1--hf5e1c6e_1\u001b[0m  \u001b[38;5;34mdeeptools:3.5.1--py_0\u001b[0m\n"
     ]
    }
   ],
   "source": [
    "ls ${FD_SING}/biocontainer"
   ]
  },
  {
   "cell_type": "code",
   "execution_count": 7,
   "id": "ae233520-902d-417f-8c60-9fc27b3e0a7d",
   "metadata": {},
   "outputs": [
    {
     "name": "stdout",
     "output_type": "stream",
     "text": [
      "/data/reddylab/Kuei/container/biocontainer\n"
     ]
    }
   ],
   "source": [
    "echo ${FD_SING}/biocontainer"
   ]
  },
  {
   "cell_type": "code",
   "execution_count": null,
   "id": "e6957342-3fa7-48d0-b3c9-9b1f52c7e12b",
   "metadata": {},
   "outputs": [],
   "source": []
  }
 ],
 "metadata": {
  "kernelspec": {
   "display_name": "Bash",
   "language": "bash",
   "name": "bash"
  },
  "language_info": {
   "codemirror_mode": "shell",
   "file_extension": ".sh",
   "mimetype": "text/x-sh",
   "name": "bash"
  }
 },
 "nbformat": 4,
 "nbformat_minor": 5
}
