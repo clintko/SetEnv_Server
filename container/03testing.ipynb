{
 "cells": [
  {
   "cell_type": "code",
   "execution_count": 1,
   "id": "058e9dde-590c-4ccc-a393-cced4ad8bdfc",
   "metadata": {},
   "outputs": [
    {
     "name": "stdout",
     "output_type": "stream",
     "text": [
      "You are on Duke Server: HARDAC\n",
      "BASE DIRECTORY:     /gpfs/fs1/data/reddylab/Kuei\n",
      "PATH OF SOURCE:     /gpfs/fs1/data/reddylab/Kuei/source\n",
      "PATH OF EXECUTABLE: /gpfs/fs1/data/reddylab/Kuei/exe\n",
      "PATH OF ANNOTATION: /gpfs/fs1/data/reddylab/Kuei/annotation\n",
      "PATH OF PROJECT:    /gpfs/fs1/data/reddylab/Kuei/GitRepo/Proj_CombEffect_STARRseq/notebooks\n",
      "PATH OF RESULTS:    /gpfs/fs1/data/reddylab/Kuei/out/proj_combeffect\n",
      "\n"
     ]
    }
   ],
   "source": [
    "source ../config_duke.sh; show_env"
   ]
  },
  {
   "cell_type": "code",
   "execution_count": 3,
   "id": "96f59cba-fa00-4d2b-89bc-f58685d346df",
   "metadata": {},
   "outputs": [
    {
     "name": "stdout",
     "output_type": "stream",
     "text": [
      "\u001b[0m\u001b[38;5;34mbedtools:2.30.0--h468198e_3\u001b[0m  \u001b[38;5;34mdeeptools:3.5.1--py_0\u001b[0m\n"
     ]
    }
   ],
   "source": [
    "ls ${FD_SING}/biocontainer"
   ]
  },
  {
   "cell_type": "code",
   "execution_count": 4,
   "id": "14b4a9d3-1f18-4bdb-a220-dcdb0d6692a7",
   "metadata": {},
   "outputs": [
    {
     "name": "stdout",
     "output_type": "stream",
     "text": [
      "/gpfs/fs1/data/reddylab/Kuei/singularity/biocontainer/bedtools:2.30.0--h468198e_3\n"
     ]
    }
   ],
   "source": [
    "IMAGE=$(ls ${FD_SING}/biocontainer/bedtools:2.30.0*)\n",
    "echo ${IMAGE}"
   ]
  },
  {
   "cell_type": "code",
   "execution_count": 7,
   "id": "be5ee443-5c60-4a3a-b68f-7c0ae32428b0",
   "metadata": {},
   "outputs": [
    {
     "name": "stdout",
     "output_type": "stream",
     "text": [
      "bedtools is a powerful toolset for genome arithmetic.\n",
      "\n",
      "Version:   v2.30.0\n",
      "About:     developed in the quinlanlab.org and by many contributors worldwide.\n",
      "Docs:      http://bedtools.readthedocs.io/\n",
      "Code:      https://github.com/arq5x/bedtools2\n",
      "Mail:      https://groups.google.com/forum/#!forum/bedtools-discuss\n",
      "\n",
      "Usage:     bedtools <subcommand> [options]\n",
      "\n",
      "The bedtools sub-commands include:\n",
      "\n",
      "[ Genome arithmetic ]\n",
      "    intersect     Find overlapping intervals in various ways.\n",
      "    window        Find overlapping intervals within a window around an interval.\n",
      "    closest       Find the closest, potentially non-overlapping interval.\n",
      "    coverage      Compute the coverage over defined intervals.\n",
      "    map           Apply a function to a column for each overlapping interval.\n",
      "    genomecov     Compute the coverage over an entire genome.\n",
      "    merge         Combine overlapping/nearby intervals into a single interval.\n",
      "    cluster       Cluster (but don't merge) overlapping/nearby intervals.\n",
      "    complement    Extract intervals _not_ represented by an interval file.\n",
      "    shift         Adjust the position of intervals.\n",
      "    subtract      Remove intervals based on overlaps b/w two files.\n",
      "    slop          Adjust the size of intervals.\n",
      "    flank         Create new intervals from the flanks of existing intervals.\n",
      "    sort          Order the intervals in a file.\n",
      "    random        Generate random intervals in a genome.\n",
      "    shuffle       Randomly redistribute intervals in a genome.\n",
      "    sample        Sample random records from file using reservoir sampling.\n",
      "    spacing       Report the gap lengths between intervals in a file.\n",
      "    annotate      Annotate coverage of features from multiple files.\n",
      "\n",
      "[ Multi-way file comparisons ]\n",
      "    multiinter    Identifies common intervals among multiple interval files.\n",
      "    unionbedg     Combines coverage intervals from multiple BEDGRAPH files.\n",
      "\n",
      "[ Paired-end manipulation ]\n",
      "    pairtobed     Find pairs that overlap intervals in various ways.\n",
      "    pairtopair    Find pairs that overlap other pairs in various ways.\n",
      "\n",
      "[ Format conversion ]\n",
      "    bamtobed      Convert BAM alignments to BED (& other) formats.\n",
      "    bedtobam      Convert intervals to BAM records.\n",
      "    bamtofastq    Convert BAM records to FASTQ records.\n",
      "    bedpetobam    Convert BEDPE intervals to BAM records.\n",
      "    bed12tobed6   Breaks BED12 intervals into discrete BED6 intervals.\n",
      "\n",
      "[ Fasta manipulation ]\n",
      "    getfasta      Use intervals to extract sequences from a FASTA file.\n",
      "    maskfasta     Use intervals to mask sequences from a FASTA file.\n",
      "    nuc           Profile the nucleotide content of intervals in a FASTA file.\n",
      "\n",
      "[ BAM focused tools ]\n",
      "    multicov      Counts coverage from multiple BAMs at specific intervals.\n",
      "    tag           Tag BAM alignments based on overlaps with interval files.\n",
      "\n",
      "[ Statistical relationships ]\n",
      "    jaccard       Calculate the Jaccard statistic b/w two sets of intervals.\n",
      "    reldist       Calculate the distribution of relative distances b/w two files.\n",
      "    fisher        Calculate Fisher statistic b/w two feature files.\n",
      "\n",
      "[ Miscellaneous tools ]\n",
      "    overlap       Computes the amount of overlap from two intervals.\n",
      "    igv           Create an IGV snapshot batch script.\n",
      "    links         Create a HTML page of links to UCSC locations.\n",
      "    makewindows   Make interval \"windows\" across a genome.\n",
      "    groupby       Group by common cols. & summarize oth. cols. (~ SQL \"groupBy\")\n",
      "    expand        Replicate lines based on lists of values in columns.\n",
      "    split         Split a file into multiple files with equal records or base pairs.\n",
      "    summary       Statistical summary of intervals in a file.\n",
      "\n",
      "[ General Parameters ]\n",
      "     --cram-ref    Reference used by a CRAM input\n",
      "\n",
      "[ General help ]\n",
      "    --help        Print this help menu.\n",
      "    --version     What version of bedtools are you using?.\n",
      "    --contact     Feature requests, bugs, mailing lists, etc.\n",
      "\n"
     ]
    }
   ],
   "source": [
    "singularity exec ${FD_SING}/biocontainer/bedtools:2.30.0--h468198e_3 bedtools --help"
   ]
  },
  {
   "cell_type": "code",
   "execution_count": 9,
   "id": "cbaffcaf-d6cd-42da-b4b9-82b5979c56f5",
   "metadata": {},
   "outputs": [],
   "source": [
    "TAB=\"$(printf '\\t')\"\n",
    "\n",
    "cat > A.bed << EOF\n",
    "chr1${TAB}05${TAB}50\n",
    "EOF\n",
    "\n",
    "cat > B.bed << EOF\n",
    "chr1${TAB}10${TAB}20\n",
    "chr1${TAB}15${TAB}40\n",
    "EOF"
   ]
  },
  {
   "cell_type": "code",
   "execution_count": 11,
   "id": "dfe80ae4-7433-4ac4-915b-70b212ec765d",
   "metadata": {},
   "outputs": [
    {
     "name": "stdout",
     "output_type": "stream",
     "text": [
      "Error: Unable to open file ./A.bed. Exiting.\n"
     ]
    },
    {
     "ename": "",
     "evalue": "1",
     "output_type": "error",
     "traceback": []
    }
   ],
   "source": [
    "bedtools coverage -a ./A.bed -b ./B.bed -d"
   ]
  },
  {
   "cell_type": "code",
   "execution_count": 15,
   "id": "4ac1c0dc-0e69-466e-ad3f-ba736f921150",
   "metadata": {},
   "outputs": [
    {
     "name": "stdout",
     "output_type": "stream",
     "text": [
      "Error: Unable to open file A.bed. Exiting.\n"
     ]
    },
    {
     "ename": "",
     "evalue": "1",
     "output_type": "error",
     "traceback": []
    }
   ],
   "source": [
    "singularity exec \\\n",
    "    ${FD_SING}/biocontainer/bedtools:2.30.0--h468198e_3 \\\n",
    "    bedtools coverage -a A.bed -b B.bed -d"
   ]
  },
  {
   "cell_type": "code",
   "execution_count": 20,
   "id": "d8e70972-7e9a-4f8d-b053-5da06f89efc2",
   "metadata": {},
   "outputs": [
    {
     "name": "stdout",
     "output_type": "stream",
     "text": [
      "\u001b[1;36mKuei\u001b[m              \u001b[1;34mRlibs\u001b[m             \u001b[0;0mmodule_avail.txt\u001b[m  \u001b[1;34mtmp\u001b[m\n",
      "\u001b[1;34mR\u001b[m                 \u001b[1;34mconfig\u001b[m            \u001b[1;36mreddylab\u001b[m\n"
     ]
    }
   ],
   "source": [
    "singularity exec \\\n",
    "    ${FD_SING}/biocontainer/bedtools:2.30.0--h468198e_3 \\\n",
    "    ls"
   ]
  },
  {
   "cell_type": "code",
   "execution_count": 21,
   "id": "ef4db9b2-3794-4392-b52b-db2e39a76a11",
   "metadata": {},
   "outputs": [
    {
     "name": "stdout",
     "output_type": "stream",
     "text": [
      "\u001b[1;32mconfig_proj_combeffect.sh\u001b[m  \u001b[0;0mconfig_proj_encode_fcc.sh\u001b[m\n"
     ]
    }
   ],
   "source": [
    "singularity exec \\\n",
    "    ${FD_SING}/biocontainer/bedtools:2.30.0--h468198e_3 \\\n",
    "    ls config"
   ]
  },
  {
   "cell_type": "code",
   "execution_count": 22,
   "id": "c9ee9a03-a54f-4521-a22a-a869ae56a05c",
   "metadata": {},
   "outputs": [
    {
     "name": "stdout",
     "output_type": "stream",
     "text": [
      "ls: Kuei: No such file or directory\n"
     ]
    },
    {
     "ename": "",
     "evalue": "1",
     "output_type": "error",
     "traceback": []
    }
   ],
   "source": [
    "singularity exec \\\n",
    "    ${FD_SING}/biocontainer/bedtools:2.30.0--h468198e_3 \\\n",
    "    ls Kuei"
   ]
  },
  {
   "cell_type": "code",
   "execution_count": 23,
   "id": "56a2a502-580c-4a6a-80a2-5c02f997472b",
   "metadata": {},
   "outputs": [
    {
     "name": "stdout",
     "output_type": "stream",
     "text": [
      "\u001b[1;34mbin\u001b[m          \u001b[1;34metc\u001b[m          \u001b[1;32mlinuxrc\u001b[m      \u001b[1;34mproc\u001b[m         \u001b[1;36msingularity\u001b[m  \u001b[1;34musr\u001b[m\n",
      "\u001b[1;34mboot\u001b[m         \u001b[1;34mhome\u001b[m         \u001b[1;34mmedia\u001b[m        \u001b[1;34mroot\u001b[m         \u001b[1;34msrv\u001b[m          \u001b[1;34mvar\u001b[m\n",
      "\u001b[1;34mdev\u001b[m          \u001b[1;34mlib\u001b[m          \u001b[1;34mmnt\u001b[m          \u001b[1;34mrun\u001b[m          \u001b[1;34msys\u001b[m\n",
      "\u001b[1;36menvironment\u001b[m  \u001b[1;34mlib64\u001b[m        \u001b[1;34mopt\u001b[m          \u001b[1;34msbin\u001b[m         \u001b[1;34mtmp\u001b[m\n"
     ]
    }
   ],
   "source": [
    "singularity exec \\\n",
    "    ${FD_SING}/biocontainer/bedtools:2.30.0--h468198e_3 \\\n",
    "    ls /"
   ]
  },
  {
   "cell_type": "code",
   "execution_count": null,
   "id": "dcdb19a9-62c7-427d-826a-5a5968848c9a",
   "metadata": {},
   "outputs": [],
   "source": []
  }
 ],
 "metadata": {
  "kernelspec": {
   "display_name": "Bash",
   "language": "bash",
   "name": "bash"
  },
  "language_info": {
   "codemirror_mode": "shell",
   "file_extension": ".sh",
   "mimetype": "text/x-sh",
   "name": "bash"
  }
 },
 "nbformat": 4,
 "nbformat_minor": 5
}
