{
 "cells": [
  {
   "cell_type": "markdown",
   "id": "fd252eea-e768-49db-94b3-4aefe23fd5ac",
   "metadata": {},
   "source": [
    "# Setup the biocontainers"
   ]
  },
  {
   "cell_type": "markdown",
   "id": "d357b2fc-dd59-4c87-9718-ac7b76a82451",
   "metadata": {},
   "source": [
    "list of the containers\n",
    "- bedtools\n",
    "- bedopts\n",
    "- deeptools"
   ]
  },
  {
   "cell_type": "markdown",
   "id": "547d75ea-3777-46a8-b292-eca8153670fb",
   "metadata": {},
   "source": [
    "**Set environment**"
   ]
  },
  {
   "cell_type": "code",
   "execution_count": 1,
   "id": "11760247-2a4b-4285-b046-8af83872f212",
   "metadata": {},
   "outputs": [],
   "source": [
    "source ../config_duke.sh"
   ]
  },
  {
   "cell_type": "code",
   "execution_count": 2,
   "id": "d6eb1284-a189-4f12-bdbc-a36dac46e9c7",
   "metadata": {},
   "outputs": [
    {
     "name": "stdout",
     "output_type": "stream",
     "text": [
      "DCC\n",
      "/datacommons/reddylab_s/kk319/singularity\n",
      "/datacommons/reddylab_s/kk319/bin\n",
      "\u001b[0m\u001b[01;34m/datacommons/reddylab_s/kk319/singularity/biocontainer\u001b[0m\n",
      "\u001b[0m\u001b[01;34m/datacommons/reddylab_s/kk319/bin\u001b[0m\n"
     ]
    }
   ],
   "source": [
    "### check if the directory is correct and check if they exist\n",
    "echo ${SERVER}\n",
    "echo ${FD_SING}\n",
    "echo ${FD_BIN}\n",
    "\n",
    "ls -d ${FD_SING}/biocontainer\n",
    "ls -d ${FD_BIN}"
   ]
  },
  {
   "cell_type": "markdown",
   "id": "090ae895-82b5-4a0c-828f-cd18416dc696",
   "metadata": {
    "tags": []
   },
   "source": [
    "## Bedtools\n",
    "- [Quay.io | bioconainer/bedtools](https://quay.io/repository/biocontainers/bedtools)\n",
    "    - `singularity pull docker://quay.io/biocontainers/bedtools:2.30.0--hc088bd4_0`\n",
    "- [BioConainers | bedtools](https://biocontainers.pro/tools/bedtools)\n",
    "    - `singularity pull https://depot.galaxyproject.org/singularity/bedtools:2.30.0--h468198e_3`"
   ]
  },
  {
   "cell_type": "markdown",
   "id": "b5fcea59-348f-423c-b2bc-3f28e8d6e68c",
   "metadata": {},
   "source": [
    "**Download the container image**"
   ]
  },
  {
   "cell_type": "code",
   "execution_count": 3,
   "id": "b327e41f-215d-4cb4-951e-47c760e0d3bd",
   "metadata": {},
   "outputs": [
    {
     "name": "stdout",
     "output_type": "stream",
     "text": [
      "bedtools:2.30.0--h468198e_3 does not exists. Download now...\n",
      "\u001b[34mINFO:   \u001b[0m Downloading network image\n",
      "271.7KiB / 26.4MiB [-----------------------------------------] 1 % 2.2 MiB/s 11s\n",
      "\u001b[1A\u001b[J1.3MiB / 26.4MiB [=>------------------------------------------] 5 % 5.3 MiB/s 4s\n",
      "\u001b[1A\u001b[J4.7MiB / 26.4MiB [======>-----------------------------------] 18 % 13.0 MiB/s 1s\n",
      "\u001b[1A\u001b[J10.1MiB / 26.4MiB [===============>-------------------------] 38 % 21.0 MiB/s 0s\n",
      "\u001b[1A\u001b[J15.6MiB / 26.4MiB [=======================>-----------------] 59 % 25.9 MiB/s 0s\n",
      "\u001b[1A\u001b[J20.6MiB / 26.4MiB [===============================>---------] 78 % 28.6 MiB/s 0s\n",
      "\u001b[1A\u001b[J25.9MiB / 26.4MiB [=======================================>-] 98 % 30.8 MiB/s 0s\n",
      "\u001b[1A\u001b[J26.4MiB / 26.4MiB [========================================] 100 % 31.2 MiB/s 0s\n",
      "\u001b[1A\u001b[J26.4MiB / 26.4MiB [========================================] 100 % 31.2 MiB/s 0s\n",
      "\u001b[1A\u001b[J26.4MiB / 26.4MiB [========================================] 100 % 31.2 MiB/s 0s\n"
     ]
    }
   ],
   "source": [
    "CMD=\"bedtools\"\n",
    "IMG=\"bedtools:2.30.0--h468198e_3\"\n",
    "URL=\"https://depot.galaxyproject.org/singularity/${IMG}\"\n",
    "DIR=${FD_SING}/biocontainer\n",
    "\n",
    "if [[ -f \"${DIR}/${IMG}\" ]]; then\n",
    "    echo \"${IMG} already exists.\"\n",
    "else\n",
    "    echo \"${IMG} does not exists. Download now...\"\n",
    "    singularity pull --dir ${DIR} ${URL}\n",
    "fi"
   ]
  },
  {
   "cell_type": "markdown",
   "id": "1b6f3d52-1931-4c9f-be5b-62d3a4ce0a8e",
   "metadata": {},
   "source": [
    "**Set up the wrapper script**"
   ]
  },
  {
   "cell_type": "code",
   "execution_count": 4,
   "id": "91bd44e9-ce5c-4f5d-91a6-53b1bc82178f",
   "metadata": {},
   "outputs": [],
   "source": [
    "cat > ${FD_BIN}/${CMD} << 'EOF'\n",
    "#!/bin/bash\n",
    "\n",
    "########################################\n",
    "### Wrapper of PLACEHOLDER_CMD container\n",
    "########################################\n",
    "\n",
    "IMAGE=PLACEHOLDER_DIR/PLACEHOLDER_IMG\n",
    "\n",
    "CMD=\"PLACEHOLDER_CMD\"\n",
    "ARGS=\"$@\"\n",
    "\n",
    "singularity exec \\\n",
    "    -B ${PWD} -B /data:/data -B /gpfs:/gpfs \\\n",
    "    ${IMAGE} ${CMD} ${ARGS}\n",
    "\n",
    "EOF"
   ]
  },
  {
   "cell_type": "code",
   "execution_count": 5,
   "id": "a68ea55c-de89-4dc5-819d-b906e6e0e254",
   "metadata": {},
   "outputs": [
    {
     "name": "stdout",
     "output_type": "stream",
     "text": [
      "#!/bin/bash\n",
      "\n",
      "########################################\n",
      "### Wrapper of bedtools container\n",
      "########################################\n",
      "\n",
      "IMAGE=/datacommons/reddylab_s/kk319/singularity/biocontainer/bedtools:2.30.0--h468198e_3\n",
      "\n",
      "CMD=\"bedtools\"\n",
      "ARGS=\"$@\"\n",
      "\n",
      "singularity exec ${IMAGE} ${CMD} ${ARGS}\n",
      "\n"
     ]
    }
   ],
   "source": [
    "sed -i \"s|PLACEHOLDER_DIR|${DIR}|g\" ${FD_BIN}/${CMD}\n",
    "sed -i \"s|PLACEHOLDER_IMG|${IMG}|g\" ${FD_BIN}/${CMD}\n",
    "sed -i \"s|PLACEHOLDER_CMD|${CMD}|g\" ${FD_BIN}/${CMD}\n",
    "chmod +x ${FD_BIN}/${CMD}\n",
    "cat ${FD_BIN}/${CMD}"
   ]
  },
  {
   "cell_type": "code",
   "execution_count": null,
   "id": "1737cbc0-3832-4826-a673-bdd638676e82",
   "metadata": {},
   "outputs": [],
   "source": []
  },
  {
   "cell_type": "code",
   "execution_count": null,
   "id": "b5790d61-6670-42de-8ff7-cfdab5cceb56",
   "metadata": {},
   "outputs": [],
   "source": []
  },
  {
   "cell_type": "markdown",
   "id": "5546b443-6a6c-46a0-8467-bfb119033363",
   "metadata": {},
   "source": [
    "**Check if the script works**"
   ]
  },
  {
   "cell_type": "code",
   "execution_count": 6,
   "id": "6c2d5d57-648c-43e6-8fa4-b7bde032709b",
   "metadata": {},
   "outputs": [
    {
     "name": "stdout",
     "output_type": "stream",
     "text": [
      "/datacommons/reddylab_s/kk319/bin/bedtools\n"
     ]
    }
   ],
   "source": [
    "echo ${FD_BIN}/${CMD}"
   ]
  },
  {
   "cell_type": "code",
   "execution_count": 7,
   "id": "f675af84-42a4-4f10-91af-67f177be51d2",
   "metadata": {},
   "outputs": [
    {
     "name": "stdout",
     "output_type": "stream",
     "text": [
      "bedtools is a powerful toolset for genome arithmetic.\n",
      "\n",
      "Version:   v2.30.0\n",
      "About:     developed in the quinlanlab.org and by many contributors worldwide.\n",
      "Docs:      http://bedtools.readthedocs.io/\n",
      "Code:      https://github.com/arq5x/bedtools2\n",
      "Mail:      https://groups.google.com/forum/#!forum/bedtools-discuss\n",
      "\n",
      "Usage:     bedtools <subcommand> [options]\n",
      "\n",
      "The bedtools sub-commands include:\n",
      "\n",
      "[ Genome arithmetic ]\n",
      "    intersect     Find overlapping intervals in various ways.\n",
      "    window        Find overlapping intervals within a window around an interval.\n",
      "    closest       Find the closest, potentially non-overlapping interval.\n",
      "    coverage      Compute the coverage over defined intervals.\n",
      "    map           Apply a function to a column for each overlapping interval.\n",
      "    genomecov     Compute the coverage over an entire genome.\n",
      "    merge         Combine overlapping/nearby intervals into a single interval.\n",
      "    cluster       Cluster (but don't merge) overlapping/nearby intervals.\n",
      "    complement    Extract intervals _not_ represented by an interval file.\n",
      "    shift         Adjust the position of intervals.\n",
      "    subtract      Remove intervals based on overlaps b/w two files.\n",
      "    slop          Adjust the size of intervals.\n",
      "    flank         Create new intervals from the flanks of existing intervals.\n",
      "    sort          Order the intervals in a file.\n",
      "    random        Generate random intervals in a genome.\n",
      "    shuffle       Randomly redistribute intervals in a genome.\n",
      "    sample        Sample random records from file using reservoir sampling.\n",
      "    spacing       Report the gap lengths between intervals in a file.\n",
      "    annotate      Annotate coverage of features from multiple files.\n",
      "\n",
      "[ Multi-way file comparisons ]\n",
      "    multiinter    Identifies common intervals among multiple interval files.\n",
      "    unionbedg     Combines coverage intervals from multiple BEDGRAPH files.\n",
      "\n",
      "[ Paired-end manipulation ]\n",
      "    pairtobed     Find pairs that overlap intervals in various ways.\n",
      "    pairtopair    Find pairs that overlap other pairs in various ways.\n",
      "\n",
      "[ Format conversion ]\n",
      "    bamtobed      Convert BAM alignments to BED (& other) formats.\n",
      "    bedtobam      Convert intervals to BAM records.\n",
      "    bamtofastq    Convert BAM records to FASTQ records.\n",
      "    bedpetobam    Convert BEDPE intervals to BAM records.\n",
      "    bed12tobed6   Breaks BED12 intervals into discrete BED6 intervals.\n",
      "\n",
      "[ Fasta manipulation ]\n",
      "    getfasta      Use intervals to extract sequences from a FASTA file.\n",
      "    maskfasta     Use intervals to mask sequences from a FASTA file.\n",
      "    nuc           Profile the nucleotide content of intervals in a FASTA file.\n",
      "\n",
      "[ BAM focused tools ]\n",
      "    multicov      Counts coverage from multiple BAMs at specific intervals.\n",
      "    tag           Tag BAM alignments based on overlaps with interval files.\n",
      "\n",
      "[ Statistical relationships ]\n",
      "    jaccard       Calculate the Jaccard statistic b/w two sets of intervals.\n",
      "    reldist       Calculate the distribution of relative distances b/w two files.\n",
      "    fisher        Calculate Fisher statistic b/w two feature files.\n",
      "\n",
      "[ Miscellaneous tools ]\n",
      "    overlap       Computes the amount of overlap from two intervals.\n",
      "    igv           Create an IGV snapshot batch script.\n",
      "    links         Create a HTML page of links to UCSC locations.\n",
      "    makewindows   Make interval \"windows\" across a genome.\n",
      "    groupby       Group by common cols. & summarize oth. cols. (~ SQL \"groupBy\")\n",
      "    expand        Replicate lines based on lists of values in columns.\n",
      "    split         Split a file into multiple files with equal records or base pairs.\n",
      "    summary       Statistical summary of intervals in a file.\n",
      "\n",
      "[ General Parameters ]\n",
      "     --cram-ref    Reference used by a CRAM input\n",
      "\n",
      "[ General help ]\n",
      "    --help        Print this help menu.\n",
      "    --version     What version of bedtools are you using?.\n",
      "    --contact     Feature requests, bugs, mailing lists, etc.\n",
      "\n"
     ]
    }
   ],
   "source": [
    "${FD_BIN}/${CMD} --help"
   ]
  },
  {
   "cell_type": "markdown",
   "id": "5efca2ac-e65c-4ff6-99c1-b1757a035b05",
   "metadata": {},
   "source": [
    "## Bedops"
   ]
  },
  {
   "cell_type": "code",
   "execution_count": null,
   "id": "9bdb8691-91e7-4bda-a3c7-0a59653fb0d7",
   "metadata": {},
   "outputs": [],
   "source": []
  },
  {
   "cell_type": "markdown",
   "id": "d38439d1-ce06-4ac9-944e-f20f07cb760b",
   "metadata": {},
   "source": [
    "## Deeptools\n",
    "- [BioContainers | Deeptools](https://biocontainers.pro/tools/deeptools)\n",
    "    - singularity run https://depot.galaxyproject.org/singularity/deeptools:3.5.1--py_0"
   ]
  },
  {
   "cell_type": "markdown",
   "id": "4e084990-cc2f-4e49-ac5f-bb4cdbc4c757",
   "metadata": {},
   "source": [
    "**Download the container image**"
   ]
  },
  {
   "cell_type": "code",
   "execution_count": 8,
   "id": "93e49883-4b6d-4f8e-8b69-6d0e79f99234",
   "metadata": {},
   "outputs": [
    {
     "name": "stdout",
     "output_type": "stream",
     "text": [
      "deeptools:3.5.1--py_0 does not exists. Download now...\n",
      "\u001b[34mINFO:   \u001b[0m Downloading network image\n",
      "239.7KiB / 132.6MiB [---------------------------------------] 0 % 1.9 MiB/s 1m8s\n",
      "\u001b[1A\u001b[J991.7KiB / 132.6MiB [----------------------------------------] 1 % 4.0 MiB/s 32s\n",
      "\u001b[1A\u001b[J3.8MiB / 132.6MiB [>----------------------------------------] 3 % 10.6 MiB/s 12s\n",
      "\u001b[1A\u001b[J9.4MiB / 132.6MiB [==>---------------------------------------] 7 % 19.5 MiB/s 6s\n",
      "\u001b[1A\u001b[J14.7MiB / 132.6MiB [===>------------------------------------] 11 % 24.5 MiB/s 4s\n",
      "\u001b[1A\u001b[J19.7MiB / 132.6MiB [=====>----------------------------------] 15 % 27.4 MiB/s 4s\n",
      "\u001b[1A\u001b[J25.2MiB / 132.6MiB [=======>--------------------------------] 19 % 30.0 MiB/s 3s\n",
      "\u001b[1A\u001b[J30.7MiB / 132.6MiB [========>-------------------------------] 23 % 31.9 MiB/s 3s\n",
      "\u001b[1A\u001b[J35.7MiB / 132.6MiB [==========>-----------------------------] 27 % 33.1 MiB/s 2s\n",
      "\u001b[1A\u001b[J41.1MiB / 132.6MiB [===========>----------------------------] 31 % 34.2 MiB/s 2s\n",
      "\u001b[1A\u001b[J46.4MiB / 132.6MiB [=============>--------------------------] 35 % 35.2 MiB/s 2s\n",
      "\u001b[1A\u001b[J51.7MiB / 132.6MiB [===============>------------------------] 39 % 35.9 MiB/s 2s\n",
      "\u001b[1A\u001b[J56.9MiB / 132.6MiB [================>-----------------------] 43 % 36.5 MiB/s 2s\n",
      "\u001b[1A\u001b[J62.2MiB / 132.6MiB [==================>---------------------] 47 % 37.0 MiB/s 1s\n",
      "\u001b[1A\u001b[J67.7MiB / 132.6MiB [===================>--------------------] 51 % 37.6 MiB/s 1s\n",
      "\u001b[1A\u001b[J72.9MiB / 132.6MiB [=====================>------------------] 55 % 37.9 MiB/s 1s\n",
      "\u001b[1A\u001b[J78.2MiB / 132.6MiB [=======================>----------------] 59 % 38.3 MiB/s 1s\n",
      "\u001b[1A\u001b[J83.5MiB / 132.6MiB [========================>---------------] 63 % 38.6 MiB/s 1s\n",
      "\u001b[1A\u001b[J88.8MiB / 132.6MiB [==========================>-------------] 67 % 39.0 MiB/s 1s\n",
      "\u001b[1A\u001b[J94.0MiB / 132.6MiB [===========================>------------] 71 % 39.2 MiB/s 0s\n",
      "\u001b[1A\u001b[J99.4MiB / 132.6MiB [=============================>----------] 75 % 39.5 MiB/s 0s\n",
      "\u001b[1A\u001b[J104.8MiB / 132.6MiB [==============================>--------] 79 % 39.7 MiB/s 0s\n",
      "\u001b[1A\u001b[J110.0MiB / 132.6MiB [===============================>-------] 83 % 39.8 MiB/s 0s\n",
      "\u001b[1A\u001b[J115.3MiB / 132.6MiB [=================================>-----] 87 % 40.0 MiB/s 0s\n",
      "\u001b[1A\u001b[J120.6MiB / 132.6MiB [==================================>----] 91 % 40.2 MiB/s 0s\n",
      "\u001b[1A\u001b[J125.9MiB / 132.6MiB [====================================>--] 95 % 40.4 MiB/s 0s\n",
      "\u001b[1A\u001b[J131.3MiB / 132.6MiB [=======================================] 99 % 40.5 MiB/s 0s\n",
      "\u001b[1A\u001b[J132.6MiB / 132.6MiB [======================================] 100 % 40.5 MiB/s 0s\n",
      "\u001b[1A\u001b[J132.6MiB / 132.6MiB [======================================] 100 % 40.5 MiB/s 0s\n",
      "\u001b[1A\u001b[J132.6MiB / 132.6MiB [======================================] 100 % 40.5 MiB/s 0s\n"
     ]
    }
   ],
   "source": [
    "CMD=\"deeptools\"\n",
    "IMG=\"deeptools:3.5.1--py_0\"\n",
    "URL=\"https://depot.galaxyproject.org/singularity/${IMG}\"\n",
    "DIR=${FD_SING}/biocontainer\n",
    "\n",
    "if [[ -f \"${DIR}/${IMG}\" ]]; then\n",
    "    echo \"${IMG} already exists.\"\n",
    "else\n",
    "    echo \"${IMG} does not exists. Download now...\"\n",
    "    singularity pull --dir ${DIR} ${URL}\n",
    "fi"
   ]
  },
  {
   "cell_type": "markdown",
   "id": "6900d9ac-e591-4859-b569-8ac23b65d815",
   "metadata": {},
   "source": [
    "**Set up the wrapper script**"
   ]
  },
  {
   "cell_type": "code",
   "execution_count": 9,
   "id": "6c500271-6cee-4a35-8368-d3361055a85d",
   "metadata": {},
   "outputs": [],
   "source": [
    "cat > ${FD_BIN}/${CMD} << 'EOF'\n",
    "#!/bin/bash\n",
    "\n",
    "########################################\n",
    "### Wrapper of PLACEHOLDER_CMD container\n",
    "########################################\n",
    "\n",
    "IMAGE=PLACEHOLDER_DIR/PLACEHOLDER_IMG\n",
    "\n",
    "CMD=\"PLACEHOLDER_CMD\"\n",
    "ARGS=\"$@\"\n",
    "\n",
    "singularity exec ${IMAGE} ${CMD} ${ARGS}\n",
    "\n",
    "EOF"
   ]
  },
  {
   "cell_type": "code",
   "execution_count": 10,
   "id": "29f684eb-73f1-4d82-b0ed-470bf8d2c6d4",
   "metadata": {},
   "outputs": [
    {
     "name": "stdout",
     "output_type": "stream",
     "text": [
      "#!/bin/bash\n",
      "\n",
      "########################################\n",
      "### Wrapper of deeptools container\n",
      "########################################\n",
      "\n",
      "IMAGE=/datacommons/reddylab_s/kk319/singularity/biocontainer/deeptools:3.5.1--py_0\n",
      "\n",
      "CMD=\"deeptools\"\n",
      "ARGS=\"$@\"\n",
      "\n",
      "singularity exec ${IMAGE} ${CMD} ${ARGS}\n",
      "\n"
     ]
    }
   ],
   "source": [
    "sed -i \"s|PLACEHOLDER_DIR|${DIR}|g\" ${FD_BIN}/${CMD}\n",
    "sed -i \"s|PLACEHOLDER_IMG|${IMG}|g\" ${FD_BIN}/${CMD}\n",
    "sed -i \"s|PLACEHOLDER_CMD|${CMD}|g\" ${FD_BIN}/${CMD}\n",
    "chmod +x ${FD_BIN}/${CMD}\n",
    "cat ${FD_BIN}/${CMD}"
   ]
  },
  {
   "cell_type": "markdown",
   "id": "dce7b282-e748-4406-904c-e2323ad1513c",
   "metadata": {},
   "source": [
    "**Check if the script works**"
   ]
  },
  {
   "cell_type": "code",
   "execution_count": 11,
   "id": "b76a3fb5-fce8-41fe-a260-c287e9ea84fd",
   "metadata": {},
   "outputs": [
    {
     "name": "stdout",
     "output_type": "stream",
     "text": [
      "/datacommons/reddylab_s/kk319/bin/deeptools\n"
     ]
    }
   ],
   "source": [
    "echo ${FD_BIN}/${CMD}"
   ]
  },
  {
   "cell_type": "code",
   "execution_count": 12,
   "id": "b28c8e78-38f4-407e-a3b6-3b6826f04a08",
   "metadata": {},
   "outputs": [
    {
     "name": "stdout",
     "output_type": "stream",
     "text": [
      "\u001b[33mWARNING:\u001b[0m Skipping mount /var/singularity/mnt/session/etc/resolv.conf [files]: /etc/resolv.conf doesn't exist in container\n",
      "usage: deeptools [-h] [--version]\n",
      "\n",
      "deepTools is a suite of python tools particularly developed for the efficient analysis of\n",
      "high-throughput sequencing data, such as ChIP-seq, RNA-seq or MNase-seq.\n",
      "\n",
      "Each tool should be called by its own name as in the following example:\n",
      "\n",
      " $ bamCoverage -b reads.bam -o coverage.bw\n",
      "\n",
      "If you find deepTools useful for your research please cite as:\n",
      "\n",
      "Ramírez, Fidel, Devon P. Ryan, Björn Grüning, Vivek Bhardwaj, Fabian Kilpert,\n",
      "Andreas S. Richter, Steffen Heyne, Friederike Dündar,\n",
      "and Thomas Manke. 2016. \"deepTools2: A next Generation Web Server for Deep-Sequencing\n",
      "Data Analysis.\" Nucleic Acids Research, April. doi:10.1093/nar/gkw257.\n",
      "\n",
      "[ Tools for BAM and bigWig file processing ]\n",
      "    multiBamSummary         compute read coverages over bam files. Output used for plotCorrelation or plotPCA\n",
      "    multiBigwigSummary      extract scores from bigwig files. Output used for plotCorrelation or plotPCA\n",
      "    correctGCBias           corrects GC bias from bam file. Don't use it with ChIP data\n",
      "    bamCoverage             computes read coverage per bins or regions\n",
      "    bamCompare              computes log2 ratio and other operations of read coverage of two samples per bins or regions\n",
      "    bigwigCompare           computes log2 ratio and other operations from bigwig scores of two samples per bins or regions\n",
      "    computeMatrix           prepares the data from bigwig scores for plotting with plotHeatmap or plotProfile\n",
      "    alignmentSieve          filters BAM alignments according to specified parameters, optionally producing a BEDPE file\n",
      "\n",
      "[ Tools for QC ]\n",
      "    plotCorrelation         plots heatmaps or scatterplots of data correlation\n",
      "    plotPCA                 plots PCA\n",
      "    plotFingerprint         plots the distribution of enriched regions\n",
      "    bamPEFragmentSize       returns the read length and paired-end distance from a bam file\n",
      "    computeGCBias           computes and plots the GC bias of a sample\n",
      "    plotCoverage            plots a histogram of read coverage\n",
      "    estimateReadFiltering   estimates the number of reads that will be filtered from a BAM file or files given certain criteria\n",
      "\n",
      "[Heatmaps and summary plots]\n",
      "    plotHeatmap             plots one or multiple heatmaps of user selected regions over different genomic scores\n",
      "    plotProfile             plots the average profile of user selected regions over different genomic scores\n",
      "    plotEnrichment          plots the read/fragment coverage of one or more sets of regions\n",
      "\n",
      "[Miscellaneous]\n",
      "    computeMatrixOperations Modifies the output of computeMatrix in a variety of ways.\n",
      "\n",
      "For more information visit: http://deeptools.readthedocs.org\n",
      "\n",
      "optional arguments:\n",
      "  -h, --help  show this help message and exit\n",
      "  --version   show program's version number and exit\n"
     ]
    }
   ],
   "source": [
    "${FD_BIN}/${CMD} --help"
   ]
  },
  {
   "cell_type": "code",
   "execution_count": null,
   "id": "473051b8-14ae-484f-b7ba-c5ac1659e2ad",
   "metadata": {},
   "outputs": [],
   "source": []
  }
 ],
 "metadata": {
  "kernelspec": {
   "display_name": "Bash",
   "language": "bash",
   "name": "bash"
  },
  "language_info": {
   "codemirror_mode": "shell",
   "file_extension": ".sh",
   "mimetype": "text/x-sh",
   "name": "bash"
  }
 },
 "nbformat": 4,
 "nbformat_minor": 5
}
