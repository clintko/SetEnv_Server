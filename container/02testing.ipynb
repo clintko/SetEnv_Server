{
 "cells": [
  {
   "cell_type": "markdown",
   "id": "9dfb1933-d015-4f15-86aa-3a3296d238d5",
   "metadata": {},
   "source": [
    "# Test setting up the containers"
   ]
  },
  {
   "cell_type": "markdown",
   "id": "42d44ee5-944a-4dce-85a4-9fae7d4be912",
   "metadata": {},
   "source": [
    "**Set environment**"
   ]
  },
  {
   "cell_type": "code",
   "execution_count": 19,
   "id": "9054954f-c85e-418a-8838-8f8f6d7e6c7f",
   "metadata": {},
   "outputs": [
    {
     "name": "stdout",
     "output_type": "stream",
     "text": [
      "You are on Duke Server: HARDAC\n",
      "BASE DIRECTORY:     /gpfs/fs1/data/reddylab/Kuei\n",
      "PATH OF SOURCE:     /gpfs/fs1/data/reddylab/Kuei/source\n",
      "PATH OF EXECUTABLE: /gpfs/fs1/data/reddylab/Kuei/exe\n",
      "PATH OF ANNOTATION: /gpfs/fs1/data/reddylab/Kuei/annotation\n",
      "PATH OF PROJECT:    /gpfs/fs1/data/reddylab/Kuei/GitRepo/Proj_CombEffect_STARRseq/notebooks\n",
      "PATH OF RESULTS:    /gpfs/fs1/data/reddylab/Kuei/out/proj_combeffect\n",
      "\n"
     ]
    }
   ],
   "source": [
    "source ../config_duke.sh; show_env"
   ]
  },
  {
   "cell_type": "markdown",
   "id": "84602884-372b-43c7-8413-c4748134e283",
   "metadata": {},
   "source": [
    "**Checking directories for this test**"
   ]
  },
  {
   "cell_type": "code",
   "execution_count": 20,
   "id": "b1b4be39-9add-46c6-bb33-eaf39ecc7e79",
   "metadata": {},
   "outputs": [
    {
     "name": "stdout",
     "output_type": "stream",
     "text": [
      "/gpfs/fs1/data/reddylab/Kuei/singularity\n"
     ]
    }
   ],
   "source": [
    "echo ${FD_SING}"
   ]
  },
  {
   "cell_type": "code",
   "execution_count": 21,
   "id": "af4b5290-0395-419c-83e1-24c3b4fcf980",
   "metadata": {},
   "outputs": [
    {
     "name": "stdout",
     "output_type": "stream",
     "text": [
      "\u001b[0m\u001b[38;5;27mbiocontainer\u001b[0m                           \u001b[38;5;34msingularity_proj_combeffect.sif\u001b[0m\n",
      "\u001b[38;5;27mhome\u001b[0m                                   \u001b[38;5;34msingularity_scipy_scratch.sif\u001b[0m\n",
      "\u001b[38;5;27mrstudio_tmp\u001b[0m                            singularity_tensorflow_scratch.sif\n",
      "\u001b[38;5;34msingularity_doc.sif\u001b[0m                    \u001b[38;5;34msingularity_test.sif\u001b[0m\n",
      "singularity-example.sif                \u001b[38;5;34msingularity_tidyverse_scratch.sif\u001b[0m\n",
      "singularity_proj_combeffect_model.sif  \u001b[38;5;34msingularity_tidyverse.sif\u001b[0m\n"
     ]
    }
   ],
   "source": [
    "ls ${FD_SING}"
   ]
  },
  {
   "cell_type": "code",
   "execution_count": 108,
   "id": "3d8c8665-d081-450e-8f61-addaad8809a4",
   "metadata": {},
   "outputs": [
    {
     "name": "stdout",
     "output_type": "stream",
     "text": [
      "\u001b[0m\u001b[38;5;27m/gpfs/fs1/data/reddylab/Kuei/bin\u001b[0m\n"
     ]
    }
   ],
   "source": [
    "ls -d ${FD_BIN}"
   ]
  },
  {
   "cell_type": "code",
   "execution_count": 109,
   "id": "7e0aaf5c-1a12-4c8e-8fc6-bd81bdd85975",
   "metadata": {},
   "outputs": [
    {
     "name": "stdout",
     "output_type": "stream",
     "text": [
      "\u001b[0m\u001b[38;5;27m/gpfs/fs1/data/reddylab/Kuei/singularity/biocontainer\u001b[0m\n"
     ]
    }
   ],
   "source": [
    "ls -d ${FD_SING}/biocontainer"
   ]
  },
  {
   "cell_type": "markdown",
   "id": "9eb02ad3-3596-4f17-99eb-9926c76b5320",
   "metadata": {
    "tags": []
   },
   "source": [
    "## Bedtools\n",
    "- [Quay.io | bioconainer/bedtools](https://quay.io/repository/biocontainers/bedtools)\n",
    "    - `singularity pull docker://quay.io/biocontainers/bedtools:2.30.0--hc088bd4_0`\n",
    "- [BioConainers | bedtools](https://biocontainers.pro/tools/bedtools)\n",
    "    - `singularity pull https://depot.galaxyproject.org/singularity/bedtools:2.30.0--h468198e_3`"
   ]
  },
  {
   "cell_type": "markdown",
   "id": "4d44f7bb-e049-4fb4-b1b8-7dc203540623",
   "metadata": {},
   "source": [
    "Both download all work"
   ]
  },
  {
   "cell_type": "code",
   "execution_count": 1,
   "id": "c4fb5c22-ab16-4363-a538-b44005417052",
   "metadata": {},
   "outputs": [],
   "source": [
    "singularity pull https://depot.galaxyproject.org/singularity/bedtools:2.30.0--h468198e_3"
   ]
  },
  {
   "cell_type": "code",
   "execution_count": 2,
   "id": "a723fc16-7ad5-45f0-bdc8-0791db008480",
   "metadata": {},
   "outputs": [
    {
     "name": "stdout",
     "output_type": "stream",
     "text": [
      "\u001b[34mINFO:   \u001b[0m Converting OCI blobs to SIF format\n",
      "\u001b[34mINFO:   \u001b[0m Starting build...\n",
      "Getting image source signatures\n",
      "Copying blob 1dbcab28ce46 [======================================] 48.0b / 48.0b\n",
      "\u001b[1A\u001b[JCopying blob 1dbcab28ce46 done  \n",
      "\u001b[1A\u001b[JCopying blob 1dbcab28ce46 done  \n",
      "\u001b[1A\u001b[JCopying blob 1dbcab28ce46 done  \n",
      "\u001b[1A\u001b[JCopying blob 1dbcab28ce46 done  \n",
      "\u001b[1A\u001b[JCopying blob 1dbcab28ce46 done  \n",
      "Copying blob cfb1ba34637d [===========================>--------] 1.7MiB / 2.2MiB\n",
      "\u001b[2A\u001b[JCopying blob 1dbcab28ce46 done  \n",
      "Copying blob cfb1ba34637d [====================================] 2.2MiB / 2.2MiB\n",
      "\u001b[2A\u001b[JCopying blob 1dbcab28ce46 done  \n",
      "Copying blob cfb1ba34637d done  \n",
      "\u001b[2A\u001b[JCopying blob 1dbcab28ce46 done  \n",
      "Copying blob cfb1ba34637d done  \n",
      "\u001b[2A\u001b[JCopying blob 1dbcab28ce46 done  \n",
      "Copying blob cfb1ba34637d done  \n",
      "\u001b[2A\u001b[JCopying blob 1dbcab28ce46 done  \n",
      "Copying blob cfb1ba34637d done  \n",
      "Copying blob ace2d8a63dd5 [====================================] 263.0b / 263.0b\n",
      "\u001b[3A\u001b[JCopying blob 1dbcab28ce46 done  \n",
      "Copying blob cfb1ba34637d done  \n",
      "Copying blob ace2d8a63dd5 done  \n",
      "\u001b[3A\u001b[JCopying blob 1dbcab28ce46 done  \n",
      "Copying blob cfb1ba34637d done  \n",
      "Copying blob ace2d8a63dd5 done  \n",
      "\u001b[3A\u001b[JCopying blob 1dbcab28ce46 done  \n",
      "Copying blob cfb1ba34637d done  \n",
      "Copying blob ace2d8a63dd5 done  \n",
      "\u001b[3A\u001b[JCopying blob 1dbcab28ce46 done  \n",
      "Copying blob cfb1ba34637d done  \n",
      "Copying blob ace2d8a63dd5 done  \n",
      "\u001b[3A\u001b[JCopying blob 1dbcab28ce46 done  \n",
      "Copying blob cfb1ba34637d done  \n",
      "Copying blob ace2d8a63dd5 done  \n",
      "Copying blob 75c080ef15eb [====================================] 240.0b / 240.0b\n",
      "\u001b[4A\u001b[JCopying blob 1dbcab28ce46 done  \n",
      "Copying blob cfb1ba34637d done  \n",
      "Copying blob ace2d8a63dd5 done  \n",
      "Copying blob 75c080ef15eb done  \n",
      "\u001b[4A\u001b[JCopying blob 1dbcab28ce46 done  \n",
      "Copying blob cfb1ba34637d done  \n",
      "Copying blob ace2d8a63dd5 done  \n",
      "Copying blob 75c080ef15eb done  \n",
      "\u001b[4A\u001b[JCopying blob 1dbcab28ce46 done  \n",
      "Copying blob cfb1ba34637d done  \n",
      "Copying blob ace2d8a63dd5 done  \n",
      "Copying blob 75c080ef15eb done  \n",
      "\u001b[4A\u001b[JCopying blob 1dbcab28ce46 done  \n",
      "Copying blob cfb1ba34637d done  \n",
      "Copying blob ace2d8a63dd5 done  \n",
      "Copying blob 75c080ef15eb done  \n",
      "\u001b[4A\u001b[JCopying blob 1dbcab28ce46 done  \n",
      "Copying blob cfb1ba34637d done  \n",
      "Copying blob ace2d8a63dd5 done  \n",
      "Copying blob 75c080ef15eb done  \n",
      "Copying blob 316957f8baaf [====================================] 2.7KiB / 2.7KiB\n",
      "\u001b[5A\u001b[JCopying blob 1dbcab28ce46 done  \n",
      "Copying blob cfb1ba34637d done  \n",
      "Copying blob ace2d8a63dd5 done  \n",
      "Copying blob 75c080ef15eb done  \n",
      "Copying blob 316957f8baaf done  \n",
      "\u001b[5A\u001b[JCopying blob 1dbcab28ce46 done  \n",
      "Copying blob cfb1ba34637d done  \n",
      "Copying blob ace2d8a63dd5 done  \n",
      "Copying blob 75c080ef15eb done  \n",
      "Copying blob 316957f8baaf done  \n",
      "\u001b[5A\u001b[JCopying blob 1dbcab28ce46 done  \n",
      "Copying blob cfb1ba34637d done  \n",
      "Copying blob ace2d8a63dd5 done  \n",
      "Copying blob 75c080ef15eb done  \n",
      "Copying blob 316957f8baaf done  \n",
      "\u001b[5A\u001b[JCopying blob 1dbcab28ce46 done  \n",
      "Copying blob cfb1ba34637d done  \n",
      "Copying blob ace2d8a63dd5 done  \n",
      "Copying blob 75c080ef15eb done  \n",
      "Copying blob 316957f8baaf done  \n",
      "\u001b[5A\u001b[JCopying blob 1dbcab28ce46 done  \n",
      "Copying blob cfb1ba34637d done  \n",
      "Copying blob ace2d8a63dd5 done  \n",
      "Copying blob 75c080ef15eb done  \n",
      "Copying blob 316957f8baaf done  \n",
      "Copying blob dbd31e1d863d [==================================] 35.3KiB / 35.3KiB\n",
      "\u001b[6A\u001b[JCopying blob 1dbcab28ce46 done  \n",
      "Copying blob cfb1ba34637d done  \n",
      "Copying blob ace2d8a63dd5 done  \n",
      "Copying blob 75c080ef15eb done  \n",
      "Copying blob 316957f8baaf done  \n",
      "Copying blob dbd31e1d863d done  \n",
      "\u001b[6A\u001b[JCopying blob 1dbcab28ce46 done  \n",
      "Copying blob cfb1ba34637d done  \n",
      "Copying blob ace2d8a63dd5 done  \n",
      "Copying blob 75c080ef15eb done  \n",
      "Copying blob 316957f8baaf done  \n",
      "Copying blob dbd31e1d863d done  \n",
      "\u001b[6A\u001b[JCopying blob 1dbcab28ce46 done  \n",
      "Copying blob cfb1ba34637d done  \n",
      "Copying blob ace2d8a63dd5 done  \n",
      "Copying blob 75c080ef15eb done  \n",
      "Copying blob 316957f8baaf done  \n",
      "Copying blob dbd31e1d863d done  \n",
      "\u001b[6A\u001b[JCopying blob 1dbcab28ce46 done  \n",
      "Copying blob cfb1ba34637d done  \n",
      "Copying blob ace2d8a63dd5 done  \n",
      "Copying blob 75c080ef15eb done  \n",
      "Copying blob 316957f8baaf done  \n",
      "Copying blob dbd31e1d863d done  \n",
      "\u001b[6A\u001b[JCopying blob 1dbcab28ce46 done  \n",
      "Copying blob cfb1ba34637d done  \n",
      "Copying blob ace2d8a63dd5 done  \n",
      "Copying blob 75c080ef15eb done  \n",
      "Copying blob 316957f8baaf done  \n",
      "Copying blob dbd31e1d863d done  \n",
      "Copying blob 2f8531d5a6ec [================================] 247.8KiB / 247.8KiB\n",
      "\u001b[7A\u001b[JCopying blob 1dbcab28ce46 done  \n",
      "Copying blob cfb1ba34637d done  \n",
      "Copying blob ace2d8a63dd5 done  \n",
      "Copying blob 75c080ef15eb done  \n",
      "Copying blob 316957f8baaf done  \n",
      "Copying blob dbd31e1d863d done  \n",
      "Copying blob 2f8531d5a6ec done  \n",
      "\u001b[7A\u001b[JCopying blob 1dbcab28ce46 done  \n",
      "Copying blob cfb1ba34637d done  \n",
      "Copying blob ace2d8a63dd5 done  \n",
      "Copying blob 75c080ef15eb done  \n",
      "Copying blob 316957f8baaf done  \n",
      "Copying blob dbd31e1d863d done  \n",
      "Copying blob 2f8531d5a6ec done  \n",
      "Copying blob 1dbcab28ce46 [--------------------------------------] 0.0b / 0.0b\n",
      "\u001b[8A\u001b[JCopying blob 1dbcab28ce46 done  \n",
      "Copying blob cfb1ba34637d done  \n",
      "Copying blob ace2d8a63dd5 done  \n",
      "Copying blob 75c080ef15eb done  \n",
      "Copying blob 316957f8baaf done  \n",
      "Copying blob dbd31e1d863d done  \n",
      "Copying blob 2f8531d5a6ec done  \n",
      "Copying blob 1dbcab28ce46 skipped: already exists  \n",
      "\u001b[8A\u001b[JCopying blob 1dbcab28ce46 done  \n",
      "Copying blob cfb1ba34637d done  \n",
      "Copying blob ace2d8a63dd5 done  \n",
      "Copying blob 75c080ef15eb done  \n",
      "Copying blob 316957f8baaf done  \n",
      "Copying blob dbd31e1d863d done  \n",
      "Copying blob 2f8531d5a6ec done  \n",
      "Copying blob 1dbcab28ce46 skipped: already exists  \n",
      "\u001b[8A\u001b[JCopying blob 1dbcab28ce46 done  \n",
      "Copying blob cfb1ba34637d done  \n",
      "Copying blob ace2d8a63dd5 done  \n",
      "Copying blob 75c080ef15eb done  \n",
      "Copying blob 316957f8baaf done  \n",
      "Copying blob dbd31e1d863d done  \n",
      "Copying blob 2f8531d5a6ec done  \n",
      "Copying blob 1dbcab28ce46 skipped: already exists  \n",
      "\u001b[8A\u001b[JCopying blob 1dbcab28ce46 done  \n",
      "Copying blob cfb1ba34637d done  \n",
      "Copying blob ace2d8a63dd5 done  \n",
      "Copying blob 75c080ef15eb done  \n",
      "Copying blob 316957f8baaf done  \n",
      "Copying blob dbd31e1d863d done  \n",
      "Copying blob 2f8531d5a6ec done  \n",
      "Copying blob 1dbcab28ce46 skipped: already exists  \n",
      "Copying blob 2e178fd72baf [================================] 905.6KiB / 905.6KiB\n",
      "\u001b[9A\u001b[JCopying blob 1dbcab28ce46 done  \n",
      "Copying blob cfb1ba34637d done  \n",
      "Copying blob ace2d8a63dd5 done  \n",
      "Copying blob 75c080ef15eb done  \n",
      "Copying blob 316957f8baaf done  \n",
      "Copying blob dbd31e1d863d done  \n",
      "Copying blob 2f8531d5a6ec done  \n",
      "Copying blob 1dbcab28ce46 skipped: already exists  \n",
      "Copying blob 2e178fd72baf done  \n",
      "\u001b[9A\u001b[JCopying blob 1dbcab28ce46 done  \n",
      "Copying blob cfb1ba34637d done  \n",
      "Copying blob ace2d8a63dd5 done  \n",
      "Copying blob 75c080ef15eb done  \n",
      "Copying blob 316957f8baaf done  \n",
      "Copying blob dbd31e1d863d done  \n",
      "Copying blob 2f8531d5a6ec done  \n",
      "Copying blob 1dbcab28ce46 skipped: already exists  \n",
      "Copying blob 2e178fd72baf done  \n",
      "\u001b[9A\u001b[JCopying blob 1dbcab28ce46 done  \n",
      "Copying blob cfb1ba34637d done  \n",
      "Copying blob ace2d8a63dd5 done  \n",
      "Copying blob 75c080ef15eb done  \n",
      "Copying blob 316957f8baaf done  \n",
      "Copying blob dbd31e1d863d done  \n",
      "Copying blob 2f8531d5a6ec done  \n",
      "Copying blob 1dbcab28ce46 skipped: already exists  \n",
      "Copying blob 2e178fd72baf done  \n",
      "\u001b[9A\u001b[JCopying blob 1dbcab28ce46 done  \n",
      "Copying blob cfb1ba34637d done  \n",
      "Copying blob ace2d8a63dd5 done  \n",
      "Copying blob 75c080ef15eb done  \n",
      "Copying blob 316957f8baaf done  \n",
      "Copying blob dbd31e1d863d done  \n",
      "Copying blob 2f8531d5a6ec done  \n",
      "Copying blob 1dbcab28ce46 skipped: already exists  \n",
      "Copying blob 2e178fd72baf done  \n",
      "Copying blob 6fa92a14c2e5 [>--------------------------------] 761.0KiB / 28.9MiB\n",
      "\u001b[10A\u001b[JCopying blob 1dbcab28ce46 done  \n",
      "Copying blob cfb1ba34637d done  \n",
      "Copying blob ace2d8a63dd5 done  \n",
      "Copying blob 75c080ef15eb done  \n",
      "Copying blob 316957f8baaf done  \n",
      "Copying blob dbd31e1d863d done  \n",
      "Copying blob 2f8531d5a6ec done  \n",
      "Copying blob 1dbcab28ce46 skipped: already exists  \n",
      "Copying blob 2e178fd72baf done  \n",
      "Copying blob 6fa92a14c2e5 [=========>-------------------------] 8.1MiB / 28.9MiB\n",
      "\u001b[10A\u001b[JCopying blob 1dbcab28ce46 done  \n",
      "Copying blob cfb1ba34637d done  \n",
      "Copying blob ace2d8a63dd5 done  \n",
      "Copying blob 75c080ef15eb done  \n",
      "Copying blob 316957f8baaf done  \n",
      "Copying blob dbd31e1d863d done  \n",
      "Copying blob 2f8531d5a6ec done  \n",
      "Copying blob 1dbcab28ce46 skipped: already exists  \n",
      "Copying blob 2e178fd72baf done  \n",
      "Copying blob 6fa92a14c2e5 [==================>---------------] 16.3MiB / 28.9MiB\n",
      "\u001b[10A\u001b[JCopying blob 1dbcab28ce46 done  \n",
      "Copying blob cfb1ba34637d done  \n",
      "Copying blob ace2d8a63dd5 done  \n",
      "Copying blob 75c080ef15eb done  \n",
      "Copying blob 316957f8baaf done  \n",
      "Copying blob dbd31e1d863d done  \n",
      "Copying blob 2f8531d5a6ec done  \n",
      "Copying blob 1dbcab28ce46 skipped: already exists  \n",
      "Copying blob 2e178fd72baf done  \n",
      "Copying blob 6fa92a14c2e5 [============================>-----] 24.5MiB / 28.9MiB\n",
      "\u001b[10A\u001b[JCopying blob 1dbcab28ce46 done  \n",
      "Copying blob cfb1ba34637d done  \n",
      "Copying blob ace2d8a63dd5 done  \n",
      "Copying blob 75c080ef15eb done  \n",
      "Copying blob 316957f8baaf done  \n",
      "Copying blob dbd31e1d863d done  \n",
      "Copying blob 2f8531d5a6ec done  \n",
      "Copying blob 1dbcab28ce46 skipped: already exists  \n",
      "Copying blob 2e178fd72baf done  \n",
      "Copying blob 6fa92a14c2e5 [==================================] 28.9MiB / 28.9MiB\n",
      "\u001b[10A\u001b[JCopying blob 1dbcab28ce46 done  \n",
      "Copying blob cfb1ba34637d done  \n",
      "Copying blob ace2d8a63dd5 done  \n",
      "Copying blob 75c080ef15eb done  \n",
      "Copying blob 316957f8baaf done  \n",
      "Copying blob dbd31e1d863d done  \n",
      "Copying blob 2f8531d5a6ec done  \n",
      "Copying blob 1dbcab28ce46 skipped: already exists  \n",
      "Copying blob 2e178fd72baf done  \n",
      "Copying blob 6fa92a14c2e5 done  \n",
      "\u001b[10A\u001b[JCopying blob 1dbcab28ce46 done  \n",
      "Copying blob cfb1ba34637d done  \n",
      "Copying blob ace2d8a63dd5 done  \n",
      "Copying blob 75c080ef15eb done  \n",
      "Copying blob 316957f8baaf done  \n",
      "Copying blob dbd31e1d863d done  \n",
      "Copying blob 2f8531d5a6ec done  \n",
      "Copying blob 1dbcab28ce46 skipped: already exists  \n",
      "Copying blob 2e178fd72baf done  \n",
      "Copying blob 6fa92a14c2e5 done  \n",
      "Copying config 29b85ae643 [====================================] 2.8KiB / 2.8KiB\n",
      "\u001b[1A\u001b[JCopying config 29b85ae643 done  \n",
      "Writing manifest to image destination\n",
      "Storing signatures\n",
      "2022/09/21 12:04:13  info unpack layer: sha256:1dbcab28ce46b65c0174e5e82658492107396fead31e9144c343e6bc96e471c7\n",
      "2022/09/21 12:04:13  info unpack layer: sha256:cfb1ba34637d96787f6e780192bc5f09c04fe0b40c4e1acdcbc88953bce25b5b\n",
      "2022/09/21 12:04:13  warn rootless{dev/console} creating empty file in place of device 5:1\n",
      "2022/09/21 12:04:13  info unpack layer: sha256:ace2d8a63dd59063206661355f22da9e1c75c56d6cae5116d91db7a65f640667\n",
      "2022/09/21 12:04:13  info unpack layer: sha256:75c080ef15ebb28daeadc91eeda0ca95a893fe1f4e55845da3feb58069d42fdc\n",
      "2022/09/21 12:04:13  info unpack layer: sha256:316957f8baafcefd4c9f72b7e3f3fafb7fcb3ca805dc69d242aef656e0736490\n",
      "2022/09/21 12:04:13  info unpack layer: sha256:dbd31e1d863d4a41565c08ad1d419c3a3538abfdd4a7971de63b8c5c8a43caec\n",
      "2022/09/21 12:04:13  info unpack layer: sha256:2f8531d5a6ece34772cf99a2d30e3057c636f1ad05cdec0c8009eab401e616a7\n",
      "2022/09/21 12:04:13  info unpack layer: sha256:1dbcab28ce46b65c0174e5e82658492107396fead31e9144c343e6bc96e471c7\n",
      "2022/09/21 12:04:13  info unpack layer: sha256:2e178fd72baf28bc587b5d274574f1a3d3e25ac802fdaf154af258a3c5891831\n",
      "2022/09/21 12:04:13  info unpack layer: sha256:6fa92a14c2e540593c074d76c719474dc45f1614dc7afc16881ae7cdd7ca0db0\n",
      "\u001b[34mINFO:   \u001b[0m Creating SIF file...\n"
     ]
    }
   ],
   "source": [
    "singularity pull docker://quay.io/biocontainers/bedtools:2.30.0--hc088bd4_0"
   ]
  },
  {
   "cell_type": "code",
   "execution_count": 24,
   "id": "f86d209b-ad9b-4115-8732-4504942b6bb4",
   "metadata": {},
   "outputs": [],
   "source": [
    "URL=\"https://depot.galaxyproject.org/singularity/bedtools:2.30.0--h468198e_3\"\n",
    "DIR=${FD_SING}/biocontainer\n",
    "singularity pull --dir ${DIR} ${URL}"
   ]
  },
  {
   "cell_type": "code",
   "execution_count": 25,
   "id": "c51ea277-f922-40c5-abf4-27ae80ef5389",
   "metadata": {},
   "outputs": [
    {
     "name": "stdout",
     "output_type": "stream",
     "text": [
      "\u001b[0m\u001b[38;5;34mbedtools:2.30.0--h468198e_3\u001b[0m\n"
     ]
    }
   ],
   "source": [
    "ls ${FD_SING}/biocontainer"
   ]
  },
  {
   "cell_type": "markdown",
   "id": "d52affd3-112e-4206-8141-b29d24e2a21a",
   "metadata": {},
   "source": [
    "**Try to setup a wrapper script**"
   ]
  },
  {
   "cell_type": "code",
   "execution_count": 32,
   "id": "809b2356-1175-4868-b81f-d5100d7683a6",
   "metadata": {},
   "outputs": [
    {
     "name": "stdout",
     "output_type": "stream",
     "text": [
      "/gpfs/fs1/data/reddylab/Kuei/singularity/biocontainer/bedtools:2.30.0--h468198e_3\n"
     ]
    }
   ],
   "source": [
    "IMAGE=$(ls ${FD_SING}/biocontainer/bedtools:2.30.0*)\n",
    "echo ${IMAGE}"
   ]
  },
  {
   "cell_type": "code",
   "execution_count": 104,
   "id": "18b98adb-98b8-44b0-9e15-74c9bc8b23d9",
   "metadata": {},
   "outputs": [],
   "source": [
    "cat > ${FD_BIN}/bedtools << 'EOF'\n",
    "#!/bin/bash\n",
    "\n",
    "########################################\n",
    "### Wrapper of bedtools container\n",
    "########################################\n",
    "\n",
    "IMAGE=FD_SING/biocontainer/bedtools:2.30.0--h468198e_3\n",
    "\n",
    "CMD=\"bedtools\"\n",
    "ARGS=\"$@\"\n",
    "\n",
    "singularity exec ${IMAGE} ${CMD} ${ARGS}\n",
    "\n",
    "EOF"
   ]
  },
  {
   "cell_type": "code",
   "execution_count": 105,
   "id": "b7ade6ad-c9be-4736-9694-9e1d48ae4a39",
   "metadata": {},
   "outputs": [],
   "source": [
    "sed -i \"s|FD_SING|${FD_SING}|g\" ${FD_BIN}/bedtools"
   ]
  },
  {
   "cell_type": "code",
   "execution_count": 106,
   "id": "10bf382f-e647-4bad-b40e-145f7ac934a4",
   "metadata": {},
   "outputs": [
    {
     "name": "stdout",
     "output_type": "stream",
     "text": [
      "#!/bin/bash\n",
      "\n",
      "########################################\n",
      "### Wrapper of bedtools container\n",
      "########################################\n",
      "\n",
      "IMAGE=/gpfs/fs1/data/reddylab/Kuei/singularity/biocontainer/bedtools:2.30.0--h468198e_3\n",
      "\n",
      "CMD=\"bedtools\"\n",
      "ARGS=\"$@\"\n",
      "\n",
      "singularity exec ${IMAGE} ${CMD} ${ARGS}\n",
      "\n"
     ]
    }
   ],
   "source": [
    "cat ${FD_BIN}/bedtools"
   ]
  },
  {
   "cell_type": "markdown",
   "id": "0f326bdb-8ce3-4447-b029-fc8cbbe415c4",
   "metadata": {},
   "source": [
    "**Check results**"
   ]
  },
  {
   "cell_type": "code",
   "execution_count": 7,
   "id": "c9c0b8ec-cceb-46dc-90b9-9fa8265c8795",
   "metadata": {},
   "outputs": [
    {
     "name": "stdout",
     "output_type": "stream",
     "text": [
      "\u001b[33mWARNING:\u001b[0m Skipping mount /var/singularity/mnt/session/etc/resolv.conf [files]: /etc/resolv.conf doesn't exist in container\n",
      "bedtools is a powerful toolset for genome arithmetic.\n",
      "\n",
      "Version:   v2.30.0\n",
      "About:     developed in the quinlanlab.org and by many contributors worldwide.\n",
      "Docs:      http://bedtools.readthedocs.io/\n",
      "Code:      https://github.com/arq5x/bedtools2\n",
      "Mail:      https://groups.google.com/forum/#!forum/bedtools-discuss\n",
      "\n",
      "Usage:     bedtools <subcommand> [options]\n",
      "\n",
      "The bedtools sub-commands include:\n",
      "\n",
      "[ Genome arithmetic ]\n",
      "    intersect     Find overlapping intervals in various ways.\n",
      "    window        Find overlapping intervals within a window around an interval.\n",
      "    closest       Find the closest, potentially non-overlapping interval.\n",
      "    coverage      Compute the coverage over defined intervals.\n",
      "    map           Apply a function to a column for each overlapping interval.\n",
      "    genomecov     Compute the coverage over an entire genome.\n",
      "    merge         Combine overlapping/nearby intervals into a single interval.\n",
      "    cluster       Cluster (but don't merge) overlapping/nearby intervals.\n",
      "    complement    Extract intervals _not_ represented by an interval file.\n",
      "    shift         Adjust the position of intervals.\n",
      "    subtract      Remove intervals based on overlaps b/w two files.\n",
      "    slop          Adjust the size of intervals.\n",
      "    flank         Create new intervals from the flanks of existing intervals.\n",
      "    sort          Order the intervals in a file.\n",
      "    random        Generate random intervals in a genome.\n",
      "    shuffle       Randomly redistribute intervals in a genome.\n",
      "    sample        Sample random records from file using reservoir sampling.\n",
      "    spacing       Report the gap lengths between intervals in a file.\n",
      "    annotate      Annotate coverage of features from multiple files.\n",
      "\n",
      "[ Multi-way file comparisons ]\n",
      "    multiinter    Identifies common intervals among multiple interval files.\n",
      "    unionbedg     Combines coverage intervals from multiple BEDGRAPH files.\n",
      "\n",
      "[ Paired-end manipulation ]\n",
      "    pairtobed     Find pairs that overlap intervals in various ways.\n",
      "    pairtopair    Find pairs that overlap other pairs in various ways.\n",
      "\n",
      "[ Format conversion ]\n",
      "    bamtobed      Convert BAM alignments to BED (& other) formats.\n",
      "    bedtobam      Convert intervals to BAM records.\n",
      "    bamtofastq    Convert BAM records to FASTQ records.\n",
      "    bedpetobam    Convert BEDPE intervals to BAM records.\n",
      "    bed12tobed6   Breaks BED12 intervals into discrete BED6 intervals.\n",
      "\n",
      "[ Fasta manipulation ]\n",
      "    getfasta      Use intervals to extract sequences from a FASTA file.\n",
      "    maskfasta     Use intervals to mask sequences from a FASTA file.\n",
      "    nuc           Profile the nucleotide content of intervals in a FASTA file.\n",
      "\n",
      "[ BAM focused tools ]\n",
      "    multicov      Counts coverage from multiple BAMs at specific intervals.\n",
      "    tag           Tag BAM alignments based on overlaps with interval files.\n",
      "\n",
      "[ Statistical relationships ]\n",
      "    jaccard       Calculate the Jaccard statistic b/w two sets of intervals.\n",
      "    reldist       Calculate the distribution of relative distances b/w two files.\n",
      "    fisher        Calculate Fisher statistic b/w two feature files.\n",
      "\n",
      "[ Miscellaneous tools ]\n",
      "    overlap       Computes the amount of overlap from two intervals.\n",
      "    igv           Create an IGV snapshot batch script.\n",
      "    links         Create a HTML page of links to UCSC locations.\n",
      "    makewindows   Make interval \"windows\" across a genome.\n",
      "    groupby       Group by common cols. & summarize oth. cols. (~ SQL \"groupBy\")\n",
      "    expand        Replicate lines based on lists of values in columns.\n",
      "    split         Split a file into multiple files with equal records or base pairs.\n",
      "    summary       Statistical summary of intervals in a file.\n",
      "\n",
      "[ General Parameters ]\n",
      "     --cram-ref    Reference used by a CRAM input\n",
      "\n",
      "[ General help ]\n",
      "    --help        Print this help menu.\n",
      "    --version     What version of bedtools are you using?.\n",
      "    --contact     Feature requests, bugs, mailing lists, etc.\n",
      "\n"
     ]
    }
   ],
   "source": [
    "singularity exec ./bedtools_2.30.0--hc088bd4_0.sif bedtools --help"
   ]
  },
  {
   "cell_type": "code",
   "execution_count": 107,
   "id": "10623fdd-8a41-4a82-bcea-294a2cf7171b",
   "metadata": {},
   "outputs": [
    {
     "name": "stdout",
     "output_type": "stream",
     "text": [
      "bedtools is a powerful toolset for genome arithmetic.\n",
      "\n",
      "Version:   v2.30.0\n",
      "About:     developed in the quinlanlab.org and by many contributors worldwide.\n",
      "Docs:      http://bedtools.readthedocs.io/\n",
      "Code:      https://github.com/arq5x/bedtools2\n",
      "Mail:      https://groups.google.com/forum/#!forum/bedtools-discuss\n",
      "\n",
      "Usage:     bedtools <subcommand> [options]\n",
      "\n",
      "The bedtools sub-commands include:\n",
      "\n",
      "[ Genome arithmetic ]\n",
      "    intersect     Find overlapping intervals in various ways.\n",
      "    window        Find overlapping intervals within a window around an interval.\n",
      "    closest       Find the closest, potentially non-overlapping interval.\n",
      "    coverage      Compute the coverage over defined intervals.\n",
      "    map           Apply a function to a column for each overlapping interval.\n",
      "    genomecov     Compute the coverage over an entire genome.\n",
      "    merge         Combine overlapping/nearby intervals into a single interval.\n",
      "    cluster       Cluster (but don't merge) overlapping/nearby intervals.\n",
      "    complement    Extract intervals _not_ represented by an interval file.\n",
      "    shift         Adjust the position of intervals.\n",
      "    subtract      Remove intervals based on overlaps b/w two files.\n",
      "    slop          Adjust the size of intervals.\n",
      "    flank         Create new intervals from the flanks of existing intervals.\n",
      "    sort          Order the intervals in a file.\n",
      "    random        Generate random intervals in a genome.\n",
      "    shuffle       Randomly redistribute intervals in a genome.\n",
      "    sample        Sample random records from file using reservoir sampling.\n",
      "    spacing       Report the gap lengths between intervals in a file.\n",
      "    annotate      Annotate coverage of features from multiple files.\n",
      "\n",
      "[ Multi-way file comparisons ]\n",
      "    multiinter    Identifies common intervals among multiple interval files.\n",
      "    unionbedg     Combines coverage intervals from multiple BEDGRAPH files.\n",
      "\n",
      "[ Paired-end manipulation ]\n",
      "    pairtobed     Find pairs that overlap intervals in various ways.\n",
      "    pairtopair    Find pairs that overlap other pairs in various ways.\n",
      "\n",
      "[ Format conversion ]\n",
      "    bamtobed      Convert BAM alignments to BED (& other) formats.\n",
      "    bedtobam      Convert intervals to BAM records.\n",
      "    bamtofastq    Convert BAM records to FASTQ records.\n",
      "    bedpetobam    Convert BEDPE intervals to BAM records.\n",
      "    bed12tobed6   Breaks BED12 intervals into discrete BED6 intervals.\n",
      "\n",
      "[ Fasta manipulation ]\n",
      "    getfasta      Use intervals to extract sequences from a FASTA file.\n",
      "    maskfasta     Use intervals to mask sequences from a FASTA file.\n",
      "    nuc           Profile the nucleotide content of intervals in a FASTA file.\n",
      "\n",
      "[ BAM focused tools ]\n",
      "    multicov      Counts coverage from multiple BAMs at specific intervals.\n",
      "    tag           Tag BAM alignments based on overlaps with interval files.\n",
      "\n",
      "[ Statistical relationships ]\n",
      "    jaccard       Calculate the Jaccard statistic b/w two sets of intervals.\n",
      "    reldist       Calculate the distribution of relative distances b/w two files.\n",
      "    fisher        Calculate Fisher statistic b/w two feature files.\n",
      "\n",
      "[ Miscellaneous tools ]\n",
      "    overlap       Computes the amount of overlap from two intervals.\n",
      "    igv           Create an IGV snapshot batch script.\n",
      "    links         Create a HTML page of links to UCSC locations.\n",
      "    makewindows   Make interval \"windows\" across a genome.\n",
      "    groupby       Group by common cols. & summarize oth. cols. (~ SQL \"groupBy\")\n",
      "    expand        Replicate lines based on lists of values in columns.\n",
      "    split         Split a file into multiple files with equal records or base pairs.\n",
      "    summary       Statistical summary of intervals in a file.\n",
      "\n",
      "[ General Parameters ]\n",
      "     --cram-ref    Reference used by a CRAM input\n",
      "\n",
      "[ General help ]\n",
      "    --help        Print this help menu.\n",
      "    --version     What version of bedtools are you using?.\n",
      "    --contact     Feature requests, bugs, mailing lists, etc.\n",
      "\n"
     ]
    }
   ],
   "source": [
    "${FD_BIN}/bedtools --help"
   ]
  },
  {
   "cell_type": "code",
   "execution_count": null,
   "id": "002821fc-4437-4aa2-9d69-8d4b1fc88f39",
   "metadata": {},
   "outputs": [],
   "source": []
  }
 ],
 "metadata": {
  "kernelspec": {
   "display_name": "Bash",
   "language": "bash",
   "name": "bash"
  },
  "language_info": {
   "codemirror_mode": "shell",
   "file_extension": ".sh",
   "mimetype": "text/x-sh",
   "name": "bash"
  }
 },
 "nbformat": 4,
 "nbformat_minor": 5
}
