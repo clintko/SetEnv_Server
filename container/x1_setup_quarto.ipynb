{
 "cells": [
  {
   "cell_type": "code",
   "execution_count": 6,
   "id": "99030c7d-8884-47a4-9b65-7ab9147ea89f",
   "metadata": {},
   "outputs": [
    {
     "name": "stdout",
     "output_type": "stream",
     "text": [
      "\u001b[0m\u001b[38;5;34mbedtools\u001b[0m   \u001b[38;5;34mhogs\u001b[0m               set_ucsc.ipynb          \u001b[38;5;27mucsc\u001b[0m\n",
      "\u001b[38;5;27mcmdstan\u001b[0m    \u001b[38;5;34mmonitor.sh\u001b[0m         \u001b[38;5;27mtest_cmdstan\u001b[0m            \u001b[38;5;34mwatching.sh\u001b[0m\n",
      "\u001b[38;5;34mdeeptools\u001b[0m  set_cmdstan.ipynb  test_run_cmdstan.ipynb\n"
     ]
    }
   ],
   "source": [
    "ls /data/reddylab/Kuei/bin"
   ]
  },
  {
   "cell_type": "code",
   "execution_count": 5,
   "id": "9635ae37-01cd-4be2-9c6e-29d79bf40fee",
   "metadata": {},
   "outputs": [
    {
     "name": "stdout",
     "output_type": "stream",
     "text": [
      "\u001b[0m\u001b[38;5;27mbiocontainer\u001b[0m  \u001b[38;5;27mhome\u001b[0m  \u001b[38;5;27mproject\u001b[0m  \u001b[38;5;27mproject_backup\u001b[0m  \u001b[38;5;27mproject_tmp\u001b[0m  \u001b[38;5;27mrstudio_tmp\u001b[0m  \u001b[38;5;27mtoolbox\u001b[0m\n"
     ]
    }
   ],
   "source": [
    "ls /data/reddylab/Kuei/singularity"
   ]
  },
  {
   "cell_type": "code",
   "execution_count": 7,
   "id": "09438c72-7dd6-4c83-a157-66fec4c47aab",
   "metadata": {},
   "outputs": [],
   "source": [
    "FD_BASE=/data/reddylab/Kuei\n",
    "FD_BIN=${FD_BASE}/bin"
   ]
  },
  {
   "cell_type": "code",
   "execution_count": 8,
   "id": "7a80ddf7-e9bc-40f9-b58f-e09f078c9f8a",
   "metadata": {},
   "outputs": [
    {
     "name": "stdout",
     "output_type": "stream",
     "text": [
      "\u001b[0m\u001b[38;5;34mbedtools\u001b[0m   \u001b[38;5;34mhogs\u001b[0m               set_ucsc.ipynb          \u001b[38;5;27mucsc\u001b[0m\n",
      "\u001b[38;5;27mcmdstan\u001b[0m    \u001b[38;5;34mmonitor.sh\u001b[0m         \u001b[38;5;27mtest_cmdstan\u001b[0m            \u001b[38;5;34mwatching.sh\u001b[0m\n",
      "\u001b[38;5;34mdeeptools\u001b[0m  set_cmdstan.ipynb  test_run_cmdstan.ipynb\n"
     ]
    }
   ],
   "source": [
    "ls ${FD_BIN}"
   ]
  },
  {
   "cell_type": "code",
   "execution_count": 16,
   "id": "5ee97699-3152-4964-904a-74fbe6102a0c",
   "metadata": {},
   "outputs": [],
   "source": [
    "cat > ${FD_BIN}/quarto << 'EOF'\n",
    "#!/bin/bash\n",
    "\n",
    "########################################\n",
    "### Wrapper of quarto\n",
    "########################################\n",
    "\n",
    "### set environment\n",
    "FDIRY_BASE=/data/reddylab/Kuei\n",
    "FOLDR_SING=singularity/toolbox\n",
    "FNAME_SING=singularity_rocker_verse.sif\n",
    "FPATH_SING=${FDIRY_BASE}/${FOLDR_SING}/${FNAME_SING}\n",
    "\n",
    "### set argument\n",
    "IMG=${FPATH_SING}\n",
    "CMD=quarto\n",
    "ARGS=\"$@\"\n",
    "\n",
    "### execution\n",
    "singularity exec \\\n",
    "    -H ${PWD}:/home \\\n",
    "    -B /data:/data \\\n",
    "    ${IMG} \\\n",
    "    ${CMD} \\\n",
    "    ${ARGS}\n",
    "\n",
    "EOF\n",
    "\n",
    "chmod +x ${FD_BIN}/quarto"
   ]
  },
  {
   "cell_type": "code",
   "execution_count": null,
   "id": "d81f79b0-baf6-4428-94ee-41f61eef8573",
   "metadata": {},
   "outputs": [],
   "source": []
  }
 ],
 "metadata": {
  "kernelspec": {
   "display_name": "Bash",
   "language": "bash",
   "name": "bash"
  },
  "language_info": {
   "codemirror_mode": "shell",
   "file_extension": ".sh",
   "mimetype": "text/x-sh",
   "name": "bash"
  }
 },
 "nbformat": 4,
 "nbformat_minor": 5
}
