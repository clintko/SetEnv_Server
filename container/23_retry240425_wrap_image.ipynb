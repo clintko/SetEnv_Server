{
 "cells": [
  {
   "cell_type": "code",
   "execution_count": 1,
   "id": "fd8633d6-bbb8-40ac-a6eb-d0bdd4468327",
   "metadata": {},
   "outputs": [
    {
     "name": "stdout",
     "output_type": "stream",
     "text": [
      "You are working on             Duke Server: HARDAC\n",
      "BASE DIRECTORY (FD_BASE):      /data/reddylab/Kuei\n",
      "REPO DIRECTORY (FD_REPO):      /data/reddylab/Kuei/repo\n",
      "WORK DIRECTORY (FD_WORK):      /data/reddylab/Kuei/work\n",
      "DATA DIRECTORY (FD_DATA):      /data/reddylab/Kuei/data\n",
      "CONTAINER DIR. (FD_SING):      /data/reddylab/Kuei/container\n",
      "\n"
     ]
    }
   ],
   "source": [
    "source ../config_path_duke_hardac.sh\n",
    "show_env"
   ]
  },
  {
   "cell_type": "code",
   "execution_count": 4,
   "id": "c7f8b779-0f9a-4000-9cb7-f0991bc5f47c",
   "metadata": {},
   "outputs": [],
   "source": [
    "cat > ./run_bedtools.sh << 'EOF'\n",
    "#!/bin/bash\n",
    "\n",
    "########################################\n",
    "### Wrapper of bedtools container\n",
    "########################################\n",
    "\n",
    "IMAGE=/data/reddylab/Kuei/container/biocontainer/bedtools:2.31.1--hf5e1c6e_1\n",
    "\n",
    "CMD=\"bedtools\"\n",
    "ARGS=\"$@\"\n",
    "\n",
    "singularity exec \\\n",
    "    -B ${PWD}      \\\n",
    "    -B /data:/data \\\n",
    "    -B /gpfs:/gpfs \\\n",
    "    ${IMAGE} ${CMD} ${ARGS}\n",
    "EOF\n",
    "chmod +x ./run_bedtools.sh"
   ]
  },
  {
   "cell_type": "code",
   "execution_count": 5,
   "id": "2603261a-114f-40d0-a900-c665735fdcdb",
   "metadata": {},
   "outputs": [
    {
     "name": "stdout",
     "output_type": "stream",
     "text": [
      "bedtools v2.31.1\n"
     ]
    }
   ],
   "source": [
    "./run_bedtools.sh --version"
   ]
  },
  {
   "cell_type": "code",
   "execution_count": 6,
   "id": "d10626e3-3aa4-42ed-90d8-36ebebc25a90",
   "metadata": {},
   "outputs": [
    {
     "name": "stdout",
     "output_type": "stream",
     "text": [
      "bedtools is a powerful toolset for genome arithmetic.\n",
      "\n",
      "Version:   v2.31.1\n",
      "About:     developed in the quinlanlab.org and by many contributors worldwide.\n",
      "Docs:      http://bedtools.readthedocs.io/\n",
      "Code:      https://github.com/arq5x/bedtools2\n",
      "Mail:      https://groups.google.com/forum/#!forum/bedtools-discuss\n",
      "\n",
      "Usage:     bedtools <subcommand> [options]\n",
      "\n",
      "The bedtools sub-commands include:\n",
      "\n",
      "[ Genome arithmetic ]\n",
      "    intersect     Find overlapping intervals in various ways.\n",
      "    window        Find overlapping intervals within a window around an interval.\n",
      "    closest       Find the closest, potentially non-overlapping interval.\n",
      "    coverage      Compute the coverage over defined intervals.\n",
      "    map           Apply a function to a column for each overlapping interval.\n",
      "    genomecov     Compute the coverage over an entire genome.\n",
      "    merge         Combine overlapping/nearby intervals into a single interval.\n",
      "    cluster       Cluster (but don't merge) overlapping/nearby intervals.\n",
      "    complement    Extract intervals _not_ represented by an interval file.\n",
      "    shift         Adjust the position of intervals.\n",
      "    subtract      Remove intervals based on overlaps b/w two files.\n",
      "    slop          Adjust the size of intervals.\n",
      "    flank         Create new intervals from the flanks of existing intervals.\n",
      "    sort          Order the intervals in a file.\n",
      "    random        Generate random intervals in a genome.\n",
      "    shuffle       Randomly redistribute intervals in a genome.\n",
      "    sample        Sample random records from file using reservoir sampling.\n",
      "    spacing       Report the gap lengths between intervals in a file.\n",
      "    annotate      Annotate coverage of features from multiple files.\n",
      "\n",
      "[ Multi-way file comparisons ]\n",
      "    multiinter    Identifies common intervals among multiple interval files.\n",
      "    unionbedg     Combines coverage intervals from multiple BEDGRAPH files.\n",
      "\n",
      "[ Paired-end manipulation ]\n",
      "    pairtobed     Find pairs that overlap intervals in various ways.\n",
      "    pairtopair    Find pairs that overlap other pairs in various ways.\n",
      "\n",
      "[ Format conversion ]\n",
      "    bamtobed      Convert BAM alignments to BED (& other) formats.\n",
      "    bedtobam      Convert intervals to BAM records.\n",
      "    bamtofastq    Convert BAM records to FASTQ records.\n",
      "    bedpetobam    Convert BEDPE intervals to BAM records.\n",
      "    bed12tobed6   Breaks BED12 intervals into discrete BED6 intervals.\n",
      "\n",
      "[ Fasta manipulation ]\n",
      "    getfasta      Use intervals to extract sequences from a FASTA file.\n",
      "    maskfasta     Use intervals to mask sequences from a FASTA file.\n",
      "    nuc           Profile the nucleotide content of intervals in a FASTA file.\n",
      "\n",
      "[ BAM focused tools ]\n",
      "    multicov      Counts coverage from multiple BAMs at specific intervals.\n",
      "    tag           Tag BAM alignments based on overlaps with interval files.\n",
      "\n",
      "[ Statistical relationships ]\n",
      "    jaccard       Calculate the Jaccard statistic b/w two sets of intervals.\n",
      "    reldist       Calculate the distribution of relative distances b/w two files.\n",
      "    fisher        Calculate Fisher statistic b/w two feature files.\n",
      "\n",
      "[ Miscellaneous tools ]\n",
      "    overlap       Computes the amount of overlap from two intervals.\n",
      "    igv           Create an IGV snapshot batch script.\n",
      "    links         Create a HTML page of links to UCSC locations.\n",
      "    makewindows   Make interval \"windows\" across a genome.\n",
      "    groupby       Group by common cols. & summarize oth. cols. (~ SQL \"groupBy\")\n",
      "    expand        Replicate lines based on lists of values in columns.\n",
      "    split         Split a file into multiple files with equal records or base pairs.\n",
      "    summary       Statistical summary of intervals in a file.\n",
      "\n",
      "[ General Parameters ]\n",
      "     --cram-ref    Reference used by a CRAM input\n",
      "\n",
      "[ General help ]\n",
      "    --help        Print this help menu.\n",
      "    --version     What version of bedtools are you using?.\n",
      "    --contact     Feature requests, bugs, mailing lists, etc.\n",
      "\n"
     ]
    }
   ],
   "source": [
    "./run_bedtools.sh --help"
   ]
  },
  {
   "cell_type": "code",
   "execution_count": 7,
   "id": "73368b26-d301-4ba3-9b3e-05e678d3f78f",
   "metadata": {},
   "outputs": [
    {
     "name": "stdout",
     "output_type": "stream",
     "text": [
      "chr1\t5\t50\t2\t30\t45\t0.6666667\n"
     ]
    }
   ],
   "source": [
    "./run_bedtools.sh coverage -a A.bed -b B.bed"
   ]
  },
  {
   "cell_type": "code",
   "execution_count": null,
   "id": "561186e7-ebef-4de6-910b-0c6a297ad9db",
   "metadata": {},
   "outputs": [],
   "source": []
  }
 ],
 "metadata": {
  "kernelspec": {
   "display_name": "Bash",
   "language": "bash",
   "name": "bash"
  },
  "language_info": {
   "codemirror_mode": "shell",
   "file_extension": ".sh",
   "mimetype": "text/x-sh",
   "name": "bash"
  }
 },
 "nbformat": 4,
 "nbformat_minor": 5
}
