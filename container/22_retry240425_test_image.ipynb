{
 "cells": [
  {
   "cell_type": "code",
   "execution_count": 1,
   "id": "5c96f1b3-1953-4f29-9244-d77cd31e38ad",
   "metadata": {},
   "outputs": [],
   "source": [
    "module load bedtools2"
   ]
  },
  {
   "cell_type": "code",
   "execution_count": 2,
   "id": "de4f8309-5b9c-4830-97a9-27743055ea7d",
   "metadata": {},
   "outputs": [
    {
     "name": "stdout",
     "output_type": "stream",
     "text": [
      "bedtools v2.25.0\n"
     ]
    }
   ],
   "source": [
    "bedtools --version"
   ]
  },
  {
   "cell_type": "code",
   "execution_count": 3,
   "id": "0fceb356-605f-4adb-b2ba-81a824893a1f",
   "metadata": {},
   "outputs": [],
   "source": [
    "TAB=\"$(printf '\\t')\"\n",
    "\n",
    "cat > A.bed << EOF\n",
    "chr1${TAB}05${TAB}50\n",
    "EOF\n",
    "\n",
    "cat > B.bed << EOF\n",
    "chr1${TAB}10${TAB}20\n",
    "chr1${TAB}15${TAB}40\n",
    "EOF"
   ]
  },
  {
   "cell_type": "code",
   "execution_count": 4,
   "id": "5950e1cf-a37f-4a56-9291-92f92a840e76",
   "metadata": {},
   "outputs": [
    {
     "name": "stdout",
     "output_type": "stream",
     "text": [
      "chr1\t05\t50\n"
     ]
    }
   ],
   "source": [
    "cat A.bed"
   ]
  },
  {
   "cell_type": "code",
   "execution_count": 5,
   "id": "1caf1140-e140-44f4-87f7-16e0cd4815e6",
   "metadata": {},
   "outputs": [
    {
     "name": "stdout",
     "output_type": "stream",
     "text": [
      "chr1\t10\t20\n",
      "chr1\t15\t40\n"
     ]
    }
   ],
   "source": [
    "cat B.bed"
   ]
  },
  {
   "cell_type": "markdown",
   "id": "9da228d4-8ddc-42ef-b857-edb20bc8c8a3",
   "metadata": {},
   "source": [
    "**Run Module**"
   ]
  },
  {
   "cell_type": "code",
   "execution_count": 6,
   "id": "6a1f6921-415c-4d57-b218-a80eedd6082e",
   "metadata": {},
   "outputs": [
    {
     "name": "stdout",
     "output_type": "stream",
     "text": [
      "chr1\t5\t50\t2\t30\t45\t0.6666667\n"
     ]
    }
   ],
   "source": [
    "bedtools coverage -a ./A.bed -b ./B.bed"
   ]
  },
  {
   "cell_type": "markdown",
   "id": "8bcc2435-170c-4553-9038-79b748d5d675",
   "metadata": {},
   "source": [
    "# Run Singularity container"
   ]
  },
  {
   "cell_type": "code",
   "execution_count": 7,
   "id": "bd0ff539-4d42-4867-a437-8221d2b03999",
   "metadata": {},
   "outputs": [],
   "source": [
    "IMAGE=/data/reddylab/Kuei/container/biocontainer/bedtools:2.31.1--hf5e1c6e_1"
   ]
  },
  {
   "cell_type": "code",
   "execution_count": 13,
   "id": "6fe2acbb-13b4-4bd1-b5ee-3e536abc8f54",
   "metadata": {},
   "outputs": [
    {
     "name": "stdout",
     "output_type": "stream",
     "text": [
      "bedtools v2.31.1\n"
     ]
    }
   ],
   "source": [
    "singularity exec ${IMAGE} bedtools --version"
   ]
  },
  {
   "cell_type": "code",
   "execution_count": 14,
   "id": "6b33694a-4b94-4ace-b4b2-2d06653cfa9b",
   "metadata": {},
   "outputs": [
    {
     "name": "stdout",
     "output_type": "stream",
     "text": [
      "PRETTY_NAME=\"Debian GNU/Linux 12 (bookworm)\"\n",
      "NAME=\"Debian GNU/Linux\"\n",
      "VERSION_ID=\"12\"\n",
      "VERSION=\"12 (bookworm)\"\n",
      "VERSION_CODENAME=bookworm\n",
      "ID=debian\n",
      "HOME_URL=\"https://www.debian.org/\"\n",
      "SUPPORT_URL=\"https://www.debian.org/support\"\n",
      "BUG_REPORT_URL=\"https://bugs.debian.org/\"\n"
     ]
    }
   ],
   "source": [
    "singularity exec ${IMAGE} cat /etc/os-release"
   ]
  },
  {
   "cell_type": "code",
   "execution_count": 15,
   "id": "959b6e83-9d31-4552-b31f-a816fa6fb5ed",
   "metadata": {},
   "outputs": [
    {
     "name": "stdout",
     "output_type": "stream",
     "text": [
      "/home/kk319\n",
      "\n",
      "\u001b[1;36mKuei\u001b[m              \u001b[1;34mRlibs\u001b[m             \u001b[0;0mmodule_avail.txt\u001b[m  \u001b[1;34mtmp\u001b[m\n",
      "\u001b[1;34mR\u001b[m                 \u001b[1;34mconfig\u001b[m            \u001b[1;36mreddylab\u001b[m\n",
      "\n",
      "\u001b[1;36mKuei\u001b[m              \u001b[1;34mRlibs\u001b[m             \u001b[0;0mmodule_avail.txt\u001b[m  \u001b[1;34mtmp\u001b[m\n",
      "\u001b[1;34mR\u001b[m                 \u001b[1;34mconfig\u001b[m            \u001b[1;36mreddylab\u001b[m\n",
      "\n",
      "\u001b[1;36mbin\u001b[m          \u001b[1;34metc\u001b[m          \u001b[1;32mlinuxrc\u001b[m      \u001b[1;34mproc\u001b[m         \u001b[1;36msingularity\u001b[m  \u001b[1;34musr\u001b[m\n",
      "\u001b[1;34mboot\u001b[m         \u001b[1;34mhome\u001b[m         \u001b[1;34mmedia\u001b[m        \u001b[1;34mroot\u001b[m         \u001b[1;34msrv\u001b[m          \u001b[1;34mvar\u001b[m\n",
      "\u001b[1;34mdev\u001b[m          \u001b[1;36mlib\u001b[m          \u001b[1;34mmnt\u001b[m          \u001b[1;34mrun\u001b[m          \u001b[1;34msys\u001b[m\n",
      "\u001b[1;36menvironment\u001b[m  \u001b[1;36mlib64\u001b[m        \u001b[1;34mopt\u001b[m          \u001b[1;36msbin\u001b[m         \u001b[1;34mtmp\u001b[m\n"
     ]
    }
   ],
   "source": [
    "singularity exec ${IMAGE} pwd\n",
    "echo\n",
    "singularity exec ${IMAGE} ls /home/kk319\n",
    "echo \n",
    "singularity exec ${IMAGE} ls\n",
    "echo\n",
    "singularity exec ${IMAGE} ls /"
   ]
  },
  {
   "cell_type": "markdown",
   "id": "655bb979-01a0-4660-a928-b45cf5014327",
   "metadata": {},
   "source": [
    "**Test binding**"
   ]
  },
  {
   "cell_type": "code",
   "execution_count": 17,
   "id": "f4d6d4ae-2464-4a3f-8d6b-59f6b10f1d7e",
   "metadata": {},
   "outputs": [
    {
     "name": "stdout",
     "output_type": "stream",
     "text": [
      "/home\n",
      "\n",
      "\u001b[0;0m01tutorial.ipynb\u001b[m                     \u001b[0;0m23_retry240425_wrap_image.ipynb\u001b[m\n",
      "\u001b[0;0m02testing.ipynb\u001b[m                      \u001b[0;0mA.bed\u001b[m\n",
      "\u001b[0;0m03testing.ipynb\u001b[m                      \u001b[0;0mB.bed\u001b[m\n",
      "\u001b[0;0m11setup.ipynb\u001b[m                        \u001b[1;32mrun_bedtools.sh\u001b[m\n",
      "\u001b[0;0m21_retry240425_download_image.ipynb\u001b[m  \u001b[0;0mx1_setup_quarto.ipynb\u001b[m\n",
      "\u001b[0;0m22_retry240425_test_image.ipynb\u001b[m\n"
     ]
    }
   ],
   "source": [
    "singularity exec -H ${PWD}:/home ${IMAGE} pwd\n",
    "echo\n",
    "singularity exec -H ${PWD}:/home ${IMAGE} ls"
   ]
  },
  {
   "cell_type": "code",
   "execution_count": 25,
   "id": "1bc6ecb2-695e-41c7-a289-b2dedd2b4ba4",
   "metadata": {},
   "outputs": [
    {
     "name": "stdout",
     "output_type": "stream",
     "text": [
      "/gpfs/fs1/data/reddylab/Kuei/repo/Settool_Bio/container\n",
      "\n",
      "\u001b[0;0m01tutorial.ipynb\u001b[m                     \u001b[0;0m23_retry240425_wrap_image.ipynb\u001b[m\n",
      "\u001b[0;0m02testing.ipynb\u001b[m                      \u001b[0;0mA.bed\u001b[m\n",
      "\u001b[0;0m03testing.ipynb\u001b[m                      \u001b[0;0mB.bed\u001b[m\n",
      "\u001b[0;0m11setup.ipynb\u001b[m                        \u001b[1;34mkk319\u001b[m\n",
      "\u001b[0;0m21_retry240425_download_image.ipynb\u001b[m  \u001b[1;32mrun_bedtools.sh\u001b[m\n",
      "\u001b[0;0m22_retry240425_test_image.ipynb\u001b[m      \u001b[0;0mx1_setup_quarto.ipynb\u001b[m\n",
      "\n",
      "\u001b[1;36mKuei\u001b[m              \u001b[1;34mRlibs\u001b[m             \u001b[0;0mmodule_avail.txt\u001b[m  \u001b[1;34mtmp\u001b[m\n",
      "\u001b[1;34mR\u001b[m                 \u001b[1;34mconfig\u001b[m            \u001b[1;36mreddylab\u001b[m\n"
     ]
    }
   ],
   "source": [
    "singularity exec -B ${PWD} ${IMAGE} pwd\n",
    "echo\n",
    "singularity exec -B ${PWD} ${IMAGE} ls\n",
    "echo\n",
    "singularity exec -B ${PWD} ${IMAGE} ls /home/kk319"
   ]
  },
  {
   "cell_type": "markdown",
   "id": "0a430910-c159-46f4-8d26-dd8a5376d6a9",
   "metadata": {},
   "source": [
    "**Test running**"
   ]
  },
  {
   "cell_type": "code",
   "execution_count": 22,
   "id": "8dff0f0b-0bec-4f5f-b4cb-b9f0062195b5",
   "metadata": {},
   "outputs": [
    {
     "name": "stdout",
     "output_type": "stream",
     "text": [
      "chr1\t5\t50\t2\t30\t45\t0.6666667\n"
     ]
    }
   ],
   "source": [
    "FD_INP=/data/reddylab/Kuei/repo/Settool_Bio/container\n",
    "FP_INP_A=${FD_INP}/A.bed\n",
    "FP_INP_B=${FD_INP}/B.bed\n",
    "\n",
    "singularity exec -B /data:/data ${IMAGE} bedtools coverage -a ${FP_INP_A} -b ${FP_INP_B}"
   ]
  },
  {
   "cell_type": "code",
   "execution_count": 23,
   "id": "17131424-8917-474b-8ee9-8cd0293dfe17",
   "metadata": {},
   "outputs": [
    {
     "name": "stdout",
     "output_type": "stream",
     "text": [
      "Error: Unable to open file /gpfs/fs1/data/reddylab/Kuei/repo/Settool_Bio/container/A.bed. Exiting.\n"
     ]
    },
    {
     "ename": "",
     "evalue": "1",
     "output_type": "error",
     "traceback": []
    }
   ],
   "source": [
    "FD_INP=${PWD}\n",
    "FP_INP_A=${FD_INP}/A.bed\n",
    "FP_INP_B=${FD_INP}/B.bed\n",
    "\n",
    "singularity exec -B /data:/data ${IMAGE} bedtools coverage -a ${FP_INP_A} -b ${FP_INP_B}"
   ]
  },
  {
   "cell_type": "code",
   "execution_count": 24,
   "id": "711a3efc-2ded-4050-87ce-0e76bcb8ac48",
   "metadata": {},
   "outputs": [
    {
     "name": "stdout",
     "output_type": "stream",
     "text": [
      "chr1\t5\t50\t2\t30\t45\t0.6666667\n"
     ]
    }
   ],
   "source": [
    "FD_INP=${PWD}\n",
    "FP_INP_A=${FD_INP}/A.bed\n",
    "FP_INP_B=${FD_INP}/B.bed\n",
    "\n",
    "singularity exec -B /gpfs:/gpfs ${IMAGE} bedtools coverage -a ${FP_INP_A} -b ${FP_INP_B}"
   ]
  },
  {
   "cell_type": "markdown",
   "id": "7f1634b2-ace0-45e5-adb5-2b15ad8b7cba",
   "metadata": {},
   "source": [
    "**Final setting**"
   ]
  },
  {
   "cell_type": "code",
   "execution_count": 26,
   "id": "15abc0f6-63a3-4b16-9173-6031b47cd658",
   "metadata": {},
   "outputs": [
    {
     "name": "stdout",
     "output_type": "stream",
     "text": [
      "chr1\t5\t50\t2\t30\t45\t0.6666667\n"
     ]
    }
   ],
   "source": [
    "singularity exec -B ${PWD} -B /data:/data -B /gpfs:/gpfs ${IMAGE} bedtools coverage -a A.bed -b B.bed"
   ]
  },
  {
   "cell_type": "code",
   "execution_count": 27,
   "id": "c002d6aa-9df4-4cab-a93a-ffb8b2a483be",
   "metadata": {},
   "outputs": [
    {
     "name": "stdout",
     "output_type": "stream",
     "text": [
      "chr1\t5\t50\t2\t30\t45\t0.6666667\n"
     ]
    }
   ],
   "source": [
    "FD_INP=/data/reddylab/Kuei/repo/Settool_Bio/container\n",
    "FP_INP_A=${FD_INP}/A.bed\n",
    "FP_INP_B=${FD_INP}/B.bed\n",
    "\n",
    "singularity exec -B ${PWD} -B /data:/data -B /gpfs:/gpfs ${IMAGE} bedtools coverage -a A.bed -b B.bed"
   ]
  },
  {
   "cell_type": "code",
   "execution_count": 28,
   "id": "bb089cce-d16b-48b5-b212-37d3a9a2d421",
   "metadata": {},
   "outputs": [
    {
     "name": "stdout",
     "output_type": "stream",
     "text": [
      "chr1\t5\t50\t2\t30\t45\t0.6666667\n"
     ]
    }
   ],
   "source": [
    "FD_INP=${PWD}\n",
    "FP_INP_A=${FD_INP}/A.bed\n",
    "FP_INP_B=${FD_INP}/B.bed\n",
    "\n",
    "singularity exec -B ${PWD} -B /data:/data -B /gpfs:/gpfs ${IMAGE} bedtools coverage -a A.bed -b B.bed"
   ]
  },
  {
   "cell_type": "code",
   "execution_count": null,
   "id": "831f4ceb-d035-454e-a975-d2a6d01c2b1b",
   "metadata": {},
   "outputs": [],
   "source": []
  },
  {
   "cell_type": "code",
   "execution_count": null,
   "id": "9ffc59f1-e632-4505-952b-4cd668aa7b1d",
   "metadata": {},
   "outputs": [],
   "source": []
  }
 ],
 "metadata": {
  "kernelspec": {
   "display_name": "Bash",
   "language": "bash",
   "name": "bash"
  },
  "language_info": {
   "codemirror_mode": "shell",
   "file_extension": ".sh",
   "mimetype": "text/x-sh",
   "name": "bash"
  }
 },
 "nbformat": 4,
 "nbformat_minor": 5
}
