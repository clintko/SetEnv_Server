{
 "cells": [
  {
   "cell_type": "code",
   "execution_count": 1,
   "id": "8118182f-2a3e-4df3-909d-8a6a537e81af",
   "metadata": {},
   "outputs": [],
   "source": [
    "source ../config/config_duke.sh"
   ]
  },
  {
   "cell_type": "code",
   "execution_count": 2,
   "id": "c7b68d09-914a-43cc-88df-14152803b35e",
   "metadata": {},
   "outputs": [
    {
     "name": "stdout",
     "output_type": "stream",
     "text": [
      "\u001b[0m\u001b[38;5;9m/data/reddylab/Kuei/annotation/snp/hg38/bed_chr_22.bed.gz\u001b[0m\n"
     ]
    }
   ],
   "source": [
    "ls /data/reddylab/Kuei/annotation/snp/hg38/bed_chr_22.bed.gz"
   ]
  },
  {
   "cell_type": "code",
   "execution_count": 3,
   "id": "c1304208-594f-4212-a55b-f36b59257ca8",
   "metadata": {},
   "outputs": [
    {
     "name": "stdout",
     "output_type": "stream",
     "text": [
      "track name=dbSNP_human description=\"dbSNP Build 151 (GRCh38.p7)\" date=\"2018-02-21 14:34\" taxId=9606 dbSnpBuild=151 URL=\"https://www.ncbi.nlm.nih.gov/snp\" assembly=GRCh38.p7 assemblyAccession=GCF_000001405.33\n",
      "chr22\t21013737\t21013738\trs782\t0\t-\n",
      "chr22\t29065633\t29065634\trs783\t0\t+\n",
      "chr22\t12564008\t12564009\trs795\t0\t+\n",
      "chr22\t34166308\t34166309\trs800\t0\t+\n",
      "chr22\t34166309\t34166310\trs805\t0\t-\n",
      "chr22\t27679258\t27679259\trs820\t0\t+\n",
      "chr22\t30626822\t30626823\trs1032\t0\t+\n",
      "chr22\t27174016\t27174017\trs1056\t0\t+\n",
      "chr22\t45565332\t45565333\trs1118\t0\t+\n"
     ]
    }
   ],
   "source": [
    "zcat /data/reddylab/Kuei/annotation/snp/hg38/bed_chr_22.bed.gz | head"
   ]
  },
  {
   "cell_type": "code",
   "execution_count": null,
   "id": "3b907ae4-5b29-4e6d-af41-594849195f0a",
   "metadata": {},
   "outputs": [],
   "source": []
  }
 ],
 "metadata": {
  "kernelspec": {
   "display_name": "Bash",
   "language": "bash",
   "name": "bash"
  },
  "language_info": {
   "codemirror_mode": "shell",
   "file_extension": ".sh",
   "mimetype": "text/x-sh",
   "name": "bash"
  }
 },
 "nbformat": 4,
 "nbformat_minor": 5
}
