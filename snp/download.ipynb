{
 "cells": [
  {
   "cell_type": "code",
   "execution_count": 1,
   "id": "bb9e00c4-1f91-4b95-9d8d-417e7787cc56",
   "metadata": {},
   "outputs": [
    {
     "name": "stdout",
     "output_type": "stream",
     "text": [
      "download.ipynb\n"
     ]
    }
   ],
   "source": [
    "ls"
   ]
  },
  {
   "cell_type": "code",
   "execution_count": 2,
   "id": "e8083fe2-f7d0-4ac9-b990-3b0b3cbea96a",
   "metadata": {},
   "outputs": [
    {
     "name": "stdout",
     "output_type": "stream",
     "text": [
      "/gpfs/fs1/data/reddylab/Kuei/code/Settool_Bio/snp\n"
     ]
    }
   ],
   "source": [
    "pwd"
   ]
  },
  {
   "cell_type": "code",
   "execution_count": 1,
   "id": "4000e34d-01cb-4820-96de-6b9da1e653e8",
   "metadata": {},
   "outputs": [],
   "source": [
    "source ../config/config_duke.sh"
   ]
  },
  {
   "cell_type": "code",
   "execution_count": 2,
   "id": "22934d61-aaaf-4f96-9a69-5c6cde0ac6d8",
   "metadata": {},
   "outputs": [
    {
     "name": "stdout",
     "output_type": "stream",
     "text": [
      "/data/reddylab/Kuei/annotation\n",
      "\u001b[0m\u001b[38;5;27mgenome\u001b[0m\n",
      "\u001b[38;5;27mlog\u001b[0m\n",
      "\u001b[38;5;27mmotif_cluster_jvierstra\u001b[0m\n",
      "\u001b[38;5;27msnp\u001b[0m\n"
     ]
    }
   ],
   "source": [
    "echo  ${FD_ANN}\n",
    "ls -1 ${FD_ANN}"
   ]
  },
  {
   "cell_type": "code",
   "execution_count": 3,
   "id": "901ee58d-9607-4956-b95c-624a9a1e4608",
   "metadata": {},
   "outputs": [
    {
     "name": "stdout",
     "output_type": "stream",
     "text": [
      "\u001b[0m\u001b[38;5;27mhg38\u001b[0m\n"
     ]
    }
   ],
   "source": [
    "ls -1 ${FD_ANN}/genome"
   ]
  },
  {
   "cell_type": "code",
   "execution_count": 8,
   "id": "77967883-6bbc-4bc8-9bcb-b3d97cbff0ed",
   "metadata": {},
   "outputs": [],
   "source": [
    "mkdir -p ${FD_ANN}/snp/hg38\n",
    "mkdir -p ${FD_ANN}/snp/hg19"
   ]
  },
  {
   "cell_type": "code",
   "execution_count": 9,
   "id": "682f657f-83cf-4778-8161-39aa00f527e6",
   "metadata": {},
   "outputs": [
    {
     "name": "stdout",
     "output_type": "stream",
     "text": [
      "\u001b[0m\u001b[38;5;27mhg19\u001b[0m\n",
      "\u001b[38;5;27mhg38\u001b[0m\n"
     ]
    }
   ],
   "source": [
    "ls -1 ${FD_ANN}/snp"
   ]
  },
  {
   "cell_type": "code",
   "execution_count": 13,
   "id": "c8e4da20-1a6c-4a74-9ae6-83ec0d1c7875",
   "metadata": {},
   "outputs": [
    {
     "name": "stdout",
     "output_type": "stream",
     "text": [
      "http://hgdownload.cse.ucsc.edu/goldenpath/hg38/database/snp151.txt.gz\n",
      "--2023-01-27 12:26:50--  http://hgdownload.cse.ucsc.edu/goldenpath/hg38/database/snp151.txt.gz\n",
      "Resolving hgdownload.cse.ucsc.edu (hgdownload.cse.ucsc.edu)... 128.114.119.163\n",
      "Connecting to hgdownload.cse.ucsc.edu (hgdownload.cse.ucsc.edu)|128.114.119.163|:80... connected.\n",
      "HTTP request sent, awaiting response... 200 OK\n",
      "Length: 13884112003 (13G) [application/x-gzip]\n",
      "Saving to: ‘/data/reddylab/Kuei/annotation/snp/hg38/snp151.txt.gz’\n",
      "\n",
      "100%[===================================>] 13,884,112,003 41.2MB/s   in 5m 27s \n",
      "\n",
      "2023-01-27 12:32:17 (40.5 MB/s) - ‘/data/reddylab/Kuei/annotation/snp/hg38/snp151.txt.gz’ saved [13884112003/13884112003]\n",
      "\n"
     ]
    }
   ],
   "source": [
    "GENOME=hg38\n",
    "FDIRY=${FD_ANN}/snp/${GENOME}\n",
    "FNAME=snp151.txt.gz\n",
    "\n",
    "URL=\"http://hgdownload.cse.ucsc.edu/goldenpath/${GENOME}/database\"\n",
    "URL=\"${URL}/${FNAME}\"\n",
    "\n",
    "echo ${URL}\n",
    "wget ${URL} -P ${FDIRY}"
   ]
  },
  {
   "cell_type": "code",
   "execution_count": 14,
   "id": "3b992470-ff58-4d4d-a873-6084038fbba6",
   "metadata": {},
   "outputs": [
    {
     "name": "stdout",
     "output_type": "stream",
     "text": [
      "http://hgdownload.cse.ucsc.edu/goldenpath/hg19/database/snp151.txt.gz\n",
      "--2023-01-27 12:32:17--  http://hgdownload.cse.ucsc.edu/goldenpath/hg19/database/snp151.txt.gz\n",
      "Resolving hgdownload.cse.ucsc.edu (hgdownload.cse.ucsc.edu)... 128.114.119.163\n",
      "Connecting to hgdownload.cse.ucsc.edu (hgdownload.cse.ucsc.edu)|128.114.119.163|:80... connected.\n",
      "HTTP request sent, awaiting response... 200 OK\n",
      "Length: 13136023820 (12G) [application/x-gzip]\n",
      "Saving to: ‘/data/reddylab/Kuei/annotation/snp/hg19/snp151.txt.gz’\n",
      "\n",
      "100%[===================================>] 13,136,023,820 41.1MB/s   in 5m 4s  \n",
      "\n",
      "2023-01-27 12:37:21 (41.2 MB/s) - ‘/data/reddylab/Kuei/annotation/snp/hg19/snp151.txt.gz’ saved [13136023820/13136023820]\n",
      "\n"
     ]
    }
   ],
   "source": [
    "GENOME=hg19\n",
    "FDIRY=${FD_ANN}/snp/${GENOME}\n",
    "FNAME=snp151.txt.gz\n",
    "\n",
    "URL=\"http://hgdownload.cse.ucsc.edu/goldenpath/${GENOME}/database\"\n",
    "URL=\"${URL}/${FNAME}\"\n",
    "\n",
    "echo ${URL}\n",
    "wget ${URL} -P ${FDIRY}"
   ]
  },
  {
   "cell_type": "code",
   "execution_count": 4,
   "id": "a92c1624-74f8-4752-ba23-8df85872064d",
   "metadata": {},
   "outputs": [
    {
     "name": "stdout",
     "output_type": "stream",
     "text": [
      "--2023-01-27 13:03:44--  https://ftp.ncbi.nih.gov/snp/organisms/human_9606_b151_GRCh38p7/BED/bed_chr_22.bed.gz\n",
      "Resolving ftp.ncbi.nih.gov (ftp.ncbi.nih.gov)... 165.112.9.230, 130.14.250.7, 2607:f220:41e:250::7, ...\n",
      "Connecting to ftp.ncbi.nih.gov (ftp.ncbi.nih.gov)|165.112.9.230|:443... connected.\n",
      "HTTP request sent, awaiting response... 200 OK\n",
      "Length: 98018905 (93M) [application/x-gzip]\n",
      "Saving to: ‘/data/reddylab/Kuei/annotation/snp/hg38/bed_chr_22.bed.gz’\n",
      "\n",
      "100%[======================================>] 98,018,905  14.2MB/s   in 7.6s   \n",
      "\n",
      "2023-01-27 13:03:52 (12.3 MB/s) - ‘/data/reddylab/Kuei/annotation/snp/hg38/bed_chr_22.bed.gz’ saved [98018905/98018905]\n",
      "\n"
     ]
    }
   ],
   "source": [
    "GENOME=hg38\n",
    "FDIRY=${FD_ANN}/snp/${GENOME}\n",
    "\n",
    "URL=https://ftp.ncbi.nih.gov/snp/organisms/human_9606_b151_GRCh38p7/BED/bed_chr_22.bed.gz\n",
    "wget ${URL} -P ${FDIRY}"
   ]
  },
  {
   "cell_type": "code",
   "execution_count": null,
   "id": "def8ca4f-dbaa-479d-a619-8e9fcad7f509",
   "metadata": {},
   "outputs": [],
   "source": []
  }
 ],
 "metadata": {
  "kernelspec": {
   "display_name": "Bash",
   "language": "bash",
   "name": "bash"
  },
  "language_info": {
   "codemirror_mode": "shell",
   "file_extension": ".sh",
   "mimetype": "text/x-sh",
   "name": "bash"
  }
 },
 "nbformat": 4,
 "nbformat_minor": 5
}
