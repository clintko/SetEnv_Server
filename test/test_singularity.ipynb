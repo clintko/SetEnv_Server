{
 "cells": [
  {
   "cell_type": "code",
   "execution_count": 1,
   "id": "40af7a21-0220-4787-9ae6-d680e4601e2e",
   "metadata": {},
   "outputs": [
    {
     "name": "stdout",
     "output_type": "stream",
     "text": [
      "You are on Duke Server: HARDAC\n",
      "BASE DIRECTORY:     /gpfs/fs1/data/reddylab/Kuei\n",
      "PATH OF SOURCE:     /gpfs/fs1/data/reddylab/Kuei/source\n",
      "PATH OF EXECUTABLE: /gpfs/fs1/data/reddylab/Kuei/exe\n",
      "PATH OF ANNOTATION: /gpfs/fs1/data/reddylab/Kuei/annotation\n",
      "PATH OF PROJECT:    /gpfs/fs1/data/reddylab/Kuei/GitRepo/Settool_Bio\n",
      "\n"
     ]
    }
   ],
   "source": [
    "source ../config_duke.sh"
   ]
  },
  {
   "cell_type": "code",
   "execution_count": 2,
   "id": "9166ddc2-1b9d-4e03-9fd4-08245208b6b1",
   "metadata": {},
   "outputs": [
    {
     "name": "stdout",
     "output_type": "stream",
     "text": [
      "\u001b[0m\u001b[38;5;27mProj_CombEffect_STARRseq\u001b[0m  \u001b[38;5;27mProj_PROcap_analysis\u001b[0m  \u001b[38;5;27mTest_on_HARDAC\u001b[0m\n",
      "\u001b[38;5;27mProj_multitreat_modeling\u001b[0m  \u001b[38;5;27mSettool_Bio\u001b[0m           \u001b[38;5;27mtmp\u001b[0m\n"
     ]
    }
   ],
   "source": [
    "ls ${FD_CODE}"
   ]
  },
  {
   "cell_type": "code",
   "execution_count": 3,
   "id": "31addfec-c75d-4dc2-9302-60dc181839ad",
   "metadata": {},
   "outputs": [
    {
     "name": "stdout",
     "output_type": "stream",
     "text": [
      "config_duke.R   \u001b[0m\u001b[38;5;27mgenome\u001b[0m                   \u001b[38;5;27mmotif_jaspar\u001b[0m             \u001b[38;5;27mtest\u001b[0m\n",
      "config_duke.sh  load_module_bedtools.sh  README.md\n",
      "config_sing.sh  \u001b[38;5;27mmotif_cluster_jvierstra\u001b[0m  \u001b[38;5;34msing_proj_combeffect.sh\u001b[0m\n"
     ]
    }
   ],
   "source": [
    "ls ${FD_PRJ}"
   ]
  },
  {
   "cell_type": "code",
   "execution_count": 4,
   "id": "19c18d55-3c94-478c-8c2b-f5eb15781010",
   "metadata": {},
   "outputs": [
    {
     "name": "stdout",
     "output_type": "stream",
     "text": [
      "You are on Duke Server: HARDAC\n",
      "BASE DIRECTORY:     /gpfs/fs1/data/reddylab/Kuei\n",
      "PATH OF SOURCE:     /gpfs/fs1/data/reddylab/Kuei/source\n",
      "PATH OF EXECUTABLE: /gpfs/fs1/data/reddylab/Kuei/exe\n",
      "PATH OF ANNOTATION: /gpfs/fs1/data/reddylab/Kuei/annotation\n",
      "PATH OF PROJECT:    /gpfs/fs1/data/reddylab/Kuei/GitRepo/Settool_Bio\n",
      "\n",
      "mount\t     test_py.py  test_sh.sh\t\t test.txt\n",
      "__pycache__  test_r.R\t test_singularity.ipynb\n"
     ]
    }
   ],
   "source": [
    "${FD_PRJ}/sing_proj_combeffect.sh ls"
   ]
  },
  {
   "cell_type": "code",
   "execution_count": 5,
   "id": "f3b858df-9af5-4d51-839e-610a98a7961a",
   "metadata": {},
   "outputs": [
    {
     "name": "stdout",
     "output_type": "stream",
     "text": [
      "You are on Duke Server: HARDAC\n",
      "BASE DIRECTORY:     /gpfs/fs1/data/reddylab/Kuei\n",
      "PATH OF SOURCE:     /gpfs/fs1/data/reddylab/Kuei/source\n",
      "PATH OF EXECUTABLE: /gpfs/fs1/data/reddylab/Kuei/exe\n",
      "PATH OF ANNOTATION: /gpfs/fs1/data/reddylab/Kuei/annotation\n",
      "PATH OF PROJECT:    /gpfs/fs1/data/reddylab/Kuei/GitRepo/Settool_Bio\n",
      "\n",
      "project  reddylab  work\n"
     ]
    }
   ],
   "source": [
    "${FD_PRJ}/sing_proj_combeffect.sh ls mount"
   ]
  },
  {
   "cell_type": "code",
   "execution_count": 8,
   "id": "5e04ac43-d034-41be-aa29-41874278fcc0",
   "metadata": {},
   "outputs": [
    {
     "name": "stdout",
     "output_type": "stream",
     "text": [
      "You are on Duke Server: HARDAC\n",
      "BASE DIRECTORY:     /gpfs/fs1/data/reddylab/Kuei\n",
      "PATH OF SOURCE:     /gpfs/fs1/data/reddylab/Kuei/source\n",
      "PATH OF EXECUTABLE: /gpfs/fs1/data/reddylab/Kuei/exe\n",
      "PATH OF ANNOTATION: /gpfs/fs1/data/reddylab/Kuei/annotation\n",
      "PATH OF PROJECT:    /gpfs/fs1/data/reddylab/Kuei/GitRepo/Settool_Bio\n",
      "\n",
      "config_duke.R\tgenome\t\t\t motif_jaspar\t\t  test\n",
      "config_duke.sh\tload_module_bedtools.sh  README.md\n",
      "config_sing.sh\tmotif_cluster_jvierstra  sing_proj_combeffect.sh\n"
     ]
    }
   ],
   "source": [
    "${FD_PRJ}/sing_proj_combeffect.sh ls mount/project"
   ]
  },
  {
   "cell_type": "code",
   "execution_count": 9,
   "id": "498d71b6-b7fd-4398-8c66-05c2c39ae30a",
   "metadata": {},
   "outputs": [
    {
     "name": "stdout",
     "output_type": "stream",
     "text": [
      "You are on Duke Server: HARDAC\n",
      "BASE DIRECTORY:     /gpfs/fs1/data/reddylab/Kuei\n",
      "PATH OF SOURCE:     /gpfs/fs1/data/reddylab/Kuei/source\n",
      "PATH OF EXECUTABLE: /gpfs/fs1/data/reddylab/Kuei/exe\n",
      "PATH OF ANNOTATION: /gpfs/fs1/data/reddylab/Kuei/annotation\n",
      "PATH OF PROJECT:    /gpfs/fs1/data/reddylab/Kuei/GitRepo/Settool_Bio\n",
      "\n",
      "You are within a singularity image\n",
      "BASE DIRECTORY:     /home/mount/work\n",
      "PATH OF SOURCE:     /home/mount/work/source\n",
      "PATH OF EXECUTABLE: /home/mount/work/exe\n",
      "PATH OF ANNOTATION: /home/mount/work/annotation\n",
      "PATH OF PROJECT:    /home/mount/project\n",
      "\n",
      "annotation  exe  GitRepo  out  singularity  source  source_old\tvenv\n",
      "+++++++++++++++++++++++\n",
      "A549_histone_mods    Dewran\t\t    Kuei\t    scunningham\n",
      "Alex\t\t     external_data\t    Laavanya\t    shengyu\n",
      "Analyses\t     Flowcells\t\t    miseq_windows   Shengyu\n",
      "Apoorva\t\t     gjohnson\t\t    Pompe\t    Shiyu\n",
      "bmajoros\t     GSD\t\t    projects\t    software\n",
      "btk20\t\t     Hazel\t\t    Qianzi\t    Tapestation\n",
      "chris\t\t     HKDC1_locus_STARR_seq  reddytest\t    TestData\n",
      "ciofanilab\t     icm10\t\t    reference\t    Tim\n",
      "clarity_lims_backup  JoshCao\t\t    Reference_Data  tmp\n",
      "cshoben\t\t     Jungkyun\t\t    refGene.txt     UDN\n",
      "Dan\t\t     katie\t\t    Revathy\t    webpages\n",
      "Darryl\t\t     Keith\t\t    scarlett\t    Xingyan\n",
      "Datasets\t     kstrouse\t\t    Schuyler\t    YoungSook\n",
      "+++++++++++++++++++++++\n",
      "/home/mount/project\n"
     ]
    }
   ],
   "source": [
    "${FD_PRJ}/sing_proj_combeffect.sh bash << 'EOF'\n",
    "source ./mount/project/config_sing.sh\n",
    "ls ${FD_WORK}\n",
    "echo +++++++++++++++++++++++\n",
    "ls ${FD_RLAB}\n",
    "echo +++++++++++++++++++++++\n",
    "ls -d ${FD_PRJ}\n",
    "EOF"
   ]
  },
  {
   "cell_type": "code",
   "execution_count": 10,
   "id": "0b27b9b4-d4dc-4044-8495-b02c149fc6ee",
   "metadata": {},
   "outputs": [
    {
     "name": "stdout",
     "output_type": "stream",
     "text": [
      "You are on Duke Server: HARDAC\n",
      "BASE DIRECTORY:     /gpfs/fs1/data/reddylab/Kuei\n",
      "PATH OF SOURCE:     /gpfs/fs1/data/reddylab/Kuei/source\n",
      "PATH OF EXECUTABLE: /gpfs/fs1/data/reddylab/Kuei/exe\n",
      "PATH OF ANNOTATION: /gpfs/fs1/data/reddylab/Kuei/annotation\n",
      "PATH OF PROJECT:    /gpfs/fs1/data/reddylab/Kuei/GitRepo/Settool_Bio\n",
      "\n",
      "Python 3.7.6\n",
      "R scripting front-end version 4.1.1 (2021-08-10)\n"
     ]
    }
   ],
   "source": [
    "${FD_PRJ}/sing_proj_combeffect.sh bash << 'EOF'\n",
    "python --version\n",
    "Rscript --version\n",
    "EOF"
   ]
  },
  {
   "cell_type": "markdown",
   "id": "ca3742f3-a6a5-4c23-9b31-aa53f0702d1c",
   "metadata": {},
   "source": [
    "## Test Python"
   ]
  },
  {
   "cell_type": "code",
   "execution_count": 11,
   "id": "dae6fb26-a9cc-4b94-9757-b9a224acc5e6",
   "metadata": {},
   "outputs": [],
   "source": [
    "cat > test_py.py << 'EOF'\n",
    "import sys\n",
    "print(sys.version)\n",
    "EOF"
   ]
  },
  {
   "cell_type": "code",
   "execution_count": 12,
   "id": "a8cc7d91-6615-478a-8fe1-073eec43e59e",
   "metadata": {},
   "outputs": [
    {
     "name": "stdout",
     "output_type": "stream",
     "text": [
      "3.6.13 | packaged by conda-forge | (default, Feb 19 2021, 05:36:01) \n",
      "[GCC 9.3.0]\n"
     ]
    }
   ],
   "source": [
    "### https://stackoverflow.com/questions/36230492/error-while-finding-spec-for-fibo-py-class-attributeerror-module-objec\n",
    "#python -m test_py.py\n",
    "python test_py.py"
   ]
  },
  {
   "cell_type": "code",
   "execution_count": 13,
   "id": "8b1105d4-d3b5-42ef-af12-35c2e618f22a",
   "metadata": {},
   "outputs": [
    {
     "name": "stdout",
     "output_type": "stream",
     "text": [
      "You are on Duke Server: HARDAC\n",
      "BASE DIRECTORY:     /gpfs/fs1/data/reddylab/Kuei\n",
      "PATH OF SOURCE:     /gpfs/fs1/data/reddylab/Kuei/source\n",
      "PATH OF EXECUTABLE: /gpfs/fs1/data/reddylab/Kuei/exe\n",
      "PATH OF ANNOTATION: /gpfs/fs1/data/reddylab/Kuei/annotation\n",
      "PATH OF PROJECT:    /gpfs/fs1/data/reddylab/Kuei/GitRepo/Settool_Bio\n",
      "\n",
      "3.7.6 | packaged by conda-forge | (default, Jun  1 2020, 18:57:50) \n",
      "[GCC 7.5.0]\n"
     ]
    }
   ],
   "source": [
    "${FD_PRJ}/sing_proj_combeffect.sh python test_py.py"
   ]
  },
  {
   "cell_type": "markdown",
   "id": "ba308843-f3ee-4bcf-9f18-29c76f192d5a",
   "metadata": {},
   "source": [
    "## Test Rscript"
   ]
  },
  {
   "cell_type": "code",
   "execution_count": 14,
   "id": "dfa1e8e8-e84d-49dd-a1fb-9a470013719f",
   "metadata": {},
   "outputs": [],
   "source": [
    "cat > test_r.R << 'EOF'\n",
    "library(tidyverse)\n",
    "EOF"
   ]
  },
  {
   "cell_type": "code",
   "execution_count": 15,
   "id": "4195a554-ac8d-493c-ac9e-87794dd51b4c",
   "metadata": {},
   "outputs": [
    {
     "name": "stdout",
     "output_type": "stream",
     "text": [
      "You are on Duke Server: HARDAC\n",
      "BASE DIRECTORY:     /gpfs/fs1/data/reddylab/Kuei\n",
      "PATH OF SOURCE:     /gpfs/fs1/data/reddylab/Kuei/source\n",
      "PATH OF EXECUTABLE: /gpfs/fs1/data/reddylab/Kuei/exe\n",
      "PATH OF ANNOTATION: /gpfs/fs1/data/reddylab/Kuei/annotation\n",
      "PATH OF PROJECT:    /gpfs/fs1/data/reddylab/Kuei/GitRepo/Settool_Bio\n",
      "\n",
      "── \u001b[1mAttaching packages\u001b[22m ─────────────────────────────────────── tidyverse 1.3.1 ──\n",
      "\u001b[32m✔\u001b[39m \u001b[34mggplot2\u001b[39m 3.3.5     \u001b[32m✔\u001b[39m \u001b[34mpurrr  \u001b[39m 0.3.4\n",
      "\u001b[32m✔\u001b[39m \u001b[34mtibble \u001b[39m 3.1.3     \u001b[32m✔\u001b[39m \u001b[34mdplyr  \u001b[39m 1.0.7\n",
      "\u001b[32m✔\u001b[39m \u001b[34mtidyr  \u001b[39m 1.1.3     \u001b[32m✔\u001b[39m \u001b[34mstringr\u001b[39m 1.4.0\n",
      "\u001b[32m✔\u001b[39m \u001b[34mreadr  \u001b[39m 2.0.1     \u001b[32m✔\u001b[39m \u001b[34mforcats\u001b[39m 0.5.1\n",
      "── \u001b[1mConflicts\u001b[22m ────────────────────────────────────────── tidyverse_conflicts() ──\n",
      "\u001b[31m✖\u001b[39m \u001b[34mdplyr\u001b[39m::\u001b[32mfilter()\u001b[39m masks \u001b[34mstats\u001b[39m::filter()\n",
      "\u001b[31m✖\u001b[39m \u001b[34mdplyr\u001b[39m::\u001b[32mlag()\u001b[39m    masks \u001b[34mstats\u001b[39m::lag()\n",
      "\u001b[?25h\u001b[?25h"
     ]
    }
   ],
   "source": [
    "${FD_PRJ}/sing_proj_combeffect.sh Rscript test_r.R"
   ]
  },
  {
   "cell_type": "markdown",
   "id": "13272b7f-4248-43f0-a405-3034900f2308",
   "metadata": {},
   "source": [
    "## Test SLURM"
   ]
  },
  {
   "cell_type": "code",
   "execution_count": 26,
   "id": "382cb725-a971-4112-aa44-8a0f5d326494",
   "metadata": {},
   "outputs": [],
   "source": [
    "cat > test_sh.sh << 'EOF'\n",
    "#!/bin/bash\n",
    "source ./mount/project/config_sing.sh\n",
    "ls ${FD_WORK}\n",
    "echo ++++++++++++++++++++++++++++\n",
    "ls ${FD_RLAB}\n",
    "EOF"
   ]
  },
  {
   "cell_type": "code",
   "execution_count": 27,
   "id": "d8e84008-c7e9-418d-b4be-5792f19693ca",
   "metadata": {},
   "outputs": [
    {
     "name": "stdout",
     "output_type": "stream",
     "text": [
      "#!/bin/bash\n",
      "source ./mount/project/config_sing.sh\n",
      "ls ${FD_WORK}\n",
      "echo ++++++++++++++++++++++++++++\n",
      "ls ${FD_RLAB}\n"
     ]
    }
   ],
   "source": [
    "cat test_sh.sh"
   ]
  },
  {
   "cell_type": "code",
   "execution_count": 28,
   "id": "8e3476db-3b45-4578-ab19-b7a9d278398f",
   "metadata": {},
   "outputs": [
    {
     "name": "stdout",
     "output_type": "stream",
     "text": [
      "Submitted batch job 25997212\n"
     ]
    }
   ],
   "source": [
    "### set log file directory\n",
    "FD_LOG=.\n",
    "NODE_NAME=all\n",
    "sbatch -p ${NODE_NAME} \\\n",
    "    --mem=2G \\\n",
    "    -o ${FD_LOG}/test.txt \\\n",
    "    <<'EOF'\n",
    "#!/bin/bash\n",
    "source ../config_duke.sh\n",
    "${FD_PRJ}/sing_proj_combeffect.sh bash    test_sh.sh\n",
    "${FD_PRJ}/sing_proj_combeffect.sh python  test_py.py\n",
    "${FD_PRJ}/sing_proj_combeffect.sh Rscript test_r.R\n",
    "\n",
    "EOF"
   ]
  },
  {
   "cell_type": "code",
   "execution_count": 30,
   "id": "e9b6cad3-6772-420b-a5fb-95fbaaf23333",
   "metadata": {},
   "outputs": [
    {
     "name": "stdout",
     "output_type": "stream",
     "text": [
      "You are on Duke Server: HARDAC\n",
      "BASE DIRECTORY:     /gpfs/fs1/data/reddylab/Kuei\n",
      "PATH OF SOURCE:     /gpfs/fs1/data/reddylab/Kuei/source\n",
      "PATH OF EXECUTABLE: /gpfs/fs1/data/reddylab/Kuei/exe\n",
      "PATH OF ANNOTATION: /gpfs/fs1/data/reddylab/Kuei/annotation\n",
      "PATH OF PROJECT:    /gpfs/fs1/data/reddylab/Kuei/GitRepo/Settool_Bio\n",
      "\n",
      "You are on Duke Server: HARDAC\n",
      "BASE DIRECTORY:     /gpfs/fs1/data/reddylab/Kuei\n",
      "PATH OF SOURCE:     /gpfs/fs1/data/reddylab/Kuei/source\n",
      "PATH OF EXECUTABLE: /gpfs/fs1/data/reddylab/Kuei/exe\n",
      "PATH OF ANNOTATION: /gpfs/fs1/data/reddylab/Kuei/annotation\n",
      "PATH OF PROJECT:    /gpfs/fs1/data/reddylab/Kuei/GitRepo/Settool_Bio\n",
      "\n",
      "You are within a singularity image\n",
      "BASE DIRECTORY:     /home/mount/work\n",
      "PATH OF SOURCE:     /home/mount/work/source\n",
      "PATH OF EXECUTABLE: /home/mount/work/exe\n",
      "PATH OF ANNOTATION: /home/mount/work/annotation\n",
      "PATH OF PROJECT:    /home/mount/project\n",
      "\n",
      "annotation\n",
      "exe\n",
      "GitRepo\n",
      "out\n",
      "singularity\n",
      "source\n",
      "source_old\n",
      "venv\n",
      "++++++++++++++++++++++++++++\n",
      "A549_histone_mods\n",
      "Alex\n",
      "Analyses\n",
      "Apoorva\n",
      "bmajoros\n",
      "btk20\n",
      "chris\n",
      "ciofanilab\n",
      "clarity_lims_backup\n",
      "cshoben\n",
      "Dan\n",
      "Darryl\n",
      "Datasets\n",
      "Dewran\n",
      "external_data\n",
      "Flowcells\n",
      "gjohnson\n",
      "GSD\n",
      "Hazel\n",
      "HKDC1_locus_STARR_seq\n",
      "icm10\n",
      "JoshCao\n",
      "Jungkyun\n",
      "katie\n",
      "Keith\n",
      "kstrouse\n",
      "Kuei\n",
      "Laavanya\n",
      "miseq_windows\n",
      "Pompe\n",
      "projects\n",
      "Qianzi\n",
      "reddytest\n",
      "reference\n",
      "Reference_Data\n",
      "refGene.txt\n",
      "Revathy\n",
      "scarlett\n",
      "Schuyler\n",
      "scunningham\n",
      "shengyu\n",
      "Shengyu\n",
      "Shiyu\n",
      "software\n",
      "Tapestation\n",
      "TestData\n",
      "Tim\n",
      "tmp\n",
      "UDN\n",
      "webpages\n",
      "Xingyan\n",
      "YoungSook\n",
      "You are on Duke Server: HARDAC\n",
      "BASE DIRECTORY:     /gpfs/fs1/data/reddylab/Kuei\n",
      "PATH OF SOURCE:     /gpfs/fs1/data/reddylab/Kuei/source\n",
      "PATH OF EXECUTABLE: /gpfs/fs1/data/reddylab/Kuei/exe\n",
      "PATH OF ANNOTATION: /gpfs/fs1/data/reddylab/Kuei/annotation\n",
      "PATH OF PROJECT:    /gpfs/fs1/data/reddylab/Kuei/GitRepo/Settool_Bio\n",
      "\n",
      "3.7.6 | packaged by conda-forge | (default, Jun  1 2020, 18:57:50) \n",
      "[GCC 7.5.0]\n",
      "You are on Duke Server: HARDAC\n",
      "BASE DIRECTORY:     /gpfs/fs1/data/reddylab/Kuei\n",
      "PATH OF SOURCE:     /gpfs/fs1/data/reddylab/Kuei/source\n",
      "PATH OF EXECUTABLE: /gpfs/fs1/data/reddylab/Kuei/exe\n",
      "PATH OF ANNOTATION: /gpfs/fs1/data/reddylab/Kuei/annotation\n",
      "PATH OF PROJECT:    /gpfs/fs1/data/reddylab/Kuei/GitRepo/Settool_Bio\n",
      "\n",
      "── Attaching packages ─────────────────────────────────────── tidyverse 1.3.1 ──\n",
      "✔ ggplot2 3.3.5     ✔ purrr   0.3.4\n",
      "✔ tibble  3.1.3     ✔ dplyr   1.0.7\n",
      "✔ tidyr   1.1.3     ✔ stringr 1.4.0\n",
      "✔ readr   2.0.1     ✔ forcats 0.5.1\n",
      "── Conflicts ────────────────────────────────────────── tidyverse_conflicts() ──\n",
      "✖ dplyr::filter() masks stats::filter()\n",
      "✖ dplyr::lag()    masks stats::lag()\n"
     ]
    }
   ],
   "source": [
    "cat ${FD_LOG}/test.txt"
   ]
  },
  {
   "cell_type": "code",
   "execution_count": null,
   "id": "500f49da-0876-4bba-98ad-5ad682bdfcfe",
   "metadata": {},
   "outputs": [],
   "source": []
  }
 ],
 "metadata": {
  "kernelspec": {
   "display_name": "Bash",
   "language": "bash",
   "name": "bash"
  },
  "language_info": {
   "codemirror_mode": "shell",
   "file_extension": ".sh",
   "mimetype": "text/x-sh",
   "name": "bash"
  }
 },
 "nbformat": 4,
 "nbformat_minor": 5
}
