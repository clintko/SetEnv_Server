{
 "cells": [
  {
   "cell_type": "markdown",
   "metadata": {},
   "source": [
    "# Test running CmdStan"
   ]
  },
  {
   "cell_type": "markdown",
   "metadata": {},
   "source": [
    "## Create Model and data"
   ]
  },
  {
   "cell_type": "code",
   "execution_count": 1,
   "metadata": {},
   "outputs": [],
   "source": [
    "cat > ./test_cmdstan/bernoulli.stan << EOF\n",
    "data { \n",
    "  int<lower=0> N; \n",
    "  int<lower=0,upper=1> y[N];\n",
    "} \n",
    "parameters {\n",
    "  real<lower=0,upper=1> theta;\n",
    "} \n",
    "model {\n",
    "  theta ~ beta(1,1);  // uniform prior on interval 0,1\n",
    "  y ~ bernoulli(theta);\n",
    "}\n",
    "EOF"
   ]
  },
  {
   "cell_type": "code",
   "execution_count": 2,
   "metadata": {},
   "outputs": [],
   "source": [
    "cat > ./test_cmdstan/data.json << EOF\n",
    "{\n",
    "    \"N\" : 10,\n",
    "    \"y\" : [0,1,0,0,0,0,0,0,0,1]\n",
    "}\n",
    "EOF"
   ]
  },
  {
   "cell_type": "markdown",
   "metadata": {},
   "source": [
    "## Compile model\n",
    "Reference\n",
    "- [Using cmdstan makefile from another directory](https://discourse.mc-stan.org/t/using-cmdstan-makefile-from-another-directory/7162/6)"
   ]
  },
  {
   "cell_type": "code",
   "execution_count": 3,
   "metadata": {},
   "outputs": [],
   "source": [
    "module load gcc\n",
    "module load tbb\n",
    "STAN_PATH=/data/reddylab/Kuei/exe/cmdstan"
   ]
  },
  {
   "cell_type": "markdown",
   "metadata": {},
   "source": [
    "**Note**\n",
    "\n",
    "To compile a model, use absolute path instead of relative path. The relative path does not work because it is probabibly using relative path with respect to the `$STAN_PATH`\n",
    "\n",
    "```\n",
    "$ make -C $STAN_PATH ./test_cmdstan/bernoulli\n",
    "make: Entering directory `/gpfs/fs1/data/reddylab/Kuei/exe/cmdstan'\n",
    "make: *** No rule to make target `test_cmdstan/bernoulli'.  Stop.\n",
    "make: Leaving directory `/gpfs/fs1/data/reddylab/Kuei/exe/cmdstan'\n",
    "```"
   ]
  },
  {
   "cell_type": "code",
   "execution_count": 6,
   "metadata": {},
   "outputs": [
    {
     "name": "stdout",
     "output_type": "stream",
     "text": [
      "make: Entering directory `/gpfs/fs1/data/reddylab/Kuei/exe/cmdstan'\n",
      "g++ -std=c++1y -pthread -D_REENTRANT -Wno-sign-compare -Wno-ignored-attributes      -I stan/lib/stan_math/lib/tbb_2020.3/include   -O3 -I src -I stan/src -I lib/rapidjson_1.1.0/ -I lib/CLI11-1.9.1/ -I stan/lib/stan_math/ -I stan/lib/stan_math/lib/eigen_3.3.9 -I stan/lib/stan_math/lib/boost_1.75.0 -I stan/lib/stan_math/lib/sundials_5.7.0/include    -DBOOST_DISABLE_ASSERTS         -c -MT stan/src/stan/model/model_header.hpp.gch -MT stan/src/stan/model/model_header.d -MM -E -MG -MP -MF stan/src/stan/model/model_header.d stan/src/stan/model/model_header.hpp\n",
      "g++ -std=c++1y -pthread -D_REENTRANT -Wno-sign-compare -Wno-ignored-attributes      -I stan/lib/stan_math/lib/tbb_2020.3/include   -O3 -I src -I stan/src -I lib/rapidjson_1.1.0/ -I lib/CLI11-1.9.1/ -I stan/lib/stan_math/ -I stan/lib/stan_math/lib/eigen_3.3.9 -I stan/lib/stan_math/lib/boost_1.75.0 -I stan/lib/stan_math/lib/sundials_5.7.0/include    -DBOOST_DISABLE_ASSERTS         -c -MT src/cmdstan/main.o -MM -E -MG -MP -MF src/cmdstan/main.d src/cmdstan/main.cpp\n",
      "make: Leaving directory `/gpfs/fs1/data/reddylab/Kuei/exe/cmdstan'\n",
      "make: Entering directory `/gpfs/fs1/data/reddylab/Kuei/exe/cmdstan'\n",
      "\n",
      "--- Translating Stan model to C++ code ---\n",
      "bin/stanc  --o=/data/reddylab/Kuei/exe/test_cmdstan/bernoulli.hpp /data/reddylab/Kuei/exe/test_cmdstan/bernoulli.stan\n",
      "\n",
      "--- Compiling, linking C++ code ---\n",
      "g++ -std=c++1y -pthread -D_REENTRANT -Wno-sign-compare -Wno-ignored-attributes      -I stan/lib/stan_math/lib/tbb_2020.3/include   -O3 -I src -I stan/src -I lib/rapidjson_1.1.0/ -I lib/CLI11-1.9.1/ -I stan/lib/stan_math/ -I stan/lib/stan_math/lib/eigen_3.3.9 -I stan/lib/stan_math/lib/boost_1.75.0 -I stan/lib/stan_math/lib/sundials_5.7.0/include    -DBOOST_DISABLE_ASSERTS         -c -Wno-ignored-attributes   -x c++ -o /data/reddylab/Kuei/exe/test_cmdstan/bernoulli.o /data/reddylab/Kuei/exe/test_cmdstan/bernoulli.hpp\n",
      "g++ -std=c++1y -pthread -D_REENTRANT -Wno-sign-compare -Wno-ignored-attributes      -I stan/lib/stan_math/lib/tbb_2020.3/include   -O3 -I src -I stan/src -I lib/rapidjson_1.1.0/ -I lib/CLI11-1.9.1/ -I stan/lib/stan_math/ -I stan/lib/stan_math/lib/eigen_3.3.9 -I stan/lib/stan_math/lib/boost_1.75.0 -I stan/lib/stan_math/lib/sundials_5.7.0/include    -DBOOST_DISABLE_ASSERTS               -Wl,-L,\"/nfs/software/helmod/apps/Core/tbb/4.4-fasrc02/lib\" -Wl,-rpath,\"/nfs/software/helmod/apps/Core/tbb/4.4-fasrc02/lib\" -ltbb    /data/reddylab/Kuei/exe/test_cmdstan/bernoulli.o src/cmdstan/main.o        -Wl,-L,\"/nfs/software/helmod/apps/Core/tbb/4.4-fasrc02/lib\" -Wl,-rpath,\"/nfs/software/helmod/apps/Core/tbb/4.4-fasrc02/lib\" -ltbb stan/lib/stan_math/lib/sundials_5.7.0/lib/libsundials_nvecserial.a stan/lib/stan_math/lib/sundials_5.7.0/lib/libsundials_cvodes.a stan/lib/stan_math/lib/sundials_5.7.0/lib/libsundials_idas.a stan/lib/stan_math/lib/sundials_5.7.0/lib/libsundials_kinsol.a   -o /data/reddylab/Kuei/exe/test_cmdstan/bernoulli\n",
      "rm -f /data/reddylab/Kuei/exe/test_cmdstan/bernoulli.o\n",
      "make: Leaving directory `/gpfs/fs1/data/reddylab/Kuei/exe/cmdstan'\n"
     ]
    }
   ],
   "source": [
    "make -C $STAN_PATH /data/reddylab/Kuei/exe/test_cmdstan/bernoulli"
   ]
  },
  {
   "cell_type": "code",
   "execution_count": 7,
   "metadata": {},
   "outputs": [
    {
     "name": "stdout",
     "output_type": "stream",
     "text": [
      "bernoulli  bernoulli.hpp  bernoulli.stan  data.json\n"
     ]
    }
   ],
   "source": [
    "ls test_cmdstan"
   ]
  },
  {
   "cell_type": "markdown",
   "metadata": {},
   "source": [
    "## Restart the notebook and run the stan model\n",
    "\n",
    "Restart notebook to show that to run the model, you do not need to load tbb module. You just need to load gcc"
   ]
  },
  {
   "cell_type": "code",
   "execution_count": 1,
   "metadata": {},
   "outputs": [],
   "source": [
    "module load gcc"
   ]
  },
  {
   "cell_type": "code",
   "execution_count": 2,
   "metadata": {},
   "outputs": [
    {
     "name": "stdout",
     "output_type": "stream",
     "text": [
      "method = sample (Default)\n",
      "  sample\n",
      "    num_samples = 1000 (Default)\n",
      "    num_warmup = 1000 (Default)\n",
      "    save_warmup = 0 (Default)\n",
      "    thin = 1 (Default)\n",
      "    adapt\n",
      "      engaged = 1 (Default)\n",
      "      gamma = 0.050000000000000003 (Default)\n",
      "      delta = 0.80000000000000004 (Default)\n",
      "      kappa = 0.75 (Default)\n",
      "      t0 = 10 (Default)\n",
      "      init_buffer = 75 (Default)\n",
      "      term_buffer = 50 (Default)\n",
      "      window = 25 (Default)\n",
      "    algorithm = hmc (Default)\n",
      "      hmc\n",
      "        engine = nuts (Default)\n",
      "          nuts\n",
      "            max_depth = 10 (Default)\n",
      "        metric = diag_e (Default)\n",
      "        metric_file =  (Default)\n",
      "        stepsize = 1 (Default)\n",
      "        stepsize_jitter = 0 (Default)\n",
      "id = 0 (Default)\n",
      "data\n",
      "  file = ./test_cmdstan/data.json\n",
      "init = 2 (Default)\n",
      "random\n",
      "  seed = 2918639267 (Default)\n",
      "output\n",
      "  file = ./test_cmdstan/output.csv\n",
      "  diagnostic_file =  (Default)\n",
      "  refresh = 100 (Default)\n",
      "  sig_figs = -1 (Default)\n",
      "  profile_file = profile.csv (Default)\n",
      "\n",
      "\n",
      "Gradient evaluation took 3.3e-05 seconds\n",
      "1000 transitions using 10 leapfrog steps per transition would take 0.33 seconds.\n",
      "Adjust your expectations accordingly!\n",
      "\n",
      "\n",
      "Iteration:    1 / 2000 [  0%]  (Warmup)\n",
      "Iteration:  100 / 2000 [  5%]  (Warmup)\n",
      "Iteration:  200 / 2000 [ 10%]  (Warmup)\n",
      "Iteration:  300 / 2000 [ 15%]  (Warmup)\n",
      "Iteration:  400 / 2000 [ 20%]  (Warmup)\n",
      "Iteration:  500 / 2000 [ 25%]  (Warmup)\n",
      "Iteration:  600 / 2000 [ 30%]  (Warmup)\n",
      "Iteration:  700 / 2000 [ 35%]  (Warmup)\n",
      "Iteration:  800 / 2000 [ 40%]  (Warmup)\n",
      "Iteration:  900 / 2000 [ 45%]  (Warmup)\n",
      "Iteration: 1000 / 2000 [ 50%]  (Warmup)\n",
      "Iteration: 1001 / 2000 [ 50%]  (Sampling)\n",
      "Iteration: 1100 / 2000 [ 55%]  (Sampling)\n",
      "Iteration: 1200 / 2000 [ 60%]  (Sampling)\n",
      "Iteration: 1300 / 2000 [ 65%]  (Sampling)\n",
      "Iteration: 1400 / 2000 [ 70%]  (Sampling)\n",
      "Iteration: 1500 / 2000 [ 75%]  (Sampling)\n",
      "Iteration: 1600 / 2000 [ 80%]  (Sampling)\n",
      "Iteration: 1700 / 2000 [ 85%]  (Sampling)\n",
      "Iteration: 1800 / 2000 [ 90%]  (Sampling)\n",
      "Iteration: 1900 / 2000 [ 95%]  (Sampling)\n",
      "Iteration: 2000 / 2000 [100%]  (Sampling)\n",
      "\n",
      " Elapsed Time: 0.016 seconds (Warm-up)\n",
      "               0.024 seconds (Sampling)\n",
      "               0.04 seconds (Total)\n",
      "\n"
     ]
    }
   ],
   "source": [
    "./test_cmdstan/bernoulli sample data file=./test_cmdstan/data.json output file=./test_cmdstan/output.csv"
   ]
  },
  {
   "cell_type": "code",
   "execution_count": 3,
   "metadata": {},
   "outputs": [
    {
     "name": "stdout",
     "output_type": "stream",
     "text": [
      "bernoulli  bernoulli.hpp  bernoulli.stan  data.json  output.csv\n"
     ]
    }
   ],
   "source": [
    "ls test_cmdstan"
   ]
  },
  {
   "cell_type": "code",
   "execution_count": 4,
   "metadata": {},
   "outputs": [],
   "source": [
    "STAN_PATH=/data/reddylab/Kuei/exe/cmdstan"
   ]
  },
  {
   "cell_type": "code",
   "execution_count": 5,
   "metadata": {},
   "outputs": [
    {
     "name": "stdout",
     "output_type": "stream",
     "text": [
      "Inference for Stan model: bernoulli_model\n",
      "1 chains: each with iter=(1000); warmup=(0); thin=(1); 1000 iterations saved.\n",
      "\n",
      "Warmup took 0.016 seconds\n",
      "Sampling took 0.024 seconds\n",
      "\n",
      "                Mean     MCSE   StdDev     5%   50%   95%    N_Eff  N_Eff/s    R_hat\n",
      "\n",
      "lp__            -7.3  4.4e-02     0.86   -8.9  -7.0  -6.8      385    16034     1.00\n",
      "accept_stat__   0.90  4.2e-03  1.4e-01   0.57  0.97   1.0  1.2e+03  4.9e+04  1.0e+00\n",
      "stepsize__      0.93      nan  4.8e-15   0.93  0.93  0.93      nan      nan      nan\n",
      "treedepth__      1.4  1.6e-02  4.8e-01    1.0   1.0   2.0  9.6e+02  4.0e+04  1.0e+00\n",
      "n_leapfrog__     2.3  3.3e-02  9.8e-01    1.0   3.0   3.0  9.0e+02  3.7e+04  1.0e+00\n",
      "divergent__     0.00      nan  0.0e+00   0.00  0.00  0.00      nan      nan      nan\n",
      "energy__         7.9  5.6e-02  1.1e+00    6.8   7.6    10  3.9e+02  1.6e+04  1.0e+00\n",
      "\n",
      "theta           0.25  6.6e-03     0.12  0.074  0.22  0.49      355    14794      1.0\n",
      "\n",
      "Samples were drawn using hmc with nuts.\n",
      "For each parameter, N_Eff is a crude measure of effective sample size,\n",
      "and R_hat is the potential scale reduction factor on split chains (at \n",
      "convergence, R_hat=1).\n"
     ]
    }
   ],
   "source": [
    "$STAN_PATH/bin/stansummary ./test_cmdstan/output.csv"
   ]
  }
 ],
 "metadata": {
  "kernelspec": {
   "display_name": "Bash",
   "language": "bash",
   "name": "bash"
  },
  "language_info": {
   "codemirror_mode": "shell",
   "file_extension": ".sh",
   "mimetype": "text/x-sh",
   "name": "bash"
  }
 },
 "nbformat": 4,
 "nbformat_minor": 4
}
