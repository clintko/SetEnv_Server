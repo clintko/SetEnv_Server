{
 "cells": [
  {
   "cell_type": "code",
   "execution_count": 2,
   "id": "09678f41-7620-48d6-b6e1-90619aa77867",
   "metadata": {},
   "outputs": [
    {
     "name": "stdout",
     "output_type": "stream",
     "text": [
      "You are on Duke Server: HARDAC\n",
      "BASE DIRECTORY:     /gpfs/fs1/data/reddylab/Kuei\n",
      "PATH OF SOURCE:     /gpfs/fs1/data/reddylab/Kuei/source\n",
      "PATH OF EXECUTABLE: /gpfs/fs1/data/reddylab/Kuei/exe\n",
      "PATH OF ANNOTATION: /gpfs/fs1/data/reddylab/Kuei/annotation\n",
      "PATH OF PROJECT:    /gpfs/fs1/data/reddylab/Kuei/GitRepo/Settool_Bio\n",
      "\n"
     ]
    }
   ],
   "source": [
    "source ../config_duke.sh"
   ]
  },
  {
   "cell_type": "code",
   "execution_count": 3,
   "id": "1cf477d9-1449-4c0e-8a75-a17085800fe9",
   "metadata": {},
   "outputs": [
    {
     "name": "stdout",
     "output_type": "stream",
     "text": [
      "\u001b[0m\u001b[38;5;27mgenome\u001b[0m  \u001b[38;5;27mmotif_cluster_jvierstra\u001b[0m\n"
     ]
    }
   ],
   "source": [
    "ls ${FD_WORK}/annotation"
   ]
  },
  {
   "cell_type": "code",
   "execution_count": 4,
   "id": "52b87920-9d0e-45b5-a7a8-a753da9d4b06",
   "metadata": {},
   "outputs": [
    {
     "name": "stdout",
     "output_type": "stream",
     "text": [
      "hg38_all_motifs_chroms.txt        hg38_archetype_motifs_clusters_reduce.txt\n",
      "\u001b[0m\u001b[38;5;27mhg38_all_motifs_v1\u001b[0m                \u001b[38;5;27mhg38_archetype_motifs_v1\u001b[0m\n",
      "hg38_archetype_motifs_chroms.txt  motif_score_histogram.pickle\n"
     ]
    }
   ],
   "source": [
    "ls ${FD_WORK}/annotation/motif_cluster_jvierstra"
   ]
  },
  {
   "cell_type": "code",
   "execution_count": 7,
   "id": "a3bc6837-0903-4ef9-9370-d664ed2f74ce",
   "metadata": {},
   "outputs": [
    {
     "name": "stdout",
     "output_type": "stream",
     "text": [
      "chr1\t10003\t10023\tRREB1_MA0073.1\t3.75359698976\t+\tCCCTAACCCTAACCCTAACC\n",
      "chr1\t10009\t10029\tRREB1_MA0073.1\t3.75359698976\t+\tCCCTAACCCTAACCCTAACC\n",
      "chr1\t10015\t10035\tRREB1_MA0073.1\t3.75359698976\t+\tCCCTAACCCTAACCCTAACC\n",
      "chr1\t10021\t10041\tRREB1_MA0073.1\t3.75359698976\t+\tCCCTAACCCTAACCCTAACC\n",
      "chr1\t10027\t10047\tRREB1_MA0073.1\t3.75359698976\t+\tCCCTAACCCTAACCCTAACC\n",
      "chr1\t10033\t10053\tRREB1_MA0073.1\t3.75359698976\t+\tCCCTAACCCTAACCCTAACC\n",
      "chr1\t10039\t10059\tRREB1_MA0073.1\t3.75359698976\t+\tCCCTAACCCTAACCCTAACC\n",
      "chr1\t10045\t10065\tRREB1_MA0073.1\t3.75359698976\t+\tCCCTAACCCTAACCCTAACC\n",
      "chr1\t10051\t10071\tRREB1_MA0073.1\t3.75359698976\t+\tCCCTAACCCTAACCCTAACC\n",
      "chr1\t10057\t10077\tRREB1_MA0073.1\t3.75359698976\t+\tCCCTAACCCTAACCCTAACC\n",
      "\n",
      "gzip: stdout: Broken pipe\n"
     ]
    }
   ],
   "source": [
    "FDIRY=${FD_WORK}/annotation/motif_cluster_jvierstra/hg38_all_motifs_v1\n",
    "FNAME=chr1.bed.gz \n",
    "zcat ${FDIRY}/${FNAME} | head"
   ]
  },
  {
   "cell_type": "code",
   "execution_count": 9,
   "id": "537e1ec4-2b8b-4f50-b4ca-b17c298a021b",
   "metadata": {},
   "outputs": [
    {
     "name": "stdout",
     "output_type": "stream",
     "text": [
      "chr1\t10003\t10023\t3.75359698976\n",
      "chr1\t10009\t10029\t3.75359698976\n",
      "chr1\t10015\t10035\t3.75359698976\n",
      "chr1\t10021\t10041\t3.75359698976\n",
      "chr1\t10027\t10047\t3.75359698976\n",
      "chr1\t10033\t10053\t3.75359698976\n",
      "chr1\t10039\t10059\t3.75359698976\n",
      "chr1\t10045\t10065\t3.75359698976\n",
      "chr1\t10051\t10071\t3.75359698976\n",
      "chr1\t10057\t10077\t3.75359698976\n",
      "\n",
      "gzip: stdout: Broken pipe\n"
     ]
    }
   ],
   "source": [
    "FDIRY=${FD_WORK}/annotation/motif_cluster_jvierstra/hg38_all_motifs_v1\n",
    "FNAME=chr1.bed.gz \n",
    "zcat ${FDIRY}/${FNAME} | head | cut -f1,2,3,5"
   ]
  },
  {
   "cell_type": "markdown",
   "id": "9200d588-8ea6-4572-8928-1857e45fb4f1",
   "metadata": {},
   "source": [
    "```\n",
    "$ zcat ${FDIRY}/${FNAME} | cut -f1,2,3,5 > ${FDIRY}/test.bed\n",
    "$ ls -lh ${FDIRY}/test.bed\n",
    "-rw-r--r--. 1 kk319 root 6.4G Sep  2 15:37 /work/kk319/annotation/motif_cluster_jvierstra/hg38_all_motifs_v1/test.bed\n",
    "$ wc -l ${FDIRY}/test.bed\n",
    "181029347 /work/kk319/annotation/motif_cluster_jvierstra/hg38_all_motifs_v1/test.bed\n",
    "```"
   ]
  },
  {
   "cell_type": "code",
   "execution_count": 7,
   "id": "73450f3b-6f13-4bd2-8bb7-713151816e13",
   "metadata": {},
   "outputs": [],
   "source": [
    "zcat ${FDIRY}/${FNAME} | cut -f1,2,3,5 > ${FDIRY}/test.bed"
   ]
  },
  {
   "cell_type": "code",
   "execution_count": 8,
   "id": "5ae7ecc5-a8a9-420f-aa41-57e8d58a05dc",
   "metadata": {},
   "outputs": [
    {
     "name": "stdout",
     "output_type": "stream",
     "text": [
      "-rw-r--r--. 1 kk319 root 6.4G Sep  2 15:37 /work/kk319/annotation/motif_cluster_jvierstra/hg38_all_motifs_v1/test.bed\n"
     ]
    }
   ],
   "source": [
    "ls -lh ${FDIRY}/test.bed"
   ]
  },
  {
   "cell_type": "code",
   "execution_count": 9,
   "id": "b9d83aff-dd62-47dd-800d-2c4d6eece2b4",
   "metadata": {},
   "outputs": [
    {
     "name": "stdout",
     "output_type": "stream",
     "text": [
      "181029347 /work/kk319/annotation/motif_cluster_jvierstra/hg38_all_motifs_v1/test.bed\n"
     ]
    }
   ],
   "source": [
    "wc -l ${FDIRY}/test.bed"
   ]
  },
  {
   "cell_type": "markdown",
   "id": "19514283-08fe-42f5-8a1a-a80fefc1cc46",
   "metadata": {},
   "source": [
    "## Test singularity"
   ]
  },
  {
   "cell_type": "code",
   "execution_count": 20,
   "id": "8fb9e506-7246-474e-9afe-4c05f6adac81",
   "metadata": {},
   "outputs": [
    {
     "name": "stdout",
     "output_type": "stream",
     "text": [
      "You are on Duke Server: HARDAC\n",
      "BASE DIRECTORY:     /gpfs/fs1/data/reddylab/Kuei\n",
      "PATH OF SOURCE:     /gpfs/fs1/data/reddylab/Kuei/source\n",
      "PATH OF EXECUTABLE: /gpfs/fs1/data/reddylab/Kuei/exe\n",
      "PATH OF ANNOTATION: /gpfs/fs1/data/reddylab/Kuei/annotation\n",
      "PATH OF PROJECT:    /gpfs/fs1/data/reddylab/Kuei/GitRepo/Settool_Bio\n",
      "\n",
      "hg38.all_motifs.v1.0.bed.gz  hg38.archetype_motifs.v1.0.bed.gz\thub.txt\n"
     ]
    }
   ],
   "source": [
    "${FD_PRJ}/sing_proj_combeffect.sh ls /home/mount/work/source/motif_cluster_jvierstra"
   ]
  },
  {
   "cell_type": "markdown",
   "id": "160f12c5-710e-41ea-94d2-fa4b9d83bac6",
   "metadata": {},
   "source": [
    "```\n",
    "%%bash\n",
    "FDIRY=work/source/motif_cluster_jvierstra\n",
    "FNAME=hg38.archetype_motifs.v1.0.bed.gz\n",
    "zcat ${FDIRY}/${FNAME} | wc -l\n",
    "> 764808791\n",
    "```\n",
    "There are 764,808,791 (764M) lines"
   ]
  },
  {
   "cell_type": "code",
   "execution_count": 36,
   "id": "9f6f5c11",
   "metadata": {},
   "outputs": [],
   "source": [
    "cat > motif_score_hist.py << EOF\n",
    "### set env \n",
    "import numpy as np\n",
    "import pandas as pd\n",
    "import itertools as it\n",
    "import os\n",
    "import pickle\n",
    "\n",
    "import distogram\n",
    "import gzip\n",
    "\n",
    "### start timer\n",
    "import time\n",
    "from datetime import timedelta\n",
    "start_time = time.monotonic()\n",
    "\n",
    "### initialize a histogram object\n",
    "h = distogram.Distogram()\n",
    "\n",
    "### stream and calculate histogram\n",
    "fdiry=\"/home/mount/work/source/motif_cluster_jvierstra\"\n",
    "fname=\"hg38.archetype_motifs.v1.0.bed.gz\"\n",
    "fpath=os.path.join(fdiry, fname)\n",
    "\n",
    "with gzip.open(fpath, \"r\") as f:\n",
    "    \n",
    "    for idx, line in enumerate(f):\n",
    "    \n",
    "        ### show progress\n",
    "        if idx % 1000000 == 0:\n",
    "            print(\"Line:\", idx, flush=True)\n",
    "        \n",
    "        ### extract values\n",
    "        lst = line.strip().split(b\"\\t\")\n",
    "        val = lst[4].decode(\"utf-8\")\n",
    "        val = float(val)\n",
    "        \n",
    "        ### update distribution\n",
    "        h = distogram.update(h, val)\n",
    "        \n",
    "### save histogram odject as a pickle file\n",
    "fdiry=\"/home/mount/work/annotation/motif_cluster_jvierstra\"\n",
    "fname=\"motif_score_histogram.pickle\"\n",
    "fpath=os.path.join(fdiry, fname)\n",
    "\n",
    "with open(fpath, \"wb\") as f:\n",
    "    pickle.dump(h, f)\n",
    "\n",
    "### stop timer and show end message\n",
    "end_time = time.monotonic()\n",
    "print(\"======================================\")\n",
    "print(\"Done!\")\n",
    "print(\"Duration:\")\n",
    "print(timedelta(seconds=end_time - start_time))\n",
    "EOF"
   ]
  },
  {
   "cell_type": "code",
   "execution_count": 37,
   "id": "3e3e857e",
   "metadata": {},
   "outputs": [
    {
     "name": "stdout",
     "output_type": "stream",
     "text": [
      "Submitted batch job 25997223\n"
     ]
    }
   ],
   "source": [
    "### set log file directory\n",
    "FD_LOG=./log\n",
    "\n",
    "### run script using sbatch\n",
    "sbatch -p all \\\n",
    "    --mem 8G \\\n",
    "    -o ${FD_LOG}/motif_score_hist.txt \\\n",
    "    <<'EOF'\n",
    "#!/bin/bash\n",
    "### set directories\n",
    "source ../config_duke.sh\n",
    "${FD_PRJ}/sing_proj_combeffect.sh python motif_score_hist.py\n",
    "EOF"
   ]
  },
  {
   "cell_type": "code",
   "execution_count": 22,
   "id": "9f3fa76f",
   "metadata": {},
   "outputs": [
    {
     "name": "stdout",
     "output_type": "stream",
     "text": [
      "/gpfs/fs1/data/reddylab/Kuei/GitRepo/Settool_Bio/motif_cluster_jvierstra/log/motif_score_hist.txt\n"
     ]
    }
   ],
   "source": [
    "readlink -e ${FD_LOG}/motif_score_hist.txt"
   ]
  },
  {
   "cell_type": "code",
   "execution_count": 23,
   "id": "643f78d1-9804-431c-91b5-71bba83d8ff9",
   "metadata": {},
   "outputs": [
    {
     "name": "stdout",
     "output_type": "stream",
     "text": [
      "You are on Duke Server: HARDAC\n",
      "BASE DIRECTORY:     /gpfs/fs1/data/reddylab/Kuei\n",
      "PATH OF SOURCE:     /gpfs/fs1/data/reddylab/Kuei/source\n",
      "PATH OF EXECUTABLE: /gpfs/fs1/data/reddylab/Kuei/exe\n",
      "PATH OF ANNOTATION: /gpfs/fs1/data/reddylab/Kuei/annotation\n",
      "PATH OF PROJECT:    /gpfs/fs1/data/reddylab/Kuei/GitRepo/Settool_Bio\n",
      "\n",
      "You are on Duke Server: HARDAC\n",
      "BASE DIRECTORY:     /gpfs/fs1/data/reddylab/Kuei\n",
      "PATH OF SOURCE:     /gpfs/fs1/data/reddylab/Kuei/source\n",
      "PATH OF EXECUTABLE: /gpfs/fs1/data/reddylab/Kuei/exe\n",
      "PATH OF ANNOTATION: /gpfs/fs1/data/reddylab/Kuei/annotation\n",
      "PATH OF PROJECT:    /gpfs/fs1/data/reddylab/Kuei/GitRepo/Settool_Bio\n",
      "\n",
      "[b'chr1', b'10005', b'10022', b'KLF/SP/2', b'3.7536', b'-', b'RREB1_MA0073.1', b'1']\n",
      "3.7536\n",
      "0\n",
      "100\n",
      "200\n",
      "300\n",
      "400\n",
      "500\n",
      "600\n",
      "700\n",
      "800\n",
      "900\n",
      "Traceback (most recent call last):\n",
      "  File \"motif_score_hist.py\", line 53, in <module>\n",
      "    with open(fpath, \"wb\") as f:\n",
      "FileNotFoundError: [Errno 2] No such file or directory: './work/annotation/motif_cluster_jvierstra/motif_score_histogram.pickle'\n"
     ]
    }
   ],
   "source": [
    "cat ${FD_LOG}/motif_score_hist.txt"
   ]
  },
  {
   "cell_type": "code",
   "execution_count": null,
   "id": "4c8e2c38",
   "metadata": {},
   "outputs": [],
   "source": []
  }
 ],
 "metadata": {
  "kernelspec": {
   "display_name": "Bash",
   "language": "bash",
   "name": "bash"
  },
  "language_info": {
   "codemirror_mode": "shell",
   "file_extension": ".sh",
   "mimetype": "text/x-sh",
   "name": "bash"
  }
 },
 "nbformat": 4,
 "nbformat_minor": 5
}
