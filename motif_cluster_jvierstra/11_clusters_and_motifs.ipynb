{
 "cells": [
  {
   "cell_type": "code",
   "execution_count": 1,
   "id": "42b5d7e9-f3f9-4246-8b04-748ffbe8fcb1",
   "metadata": {},
   "outputs": [
    {
     "name": "stdout",
     "output_type": "stream",
     "text": [
      "You are on Duke Server: DCC\n",
      "BASE DIRECTORY:     /work/kk319\n",
      "PATH OF SOURCE:     /work/kk319/source\n",
      "PATH OF EXECUTABLE: /work/kk319/exe\n",
      "PATH OF ANNOTATION: /work/kk319/annotation\n",
      "\n"
     ]
    }
   ],
   "source": [
    "source ../config_duke.sh"
   ]
  },
  {
   "cell_type": "code",
   "execution_count": 4,
   "id": "c0d3ac29-5d2b-407a-83e7-4e7627aab9d1",
   "metadata": {},
   "outputs": [
    {
     "name": "stdout",
     "output_type": "stream",
     "text": [
      "Archetype_clusters.txt  \u001b[0m\u001b[01;31mhg38.all_motifs.v1.0.bed.gz\u001b[0m        hub.txt\n",
      "Motifs.txt              \u001b[01;31mhg38.archetype_motifs.v1.0.bed.gz\u001b[0m\n"
     ]
    }
   ],
   "source": [
    "ls ${FD_SRC}/motif_cluster_jvierstra"
   ]
  },
  {
   "cell_type": "code",
   "execution_count": 5,
   "id": "1981da27-a56f-401e-8112-03555242e6e8",
   "metadata": {},
   "outputs": [
    {
     "name": "stdout",
     "output_type": "stream",
     "text": [
      "Cluster_ID\tName\tDBD\tSeed_motif\tTotal_width\tConsensus_left\tConsensus_right\tCluster_size\n",
      "284\tAHR\tbHLH\tAHR_HUMAN.H11MO.0.B\t9\t2\t8\t3\n",
      "139\tAIRE\tnot_classified\tAIRE_HUMAN.H11MO.0.C\t18\t2\t17\t2\n",
      "54\tAP1/1\tbZIP\tATF3_MOUSE.H11MO.0.A\t17\t4\t12\t41\n",
      "53\tAP1/2\tbZIP\tBACH1_HUMAN.H11MO.0.A\t19\t4\t15\t12\n",
      "88\tARI5A\tARID\tArid5a_MA0602.1\t14\t2\t10\t1\n",
      "86\tARI5B\tARID\tARI5B_HUMAN.H11MO.0.C\t13\t2\t12\t2\n",
      "138\tBATF\tbZIP\tBATF3_HUMAN.H11MO.0.B\t19\t2\t16\t4\n",
      "169\tBCL6/1\tC2H2\tBCL6B_C2H2_1\t17\t0\t16\t2\n",
      "170\tBCL6/2\tC2H2\tBCL6_HUMAN.H11MO.0.A\t14\t2\t13\t3\n"
     ]
    }
   ],
   "source": [
    "FPATH=${FD_SRC}/motif_cluster_jvierstra/Archetype_clusters.txt\n",
    "head ${FPATH}"
   ]
  },
  {
   "cell_type": "code",
   "execution_count": 6,
   "id": "71102efa-85bd-48e4-bb14-72264ad832d5",
   "metadata": {},
   "outputs": [
    {
     "name": "stdout",
     "output_type": "stream",
     "text": [
      "Cluster_ID\tMotif\tDatabase\tConsensus\tRelative_orientation\tWidth\tLeft_offset\tRight_offset\n",
      "1\tLHX6_homeodomain_3\tTaipale_Cell_2013\tTGATTGCAATCA\t+\t12\t0\t0\n",
      "1\tLhx8.mouse_homeodomain_3\tTaipale_Cell_2013\tTGATTGCAATTA\t-\t12\t0\t0\n",
      "2\tLHX2_MOUSE.H11MO.0.A\tHOCOMOCO_v11\tACTAATTAAC\t-\t10\t7\t9\n",
      "2\tLHX2_HUMAN.H11MO.0.A\tHOCOMOCO_v11\tAACTAATTAAAA\t-\t12\t6\t8\n",
      "2\tLHX3_MOUSE.H11MO.0.C\tHOCOMOCO_v11\tTTAATTAGC\t-\t9\t8\t9\n",
      "2\tNOBOX_HUMAN.H11MO.0.C\tHOCOMOCO_v11\tACCAATTAG\t-\t9\t7\t10\n",
      "2\tNOBOX_MOUSE.H11MO.0.C\tHOCOMOCO_v11\tACCAATTAG\t-\t9\t7\t10\n",
      "2\tDLX3_HUMAN.H11MO.0.C\tHOCOMOCO_v11\tTGTAATTATC\t-\t10\t7\t9\n",
      "2\tDLX3_MOUSE.H11MO.0.C\tHOCOMOCO_v11\tTGTAATTATC\t-\t10\t7\t9\n"
     ]
    }
   ],
   "source": [
    "FPATH=${FD_SRC}/motif_cluster_jvierstra/Motifs.txt\n",
    "head ${FPATH}"
   ]
  },
  {
   "cell_type": "code",
   "execution_count": 8,
   "id": "4ec955cb-9153-40ba-b85d-c89eff362d41",
   "metadata": {},
   "outputs": [
    {
     "name": "stdout",
     "output_type": "stream",
     "text": [
      "hg38_all_motifs_chroms.txt        hg38_archetype_motifs_clusters_reduce.txt\n",
      "\u001b[0m\u001b[01;34mhg38_all_motifs_v1\u001b[0m                \u001b[01;34mhg38_archetype_motifs_v1\u001b[0m\n",
      "hg38_archetype_motifs_chroms.txt\n"
     ]
    }
   ],
   "source": [
    "ls ${FD_ANN}/motif_cluster_jvierstra"
   ]
  },
  {
   "cell_type": "code",
   "execution_count": 9,
   "id": "2fb84e02-9501-4821-a96f-786868656def",
   "metadata": {},
   "outputs": [],
   "source": [
    "FPATH=${FD_SRC}/motif_cluster_jvierstra/Archetype_clusters.txt\n",
    "cp ${FPATH} ${FD_ANN}/motif_cluster_jvierstra/\n",
    "\n",
    "FPATH=${FD_SRC}/motif_cluster_jvierstra/Motifs.txt\n",
    "cp ${FPATH} ${FD_ANN}/motif_cluster_jvierstra/"
   ]
  },
  {
   "cell_type": "code",
   "execution_count": 11,
   "id": "5b6d0e65-67f7-4d10-a49f-d7654ea52dc3",
   "metadata": {},
   "outputs": [
    {
     "name": "stdout",
     "output_type": "stream",
     "text": [
      "Archetype_clusters.txt      hg38_archetype_motifs_chroms.txt\n",
      "Motifs.txt                  hg38_archetype_motifs_clusters_reduce.txt\n",
      "hg38_all_motifs_chroms.txt  \u001b[0m\u001b[01;34mhg38_archetype_motifs_v1\u001b[0m\n",
      "\u001b[01;34mhg38_all_motifs_v1\u001b[0m\n"
     ]
    }
   ],
   "source": [
    "ls ${FD_ANN}/motif_cluster_jvierstra"
   ]
  },
  {
   "cell_type": "code",
   "execution_count": null,
   "id": "3a2ba145-bb34-4529-9b79-5e30c6c5ee16",
   "metadata": {},
   "outputs": [],
   "source": []
  }
 ],
 "metadata": {
  "kernelspec": {
   "display_name": "Bash",
   "language": "bash",
   "name": "bash"
  },
  "language_info": {
   "codemirror_mode": "shell",
   "file_extension": ".sh",
   "mimetype": "text/x-sh",
   "name": "bash"
  }
 },
 "nbformat": 4,
 "nbformat_minor": 5
}
