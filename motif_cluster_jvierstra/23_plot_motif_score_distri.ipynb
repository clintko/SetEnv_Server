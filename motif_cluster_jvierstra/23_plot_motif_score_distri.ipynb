{
 "cells": [
  {
   "cell_type": "code",
   "execution_count": 2,
   "metadata": {},
   "outputs": [],
   "source": [
    "suppressMessages(suppressWarnings(source(\"../config_sing.R\")))"
   ]
  },
  {
   "cell_type": "markdown",
   "metadata": {},
   "source": [
    "## Import"
   ]
  },
  {
   "cell_type": "code",
   "execution_count": 3,
   "metadata": {},
   "outputs": [
    {
     "data": {
      "text/html": [
       "<style>\n",
       ".list-inline {list-style: none; margin:0; padding: 0}\n",
       ".list-inline>li {display: inline-block}\n",
       ".list-inline>li:not(:last-child)::after {content: \"\\00b7\"; padding: 0 .5ex}\n",
       "</style>\n",
       "<ol class=list-inline><li>'hg38_all_motifs_chroms.txt'</li><li>'hg38_all_motifs_v1'</li><li>'hg38_archetype_motifs_chroms.txt'</li><li>'hg38_archetype_motifs_clusters_reduce.txt'</li><li>'hg38_archetype_motifs_v1'</li><li>'motif_score_histogram.pickle'</li><li>'motif_score_histogram.tsv'</li></ol>\n"
      ],
      "text/latex": [
       "\\begin{enumerate*}\n",
       "\\item 'hg38\\_all\\_motifs\\_chroms.txt'\n",
       "\\item 'hg38\\_all\\_motifs\\_v1'\n",
       "\\item 'hg38\\_archetype\\_motifs\\_chroms.txt'\n",
       "\\item 'hg38\\_archetype\\_motifs\\_clusters\\_reduce.txt'\n",
       "\\item 'hg38\\_archetype\\_motifs\\_v1'\n",
       "\\item 'motif\\_score\\_histogram.pickle'\n",
       "\\item 'motif\\_score\\_histogram.tsv'\n",
       "\\end{enumerate*}\n"
      ],
      "text/markdown": [
       "1. 'hg38_all_motifs_chroms.txt'\n",
       "2. 'hg38_all_motifs_v1'\n",
       "3. 'hg38_archetype_motifs_chroms.txt'\n",
       "4. 'hg38_archetype_motifs_clusters_reduce.txt'\n",
       "5. 'hg38_archetype_motifs_v1'\n",
       "6. 'motif_score_histogram.pickle'\n",
       "7. 'motif_score_histogram.tsv'\n",
       "\n",
       "\n"
      ],
      "text/plain": [
       "[1] \"hg38_all_motifs_chroms.txt\"               \n",
       "[2] \"hg38_all_motifs_v1\"                       \n",
       "[3] \"hg38_archetype_motifs_chroms.txt\"         \n",
       "[4] \"hg38_archetype_motifs_clusters_reduce.txt\"\n",
       "[5] \"hg38_archetype_motifs_v1\"                 \n",
       "[6] \"motif_score_histogram.pickle\"             \n",
       "[7] \"motif_score_histogram.tsv\"                "
      ]
     },
     "metadata": {},
     "output_type": "display_data"
    }
   ],
   "source": [
    "### set directory\n",
    "FD_MTF = file.path(\n",
    "    FD_ANN, \n",
    "    \"motif_cluster_jvierstra\"\n",
    ")\n",
    "\n",
    "### set column names\n",
    "#cnames  = c(\"Chrom\", \"Start\", \"End\", \"Motif\", \"Score\")\n",
    "dir(FD_MTF)"
   ]
  },
  {
   "cell_type": "code",
   "execution_count": null,
   "metadata": {},
   "outputs": [],
   "source": []
  },
  {
   "cell_type": "code",
   "execution_count": 4,
   "metadata": {},
   "outputs": [
    {
     "data": {
      "text/html": [
       "<table class=\"dataframe\">\n",
       "<caption>A tibble: 3 × 2</caption>\n",
       "<thead>\n",
       "\t<tr><th scope=col>bin</th><th scope=col>count</th></tr>\n",
       "\t<tr><th scope=col>&lt;dbl&gt;</th><th scope=col>&lt;dbl&gt;</th></tr>\n",
       "</thead>\n",
       "<tbody>\n",
       "\t<tr><td>1.289880</td><td>1819668</td></tr>\n",
       "\t<tr><td>1.579761</td><td>2035022</td></tr>\n",
       "\t<tr><td>1.869641</td><td>2146225</td></tr>\n",
       "</tbody>\n",
       "</table>\n"
      ],
      "text/latex": [
       "A tibble: 3 × 2\n",
       "\\begin{tabular}{ll}\n",
       " bin & count\\\\\n",
       " <dbl> & <dbl>\\\\\n",
       "\\hline\n",
       "\t 1.289880 & 1819668\\\\\n",
       "\t 1.579761 & 2035022\\\\\n",
       "\t 1.869641 & 2146225\\\\\n",
       "\\end{tabular}\n"
      ],
      "text/markdown": [
       "\n",
       "A tibble: 3 × 2\n",
       "\n",
       "| bin &lt;dbl&gt; | count &lt;dbl&gt; |\n",
       "|---|---|\n",
       "| 1.289880 | 1819668 |\n",
       "| 1.579761 | 2035022 |\n",
       "| 1.869641 | 2146225 |\n",
       "\n"
      ],
      "text/plain": [
       "  bin      count  \n",
       "1 1.289880 1819668\n",
       "2 1.579761 2035022\n",
       "3 1.869641 2146225"
      ]
     },
     "metadata": {},
     "output_type": "display_data"
    }
   ],
   "source": [
    "fdiry = FD_MTF\n",
    "fname = \"motif_score_histogram.tsv\"\n",
    "fpath = file.path(fdiry, fname)\n",
    "dat_hist = read_tsv(fpath, show_col_types = FALSE)\n",
    "head(dat_hist, 3)"
   ]
  },
  {
   "cell_type": "code",
   "execution_count": 11,
   "metadata": {},
   "outputs": [
    {
     "data": {
      "image/png": "[encoded data removed]",
      "text/plain": [
       "plot without title"
      ]
     },
     "metadata": {
      "image/png": {
       "height": 300,
       "width": 600
      }
     },
     "output_type": "display_data"
    }
   ],
   "source": [
    "options(repr.plot.height=5, repr.plot.width=10)\n",
    "dat = dat_hist\n",
    "ggplot(dat, aes(x=bin, y=count)) + \n",
    "    geom_bar(stat = \"identity\") + \n",
    "    labs(x=\"Score\", y=\"Count\") +\n",
    "    theme_bw() +\n",
    "    theme(\n",
    "        axis.title = element_text(size=18),\n",
    "        axis.text  = element_text(size=13)\n",
    "    )"
   ]
  },
  {
   "cell_type": "code",
   "execution_count": null,
   "metadata": {},
   "outputs": [],
   "source": []
  }
 ],
 "metadata": {
  "kernelspec": {
   "display_name": "R",
   "language": "R",
   "name": "ir"
  },
  "language_info": {
   "codemirror_mode": "r",
   "file_extension": ".r",
   "mimetype": "text/x-r-source",
   "name": "R",
   "pygments_lexer": "r",
   "version": "4.1.1"
  }
 },
 "nbformat": 4,
 "nbformat_minor": 4
}
