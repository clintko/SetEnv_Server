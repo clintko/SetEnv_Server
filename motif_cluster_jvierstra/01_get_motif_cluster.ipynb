{
 "cells": [
  {
   "cell_type": "markdown",
   "id": "591e8790-3801-495d-8203-65436be821fc",
   "metadata": {},
   "source": [
    "# Get Non-redundant TF motif clusters\n",
    "https://www.vierstra.org/resources/motif_clustering"
   ]
  },
  {
   "cell_type": "code",
   "execution_count": 1,
   "id": "e21485f6-cc9a-48d7-a747-bcb4aed4b99d",
   "metadata": {},
   "outputs": [
    {
     "name": "stdout",
     "output_type": "stream",
     "text": [
      "You are on Duke Server: DCC\n",
      "BASE DIRECTORY:     /work/kk319\n",
      "PATH OF SOURCE:     /work/kk319/source\n",
      "PATH OF EXECUTABLE: /work/kk319/exe\n",
      "PATH OF ANNOTATION: /work/kk319/annotation\n",
      "\n"
     ]
    }
   ],
   "source": [
    "source ../config_duke.sh"
   ]
  },
  {
   "cell_type": "markdown",
   "id": "0ea004a2-07be-4b70-b99d-077b2560b8bd",
   "metadata": {},
   "source": [
    "## Download motif clusters\n",
    "https://resources.altius.org/~jvierstra/projects/motif-clustering/releases/v1.0/"
   ]
  },
  {
   "cell_type": "markdown",
   "id": "00fb35e8-fe9b-410f-a120-ead54930b82b",
   "metadata": {},
   "source": [
    "**Info**"
   ]
  },
  {
   "cell_type": "code",
   "execution_count": 2,
   "id": "5954ca54-822b-4663-be34-ecbda2efbf6b",
   "metadata": {},
   "outputs": [
    {
     "name": "stdout",
     "output_type": "stream",
     "text": [
      "--2021-07-18 16:39:44--  https://resources.altius.org/~jvierstra/projects/motif-clustering/releases/v1.0/hub.txt\n",
      "Resolving resources.altius.org (resources.altius.org)... 204.8.236.79\n",
      "Connecting to resources.altius.org (resources.altius.org)|204.8.236.79|:443... connected.\n",
      "HTTP request sent, awaiting response... 200 OK\n",
      "Length: 216 [text/plain]\n",
      "Saving to: ‘/work/kk319/source/motif_cluster_jvierstra/hub.txt’\n",
      "\n",
      "hub.txt             100%[===================>]     216  --.-KB/s    in 0s      \n",
      "\n",
      "2021-07-18 16:39:45 (7.46 MB/s) - ‘/work/kk319/source/motif_cluster_jvierstra/hub.txt’ saved [216/216]\n",
      "\n",
      "hub Non-redundant archetype motif clusters (version 1.0)\n",
      "shortLabel Non-redundant archetype motif clusters\n",
      "longLabel Non-redundant archetype motif clusters\n",
      "genomesFile trackhub/genomes.txt\n",
      "email jvierstra@altius.org\n"
     ]
    }
   ],
   "source": [
    "URL=https://resources.altius.org/~jvierstra/projects/motif-clustering/releases/v1.0/hub.txt\n",
    "FD_OUT=${FD_SRC}/motif_cluster_jvierstra\n",
    "\n",
    "mkdir -p ${FD_OUT}\n",
    "wget ${URL} -P ${FD_OUT}\n",
    "\n",
    "cat ${FD_OUT}/hub.txt"
   ]
  },
  {
   "cell_type": "markdown",
   "id": "6925fa94-e52a-4ba1-8d02-4ead023d4672",
   "metadata": {},
   "source": [
    "**Motif Clusters**"
   ]
  },
  {
   "cell_type": "code",
   "execution_count": 3,
   "id": "9dcf2b68-d8a1-4041-b821-680059a4cf18",
   "metadata": {},
   "outputs": [
    {
     "name": "stdout",
     "output_type": "stream",
     "text": [
      "--2021-07-18 16:39:49--  https://resources.altius.org/~jvierstra/projects/motif-clustering/releases/v1.0/hg38.archetype_motifs.v1.0.bed.gz\n",
      "Resolving resources.altius.org (resources.altius.org)... 204.8.236.79\n",
      "Connecting to resources.altius.org (resources.altius.org)|204.8.236.79|:443... connected.\n",
      "HTTP request sent, awaiting response... 200 OK\n",
      "Length: 12148566243 (11G) [application/x-gzip]\n",
      "Saving to: ‘/work/kk319/source/motif_cluster_jvierstra/hg38.archetype_motifs.v1.0.bed.gz’\n",
      "\n",
      "hg38.archetype_moti 100%[===================>]  11.31G  12.1MB/s    in 25m 39s \n",
      "\n",
      "2021-07-18 17:05:29 (7.53 MB/s) - ‘/work/kk319/source/motif_cluster_jvierstra/hg38.archetype_motifs.v1.0.bed.gz’ saved [12148566243/12148566243]\n",
      "\n"
     ]
    }
   ],
   "source": [
    "URL=https://resources.altius.org/~jvierstra/projects/motif-clustering/releases/v1.0/hg38.archetype_motifs.v1.0.bed.gz\n",
    "wget ${URL} -P ${FD_OUT}"
   ]
  },
  {
   "cell_type": "code",
   "execution_count": 4,
   "id": "5898c67c-9f4a-471b-b4f1-02afc6a3f1ca",
   "metadata": {},
   "outputs": [
    {
     "name": "stdout",
     "output_type": "stream",
     "text": [
      "--2021-07-18 17:05:29--  https://resources.altius.org/~jvierstra/projects/motif-clustering/releases/v1.0/hg38.all_motifs.v1.0.bed.gz\n",
      "Resolving resources.altius.org (resources.altius.org)... 204.8.236.79\n",
      "Connecting to resources.altius.org (resources.altius.org)|204.8.236.79|:443... connected.\n",
      "HTTP request sent, awaiting response... 200 OK\n",
      "Length: 36436119622 (34G) [application/x-gzip]\n",
      "Saving to: ‘/work/kk319/source/motif_cluster_jvierstra/hg38.all_motifs.v1.0.bed.gz’\n",
      "\n",
      "hg38.all_motifs.v1. 100%[===================>]  33.93G  3.01MB/s    in 44m 23s \n",
      "\n",
      "2021-07-18 17:49:52 (13.1 MB/s) - ‘/work/kk319/source/motif_cluster_jvierstra/hg38.all_motifs.v1.0.bed.gz’ saved [36436119622/36436119622]\n",
      "\n"
     ]
    }
   ],
   "source": [
    "URL=https://resources.altius.org/~jvierstra/projects/motif-clustering/releases/v1.0/hg38.all_motifs.v1.0.bed.gz\n",
    "wget ${URL} -P ${FD_OUT}"
   ]
  },
  {
   "cell_type": "code",
   "execution_count": null,
   "id": "0e5618cf-612c-4b98-ae5d-9d43418593c5",
   "metadata": {},
   "outputs": [],
   "source": []
  }
 ],
 "metadata": {
  "kernelspec": {
   "display_name": "Bash",
   "language": "bash",
   "name": "bash"
  },
  "language_info": {
   "codemirror_mode": "shell",
   "file_extension": ".sh",
   "mimetype": "text/x-sh",
   "name": "bash"
  }
 },
 "nbformat": 4,
 "nbformat_minor": 5
}
