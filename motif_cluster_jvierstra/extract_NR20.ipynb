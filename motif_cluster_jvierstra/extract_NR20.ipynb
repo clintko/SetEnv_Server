{
 "cells": [
  {
   "cell_type": "code",
   "execution_count": 1,
   "id": "9712e093-f179-494b-9f6f-5524137f3559",
   "metadata": {},
   "outputs": [
    {
     "name": "stdout",
     "output_type": "stream",
     "text": [
      "You are on Duke Server: DCC\n",
      "BASE DIRECTORY:     /work/kk319\n",
      "PATH OF SOURCE:     /work/kk319/source\n",
      "PATH OF EXECUTABLE: /work/kk319/exe\n",
      "PATH OF ANNOTATION: /work/kk319/annotation\n",
      "\n"
     ]
    }
   ],
   "source": [
    "source ../config_duke.sh"
   ]
  },
  {
   "cell_type": "code",
   "execution_count": 3,
   "id": "0e6a58ba-a22e-4971-8e1a-d56022c86e41",
   "metadata": {},
   "outputs": [
    {
     "name": "stdout",
     "output_type": "stream",
     "text": [
      "Archetype_clusters.txt      hg38_archetype_motifs_chroms.txt\n",
      "Motifs.txt                  hg38_archetype_motifs_clusters_reduce.txt\n",
      "hg38_all_motifs_chroms.txt  \u001b[0m\u001b[01;34mhg38_archetype_motifs_v1\u001b[0m\n",
      "\u001b[01;34mhg38_all_motifs_v1\u001b[0m\n"
     ]
    }
   ],
   "source": [
    "ls ${FD_ANN}/motif_cluster_jvierstra"
   ]
  },
  {
   "cell_type": "code",
   "execution_count": 5,
   "id": "d71c5fe8-b703-4cb9-bcae-72d3450f2acc",
   "metadata": {},
   "outputs": [
    {
     "name": "stdout",
     "output_type": "stream",
     "text": [
      "\u001b[0m\u001b[01;31m/work/kk319/annotation/motif_cluster_jvierstra/hg38_all_motifs_v1/chr17.bed.gz\u001b[0m\n"
     ]
    }
   ],
   "source": [
    "ls ${FD_ANN}/motif_cluster_jvierstra/hg38_all_motifs_v1/chr17.bed.gz"
   ]
  },
  {
   "cell_type": "code",
   "execution_count": 13,
   "id": "e1ea3867-5e15-4192-9e7c-f4b93eedabd8",
   "metadata": {},
   "outputs": [
    {
     "name": "stdout",
     "output_type": "stream",
     "text": [
      "chr17          60000          60024          ZN140_HUMAN.H11MO.0.C         5.68969265495  +              GATCATGCAGCTCTTCCAGGCCCA\n",
      "chr17          60003          60023          ZN586_HUMAN.H11MO.0.C         -0.954078456942               -              CATGCAGCTCTTCCAGGCCC\n",
      "chr17          60004          60023          ZN667_HUMAN.H11MO.0.C         8.02404291196  -              ATGCAGCTCTTCCAGGCCC\n",
      "chr17          60006          60021          MYOD1_HUMAN.H11MO.0.A         7.92751216165  +              GCAGCTCTTCCAGGC\n",
      "chr17          60009          60031          ZN341_HUMAN.H11MO.0.C         12.1220477664  -              GCTCTTCCAGGCCCACTGCTTC\n",
      "chr17          60010          60022          STAT3_MOUSE.H11MO.0.A         7.715317634    +              CTCTTCCAGGCC\n",
      "chr17          60012          60025          PRDM4_C2H2_1   1.30832870361  +              CTTCCAGGCCCAC\n",
      "chr17          60012          60031          NR1D1_HUMAN.H11MO.0.B         9.66797148232  -              CTTCCAGGCCCACTGCTTC\n",
      "chr17          60012          60031          NR1D1_MOUSE.H11MO.0.A         9.66797148232  -              CTTCCAGGCCCACTGCTTC\n",
      "chr17          60017          60037          HEN1_HUMAN.H11MO.0.C          5.58537435168  -              AGGCCCACTGCTTCTTCCTG\n",
      "\n",
      "gzip: stdout: Broken pipe\n"
     ]
    }
   ],
   "source": [
    "FPATH=${FD_ANN}/motif_cluster_jvierstra/hg38_all_motifs_v1/chr17.bed.gz\n",
    "zcat ${FPATH} | head | expand -t 15"
   ]
  },
  {
   "cell_type": "code",
   "execution_count": null,
   "id": "f374cd08-724b-4837-92e2-372a6ce05e9f",
   "metadata": {},
   "outputs": [],
   "source": []
  }
 ],
 "metadata": {
  "kernelspec": {
   "display_name": "Bash",
   "language": "bash",
   "name": "bash"
  },
  "language_info": {
   "codemirror_mode": "shell",
   "file_extension": ".sh",
   "mimetype": "text/x-sh",
   "name": "bash"
  }
 },
 "nbformat": 4,
 "nbformat_minor": 5
}
