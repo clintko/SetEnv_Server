{
 "cells": [
  {
   "cell_type": "code",
   "execution_count": 1,
   "metadata": {},
   "outputs": [
    {
     "name": "stderr",
     "output_type": "stream",
     "text": [
      "── \u001b[1mAttaching packages\u001b[22m ──────────────────────────────────────────────────────────────── tidyverse 1.3.1 ──\n",
      "\n",
      "\u001b[32m✔\u001b[39m \u001b[34mggplot2\u001b[39m 3.3.5     \u001b[32m✔\u001b[39m \u001b[34mpurrr  \u001b[39m 0.3.4\n",
      "\u001b[32m✔\u001b[39m \u001b[34mtibble \u001b[39m 3.1.4     \u001b[32m✔\u001b[39m \u001b[34mdplyr  \u001b[39m 1.0.7\n",
      "\u001b[32m✔\u001b[39m \u001b[34mtidyr  \u001b[39m 1.1.3     \u001b[32m✔\u001b[39m \u001b[34mstringr\u001b[39m 1.4.0\n",
      "\u001b[32m✔\u001b[39m \u001b[34mreadr  \u001b[39m 2.0.1     \u001b[32m✔\u001b[39m \u001b[34mforcats\u001b[39m 0.5.1\n",
      "\n",
      "── \u001b[1mConflicts\u001b[22m ─────────────────────────────────────────────────────────────────── tidyverse_conflicts() ──\n",
      "\u001b[31m✖\u001b[39m \u001b[34mdplyr\u001b[39m::\u001b[32mfilter()\u001b[39m masks \u001b[34mstats\u001b[39m::filter()\n",
      "\u001b[31m✖\u001b[39m \u001b[34mdplyr\u001b[39m::\u001b[32mlag()\u001b[39m    masks \u001b[34mstats\u001b[39m::lag()\n",
      "\n",
      "\n",
      "Attaching package: ‘gridExtra’\n",
      "\n",
      "\n",
      "The following object is masked from ‘package:dplyr’:\n",
      "\n",
      "    combine\n",
      "\n",
      "\n"
     ]
    }
   ],
   "source": [
    "source(\"../config_sing.R\")"
   ]
  },
  {
   "cell_type": "code",
   "execution_count": 2,
   "metadata": {},
   "outputs": [],
   "source": [
    "library(cowplot)"
   ]
  },
  {
   "cell_type": "code",
   "execution_count": 3,
   "metadata": {},
   "outputs": [
    {
     "data": {
      "text/html": [
       "<style>\n",
       ".list-inline {list-style: none; margin:0; padding: 0}\n",
       ".list-inline>li {display: inline-block}\n",
       ".list-inline>li:not(:last-child)::after {content: \"\\00b7\"; padding: 0 .5ex}\n",
       "</style>\n",
       "<ol class=list-inline><li>'/home/mount/work/annotation/motif_cluster_jvierstra/hg38_archetype_motifs_v1/dist_chr1'</li><li>'/home/mount/work/annotation/motif_cluster_jvierstra/hg38_archetype_motifs_v1/dist_chr10'</li><li>'/home/mount/work/annotation/motif_cluster_jvierstra/hg38_archetype_motifs_v1/dist_chr11'</li><li>'/home/mount/work/annotation/motif_cluster_jvierstra/hg38_archetype_motifs_v1/dist_chr12'</li><li>'/home/mount/work/annotation/motif_cluster_jvierstra/hg38_archetype_motifs_v1/dist_chr13'</li><li>'/home/mount/work/annotation/motif_cluster_jvierstra/hg38_archetype_motifs_v1/dist_chr14'</li><li>'/home/mount/work/annotation/motif_cluster_jvierstra/hg38_archetype_motifs_v1/dist_chr15'</li><li>'/home/mount/work/annotation/motif_cluster_jvierstra/hg38_archetype_motifs_v1/dist_chr16'</li><li>'/home/mount/work/annotation/motif_cluster_jvierstra/hg38_archetype_motifs_v1/dist_chr17'</li><li>'/home/mount/work/annotation/motif_cluster_jvierstra/hg38_archetype_motifs_v1/dist_chr18'</li><li>'/home/mount/work/annotation/motif_cluster_jvierstra/hg38_archetype_motifs_v1/dist_chr19'</li><li>'/home/mount/work/annotation/motif_cluster_jvierstra/hg38_archetype_motifs_v1/dist_chr2'</li><li>'/home/mount/work/annotation/motif_cluster_jvierstra/hg38_archetype_motifs_v1/dist_chr20'</li><li>'/home/mount/work/annotation/motif_cluster_jvierstra/hg38_archetype_motifs_v1/dist_chr21'</li><li>'/home/mount/work/annotation/motif_cluster_jvierstra/hg38_archetype_motifs_v1/dist_chr22'</li><li>'/home/mount/work/annotation/motif_cluster_jvierstra/hg38_archetype_motifs_v1/dist_chr3'</li><li>'/home/mount/work/annotation/motif_cluster_jvierstra/hg38_archetype_motifs_v1/dist_chr4'</li><li>'/home/mount/work/annotation/motif_cluster_jvierstra/hg38_archetype_motifs_v1/dist_chr5'</li><li>'/home/mount/work/annotation/motif_cluster_jvierstra/hg38_archetype_motifs_v1/dist_chr6'</li><li>'/home/mount/work/annotation/motif_cluster_jvierstra/hg38_archetype_motifs_v1/dist_chr7'</li><li>'/home/mount/work/annotation/motif_cluster_jvierstra/hg38_archetype_motifs_v1/dist_chr8'</li><li>'/home/mount/work/annotation/motif_cluster_jvierstra/hg38_archetype_motifs_v1/dist_chr9'</li><li>'/home/mount/work/annotation/motif_cluster_jvierstra/hg38_archetype_motifs_v1/dist_chrX'</li><li>'/home/mount/work/annotation/motif_cluster_jvierstra/hg38_archetype_motifs_v1/dist_chrY'</li></ol>\n"
      ],
      "text/latex": [
       "\\begin{enumerate*}\n",
       "\\item '/home/mount/work/annotation/motif\\_cluster\\_jvierstra/hg38\\_archetype\\_motifs\\_v1/dist\\_chr1'\n",
       "\\item '/home/mount/work/annotation/motif\\_cluster\\_jvierstra/hg38\\_archetype\\_motifs\\_v1/dist\\_chr10'\n",
       "\\item '/home/mount/work/annotation/motif\\_cluster\\_jvierstra/hg38\\_archetype\\_motifs\\_v1/dist\\_chr11'\n",
       "\\item '/home/mount/work/annotation/motif\\_cluster\\_jvierstra/hg38\\_archetype\\_motifs\\_v1/dist\\_chr12'\n",
       "\\item '/home/mount/work/annotation/motif\\_cluster\\_jvierstra/hg38\\_archetype\\_motifs\\_v1/dist\\_chr13'\n",
       "\\item '/home/mount/work/annotation/motif\\_cluster\\_jvierstra/hg38\\_archetype\\_motifs\\_v1/dist\\_chr14'\n",
       "\\item '/home/mount/work/annotation/motif\\_cluster\\_jvierstra/hg38\\_archetype\\_motifs\\_v1/dist\\_chr15'\n",
       "\\item '/home/mount/work/annotation/motif\\_cluster\\_jvierstra/hg38\\_archetype\\_motifs\\_v1/dist\\_chr16'\n",
       "\\item '/home/mount/work/annotation/motif\\_cluster\\_jvierstra/hg38\\_archetype\\_motifs\\_v1/dist\\_chr17'\n",
       "\\item '/home/mount/work/annotation/motif\\_cluster\\_jvierstra/hg38\\_archetype\\_motifs\\_v1/dist\\_chr18'\n",
       "\\item '/home/mount/work/annotation/motif\\_cluster\\_jvierstra/hg38\\_archetype\\_motifs\\_v1/dist\\_chr19'\n",
       "\\item '/home/mount/work/annotation/motif\\_cluster\\_jvierstra/hg38\\_archetype\\_motifs\\_v1/dist\\_chr2'\n",
       "\\item '/home/mount/work/annotation/motif\\_cluster\\_jvierstra/hg38\\_archetype\\_motifs\\_v1/dist\\_chr20'\n",
       "\\item '/home/mount/work/annotation/motif\\_cluster\\_jvierstra/hg38\\_archetype\\_motifs\\_v1/dist\\_chr21'\n",
       "\\item '/home/mount/work/annotation/motif\\_cluster\\_jvierstra/hg38\\_archetype\\_motifs\\_v1/dist\\_chr22'\n",
       "\\item '/home/mount/work/annotation/motif\\_cluster\\_jvierstra/hg38\\_archetype\\_motifs\\_v1/dist\\_chr3'\n",
       "\\item '/home/mount/work/annotation/motif\\_cluster\\_jvierstra/hg38\\_archetype\\_motifs\\_v1/dist\\_chr4'\n",
       "\\item '/home/mount/work/annotation/motif\\_cluster\\_jvierstra/hg38\\_archetype\\_motifs\\_v1/dist\\_chr5'\n",
       "\\item '/home/mount/work/annotation/motif\\_cluster\\_jvierstra/hg38\\_archetype\\_motifs\\_v1/dist\\_chr6'\n",
       "\\item '/home/mount/work/annotation/motif\\_cluster\\_jvierstra/hg38\\_archetype\\_motifs\\_v1/dist\\_chr7'\n",
       "\\item '/home/mount/work/annotation/motif\\_cluster\\_jvierstra/hg38\\_archetype\\_motifs\\_v1/dist\\_chr8'\n",
       "\\item '/home/mount/work/annotation/motif\\_cluster\\_jvierstra/hg38\\_archetype\\_motifs\\_v1/dist\\_chr9'\n",
       "\\item '/home/mount/work/annotation/motif\\_cluster\\_jvierstra/hg38\\_archetype\\_motifs\\_v1/dist\\_chrX'\n",
       "\\item '/home/mount/work/annotation/motif\\_cluster\\_jvierstra/hg38\\_archetype\\_motifs\\_v1/dist\\_chrY'\n",
       "\\end{enumerate*}\n"
      ],
      "text/markdown": [
       "1. '/home/mount/work/annotation/motif_cluster_jvierstra/hg38_archetype_motifs_v1/dist_chr1'\n",
       "2. '/home/mount/work/annotation/motif_cluster_jvierstra/hg38_archetype_motifs_v1/dist_chr10'\n",
       "3. '/home/mount/work/annotation/motif_cluster_jvierstra/hg38_archetype_motifs_v1/dist_chr11'\n",
       "4. '/home/mount/work/annotation/motif_cluster_jvierstra/hg38_archetype_motifs_v1/dist_chr12'\n",
       "5. '/home/mount/work/annotation/motif_cluster_jvierstra/hg38_archetype_motifs_v1/dist_chr13'\n",
       "6. '/home/mount/work/annotation/motif_cluster_jvierstra/hg38_archetype_motifs_v1/dist_chr14'\n",
       "7. '/home/mount/work/annotation/motif_cluster_jvierstra/hg38_archetype_motifs_v1/dist_chr15'\n",
       "8. '/home/mount/work/annotation/motif_cluster_jvierstra/hg38_archetype_motifs_v1/dist_chr16'\n",
       "9. '/home/mount/work/annotation/motif_cluster_jvierstra/hg38_archetype_motifs_v1/dist_chr17'\n",
       "10. '/home/mount/work/annotation/motif_cluster_jvierstra/hg38_archetype_motifs_v1/dist_chr18'\n",
       "11. '/home/mount/work/annotation/motif_cluster_jvierstra/hg38_archetype_motifs_v1/dist_chr19'\n",
       "12. '/home/mount/work/annotation/motif_cluster_jvierstra/hg38_archetype_motifs_v1/dist_chr2'\n",
       "13. '/home/mount/work/annotation/motif_cluster_jvierstra/hg38_archetype_motifs_v1/dist_chr20'\n",
       "14. '/home/mount/work/annotation/motif_cluster_jvierstra/hg38_archetype_motifs_v1/dist_chr21'\n",
       "15. '/home/mount/work/annotation/motif_cluster_jvierstra/hg38_archetype_motifs_v1/dist_chr22'\n",
       "16. '/home/mount/work/annotation/motif_cluster_jvierstra/hg38_archetype_motifs_v1/dist_chr3'\n",
       "17. '/home/mount/work/annotation/motif_cluster_jvierstra/hg38_archetype_motifs_v1/dist_chr4'\n",
       "18. '/home/mount/work/annotation/motif_cluster_jvierstra/hg38_archetype_motifs_v1/dist_chr5'\n",
       "19. '/home/mount/work/annotation/motif_cluster_jvierstra/hg38_archetype_motifs_v1/dist_chr6'\n",
       "20. '/home/mount/work/annotation/motif_cluster_jvierstra/hg38_archetype_motifs_v1/dist_chr7'\n",
       "21. '/home/mount/work/annotation/motif_cluster_jvierstra/hg38_archetype_motifs_v1/dist_chr8'\n",
       "22. '/home/mount/work/annotation/motif_cluster_jvierstra/hg38_archetype_motifs_v1/dist_chr9'\n",
       "23. '/home/mount/work/annotation/motif_cluster_jvierstra/hg38_archetype_motifs_v1/dist_chrX'\n",
       "24. '/home/mount/work/annotation/motif_cluster_jvierstra/hg38_archetype_motifs_v1/dist_chrY'\n",
       "\n",
       "\n"
      ],
      "text/plain": [
       " [1] \"/home/mount/work/annotation/motif_cluster_jvierstra/hg38_archetype_motifs_v1/dist_chr1\" \n",
       " [2] \"/home/mount/work/annotation/motif_cluster_jvierstra/hg38_archetype_motifs_v1/dist_chr10\"\n",
       " [3] \"/home/mount/work/annotation/motif_cluster_jvierstra/hg38_archetype_motifs_v1/dist_chr11\"\n",
       " [4] \"/home/mount/work/annotation/motif_cluster_jvierstra/hg38_archetype_motifs_v1/dist_chr12\"\n",
       " [5] \"/home/mount/work/annotation/motif_cluster_jvierstra/hg38_archetype_motifs_v1/dist_chr13\"\n",
       " [6] \"/home/mount/work/annotation/motif_cluster_jvierstra/hg38_archetype_motifs_v1/dist_chr14\"\n",
       " [7] \"/home/mount/work/annotation/motif_cluster_jvierstra/hg38_archetype_motifs_v1/dist_chr15\"\n",
       " [8] \"/home/mount/work/annotation/motif_cluster_jvierstra/hg38_archetype_motifs_v1/dist_chr16\"\n",
       " [9] \"/home/mount/work/annotation/motif_cluster_jvierstra/hg38_archetype_motifs_v1/dist_chr17\"\n",
       "[10] \"/home/mount/work/annotation/motif_cluster_jvierstra/hg38_archetype_motifs_v1/dist_chr18\"\n",
       "[11] \"/home/mount/work/annotation/motif_cluster_jvierstra/hg38_archetype_motifs_v1/dist_chr19\"\n",
       "[12] \"/home/mount/work/annotation/motif_cluster_jvierstra/hg38_archetype_motifs_v1/dist_chr2\" \n",
       "[13] \"/home/mount/work/annotation/motif_cluster_jvierstra/hg38_archetype_motifs_v1/dist_chr20\"\n",
       "[14] \"/home/mount/work/annotation/motif_cluster_jvierstra/hg38_archetype_motifs_v1/dist_chr21\"\n",
       "[15] \"/home/mount/work/annotation/motif_cluster_jvierstra/hg38_archetype_motifs_v1/dist_chr22\"\n",
       "[16] \"/home/mount/work/annotation/motif_cluster_jvierstra/hg38_archetype_motifs_v1/dist_chr3\" \n",
       "[17] \"/home/mount/work/annotation/motif_cluster_jvierstra/hg38_archetype_motifs_v1/dist_chr4\" \n",
       "[18] \"/home/mount/work/annotation/motif_cluster_jvierstra/hg38_archetype_motifs_v1/dist_chr5\" \n",
       "[19] \"/home/mount/work/annotation/motif_cluster_jvierstra/hg38_archetype_motifs_v1/dist_chr6\" \n",
       "[20] \"/home/mount/work/annotation/motif_cluster_jvierstra/hg38_archetype_motifs_v1/dist_chr7\" \n",
       "[21] \"/home/mount/work/annotation/motif_cluster_jvierstra/hg38_archetype_motifs_v1/dist_chr8\" \n",
       "[22] \"/home/mount/work/annotation/motif_cluster_jvierstra/hg38_archetype_motifs_v1/dist_chr9\" \n",
       "[23] \"/home/mount/work/annotation/motif_cluster_jvierstra/hg38_archetype_motifs_v1/dist_chrX\" \n",
       "[24] \"/home/mount/work/annotation/motif_cluster_jvierstra/hg38_archetype_motifs_v1/dist_chrY\" "
      ]
     },
     "metadata": {},
     "output_type": "display_data"
    }
   ],
   "source": [
    "fdiry = file.path(\n",
    "    FD_ANN, \n",
    "    \"motif_cluster_jvierstra\", \n",
    "    \"hg38_archetype_motifs_v1\")\n",
    "fglob = file.path(fdiry, \"dist_chr*\")\n",
    "Sys.glob(fglob)"
   ]
  },
  {
   "cell_type": "code",
   "execution_count": 5,
   "metadata": {},
   "outputs": [
    {
     "data": {
      "text/html": [
       "<table class=\"dataframe\">\n",
       "<caption>A tibble: 6 × 3</caption>\n",
       "<thead>\n",
       "\t<tr><th scope=col>Chrom</th><th scope=col>Motif</th><th scope=col>Count</th></tr>\n",
       "\t<tr><th scope=col>&lt;chr&gt;</th><th scope=col>&lt;chr&gt;</th><th scope=col>&lt;dbl&gt;</th></tr>\n",
       "</thead>\n",
       "<tbody>\n",
       "\t<tr><td>chr1</td><td>AHR  </td><td> 22491</td></tr>\n",
       "\t<tr><td>chr1</td><td>AIRE </td><td> 44531</td></tr>\n",
       "\t<tr><td>chr1</td><td>AP1_1</td><td>226207</td></tr>\n",
       "\t<tr><td>chr1</td><td>AP1_2</td><td>207980</td></tr>\n",
       "\t<tr><td>chr1</td><td>ARI5A</td><td> 33406</td></tr>\n",
       "\t<tr><td>chr1</td><td>ARI5B</td><td> 43610</td></tr>\n",
       "</tbody>\n",
       "</table>\n"
      ],
      "text/latex": [
       "A tibble: 6 × 3\n",
       "\\begin{tabular}{lll}\n",
       " Chrom & Motif & Count\\\\\n",
       " <chr> & <chr> & <dbl>\\\\\n",
       "\\hline\n",
       "\t chr1 & AHR   &  22491\\\\\n",
       "\t chr1 & AIRE  &  44531\\\\\n",
       "\t chr1 & AP1\\_1 & 226207\\\\\n",
       "\t chr1 & AP1\\_2 & 207980\\\\\n",
       "\t chr1 & ARI5A &  33406\\\\\n",
       "\t chr1 & ARI5B &  43610\\\\\n",
       "\\end{tabular}\n"
      ],
      "text/markdown": [
       "\n",
       "A tibble: 6 × 3\n",
       "\n",
       "| Chrom &lt;chr&gt; | Motif &lt;chr&gt; | Count &lt;dbl&gt; |\n",
       "|---|---|---|\n",
       "| chr1 | AHR   |  22491 |\n",
       "| chr1 | AIRE  |  44531 |\n",
       "| chr1 | AP1_1 | 226207 |\n",
       "| chr1 | AP1_2 | 207980 |\n",
       "| chr1 | ARI5A |  33406 |\n",
       "| chr1 | ARI5B |  43610 |\n",
       "\n"
      ],
      "text/plain": [
       "  Chrom Motif Count \n",
       "1 chr1  AHR    22491\n",
       "2 chr1  AIRE   44531\n",
       "3 chr1  AP1_1 226207\n",
       "4 chr1  AP1_2 207980\n",
       "5 chr1  ARI5A  33406\n",
       "6 chr1  ARI5B  43610"
      ]
     },
     "metadata": {},
     "output_type": "display_data"
    }
   ],
   "source": [
    "fdiry = file.path(\n",
    "    FD_ANN, \n",
    "    \"motif_cluster_jvierstra\", \n",
    "    \"hg38_archetype_motifs_v1\")\n",
    "fname = \"count_motif.txt\"\n",
    "cnames = c(\"Chrom\", \"Motif\", \"Count\")\n",
    "\n",
    "chroms  = c(1:22, \"X\", \"Y\")\n",
    "lst_dat = lapply(chroms, function(chrom){\n",
    "    x = paste0(\"chr\",      chrom)\n",
    "    y = paste0(\"dist_chr\", chrom)\n",
    "    \n",
    "    fpath = file.path(fdiry, y, fname)\n",
    "    dat = read_tsv(fpath, col_names = cnames, show_col_types = FALSE) %>% \n",
    "        mutate(Chrom = x)\n",
    "    return(dat)\n",
    "})\n",
    "\n",
    "dat_cnt_tot = bind_rows(lst_dat) %>% \n",
    "    mutate(Motif = str_remove(Motif, \"_merge.bed\"))\n",
    "head(dat_cnt_tot)"
   ]
  },
  {
   "cell_type": "code",
   "execution_count": 6,
   "metadata": {},
   "outputs": [
    {
     "data": {
      "text/html": [
       "<table class=\"dataframe\">\n",
       "<caption>A tibble: 6 × 3</caption>\n",
       "<thead>\n",
       "\t<tr><th scope=col>Chrom</th><th scope=col>Motif</th><th scope=col>Count</th></tr>\n",
       "\t<tr><th scope=col>&lt;chr&gt;</th><th scope=col>&lt;chr&gt;</th><th scope=col>&lt;dbl&gt;</th></tr>\n",
       "</thead>\n",
       "<tbody>\n",
       "\t<tr><td>chr1</td><td>AHR  </td><td>   0</td></tr>\n",
       "\t<tr><td>chr1</td><td>AIRE </td><td> 133</td></tr>\n",
       "\t<tr><td>chr1</td><td>AP1_1</td><td>5599</td></tr>\n",
       "\t<tr><td>chr1</td><td>AP1_2</td><td>7170</td></tr>\n",
       "\t<tr><td>chr1</td><td>ARI5A</td><td>   0</td></tr>\n",
       "\t<tr><td>chr1</td><td>ARI5B</td><td>   0</td></tr>\n",
       "</tbody>\n",
       "</table>\n"
      ],
      "text/latex": [
       "A tibble: 6 × 3\n",
       "\\begin{tabular}{lll}\n",
       " Chrom & Motif & Count\\\\\n",
       " <chr> & <chr> & <dbl>\\\\\n",
       "\\hline\n",
       "\t chr1 & AHR   &    0\\\\\n",
       "\t chr1 & AIRE  &  133\\\\\n",
       "\t chr1 & AP1\\_1 & 5599\\\\\n",
       "\t chr1 & AP1\\_2 & 7170\\\\\n",
       "\t chr1 & ARI5A &    0\\\\\n",
       "\t chr1 & ARI5B &    0\\\\\n",
       "\\end{tabular}\n"
      ],
      "text/markdown": [
       "\n",
       "A tibble: 6 × 3\n",
       "\n",
       "| Chrom &lt;chr&gt; | Motif &lt;chr&gt; | Count &lt;dbl&gt; |\n",
       "|---|---|---|\n",
       "| chr1 | AHR   |    0 |\n",
       "| chr1 | AIRE  |  133 |\n",
       "| chr1 | AP1_1 | 5599 |\n",
       "| chr1 | AP1_2 | 7170 |\n",
       "| chr1 | ARI5A |    0 |\n",
       "| chr1 | ARI5B |    0 |\n",
       "\n"
      ],
      "text/plain": [
       "  Chrom Motif Count\n",
       "1 chr1  AHR      0 \n",
       "2 chr1  AIRE   133 \n",
       "3 chr1  AP1_1 5599 \n",
       "4 chr1  AP1_2 7170 \n",
       "5 chr1  ARI5A    0 \n",
       "6 chr1  ARI5B    0 "
      ]
     },
     "metadata": {},
     "output_type": "display_data"
    }
   ],
   "source": [
    "fdiry = file.path(\n",
    "    FD_ANN, \n",
    "    \"motif_cluster_jvierstra\", \n",
    "    \"hg38_archetype_motifs_v1\")\n",
    "fname = \"count_motif_filter95.txt\"\n",
    "cnames = c(\"Chrom\", \"Motif\", \"Count\")\n",
    "\n",
    "chroms  = c(1:22, \"X\", \"Y\")\n",
    "lst_dat = lapply(chroms, function(chrom){\n",
    "    x = paste0(\"chr\",      chrom)\n",
    "    y = paste0(\"dist_chr\", chrom)\n",
    "    \n",
    "    fpath = file.path(fdiry, y, fname)\n",
    "    dat = read_tsv(fpath, col_names = cnames, show_col_types = FALSE) %>% \n",
    "        mutate(Chrom = x)\n",
    "    return(dat)\n",
    "})\n",
    "\n",
    "dat_cnt_f95 = bind_rows(lst_dat) %>% \n",
    "    mutate(Motif = str_remove(Motif, \"_merge.bed\"))\n",
    "head(dat_cnt_f95)"
   ]
  },
  {
   "cell_type": "code",
   "execution_count": 7,
   "metadata": {},
   "outputs": [],
   "source": [
    "cnames = c(\n",
    "    \"MTF1_Chrom\",\n",
    "    \"MTF1_Start\",\n",
    "    \"MTF1_End\",\n",
    "    \"MTF1\",\n",
    "    \"MTF1_score\",\n",
    "    \"MTF2_Chrom\",\n",
    "    \"MTF2_Start\",\n",
    "    \"MTF2_End\",\n",
    "    \"MTF2\",\n",
    "    \"MTF2_score\",\n",
    "    \"Distance\")\n",
    "\n",
    "###\n",
    "mtf1 = \"AP1_1\"\n",
    "mtf2 = \"NR_20\"\n",
    "fdiry = file.path(\n",
    "    FD_ANN, \n",
    "    \"motif_cluster_jvierstra\", \n",
    "    \"hg38_archetype_motifs_v1\")\n",
    "fname = paste0(mtf1, \"_\", mtf2, \".bed\")\n",
    "\n",
    "###\n",
    "chroms  = c(1:22, \"X\", \"Y\")\n",
    "lst_dat = lapply(chroms, function(chrom){\n",
    "    x     = paste0(\"dist_chr\", chrom)\n",
    "    fpath = file.path(fdiry, x, fname)\n",
    "    dat   = read_tsv(fpath, col_names = cnames, show_col_types = FALSE)\n",
    "    return(dat)\n",
    "})\n",
    "dat_dist_AB = bind_rows(lst_dat)\n",
    "\n",
    "###\n",
    "mtf1 = \"NR_20\"\n",
    "mtf2 = \"AP1_1\"\n",
    "fdiry = file.path(\n",
    "    FD_ANN, \n",
    "    \"motif_cluster_jvierstra\", \n",
    "    \"hg38_archetype_motifs_v1\")\n",
    "fname = paste0(mtf1, \"_\", mtf2, \".bed\")\n",
    "\n",
    "###\n",
    "chroms  = c(1:22, \"X\", \"Y\")\n",
    "lst_dat = lapply(chroms, function(chrom){\n",
    "    x     = paste0(\"dist_chr\", chrom)\n",
    "    fpath = file.path(fdiry, x, fname)\n",
    "    dat   = read_tsv(fpath, col_names = cnames, show_col_types = FALSE)\n",
    "    return(dat)\n",
    "})\n",
    "\n",
    "###\n",
    "dat_dist_BA = bind_rows(lst_dat)"
   ]
  },
  {
   "cell_type": "code",
   "execution_count": 8,
   "metadata": {},
   "outputs": [
    {
     "data": {
      "text/html": [
       "<table class=\"dataframe\">\n",
       "<caption>A tibble: 6 × 11</caption>\n",
       "<thead>\n",
       "\t<tr><th scope=col>MTF1_Chrom</th><th scope=col>MTF1_Start</th><th scope=col>MTF1_End</th><th scope=col>MTF1</th><th scope=col>MTF1_score</th><th scope=col>MTF2_Chrom</th><th scope=col>MTF2_Start</th><th scope=col>MTF2_End</th><th scope=col>MTF2</th><th scope=col>MTF2_score</th><th scope=col>Distance</th></tr>\n",
       "\t<tr><th scope=col>&lt;chr&gt;</th><th scope=col>&lt;dbl&gt;</th><th scope=col>&lt;dbl&gt;</th><th scope=col>&lt;chr&gt;</th><th scope=col>&lt;dbl&gt;</th><th scope=col>&lt;chr&gt;</th><th scope=col>&lt;dbl&gt;</th><th scope=col>&lt;dbl&gt;</th><th scope=col>&lt;chr&gt;</th><th scope=col>&lt;dbl&gt;</th><th scope=col>&lt;dbl&gt;</th></tr>\n",
       "</thead>\n",
       "<tbody>\n",
       "\t<tr><td>chr1</td><td>12190</td><td>12198</td><td>AP1/1</td><td> 7.43060</td><td>chr1</td><td>14615</td><td>14629</td><td>NR/20</td><td>7.1956</td><td>2418</td></tr>\n",
       "\t<tr><td>chr1</td><td>12950</td><td>12959</td><td>AP1/1</td><td> 6.79415</td><td>chr1</td><td>14615</td><td>14629</td><td>NR/20</td><td>7.1956</td><td>1657</td></tr>\n",
       "\t<tr><td>chr1</td><td>13971</td><td>13980</td><td>AP1/1</td><td>10.96380</td><td>chr1</td><td>14615</td><td>14629</td><td>NR/20</td><td>7.1956</td><td> 636</td></tr>\n",
       "\t<tr><td>chr1</td><td>14158</td><td>14166</td><td>AP1/1</td><td> 6.73210</td><td>chr1</td><td>14615</td><td>14629</td><td>NR/20</td><td>7.1956</td><td> 450</td></tr>\n",
       "\t<tr><td>chr1</td><td>15090</td><td>15098</td><td>AP1/1</td><td> 7.53870</td><td>chr1</td><td>15090</td><td>15104</td><td>NR/20</td><td>7.8854</td><td>   0</td></tr>\n",
       "\t<tr><td>chr1</td><td>15297</td><td>15305</td><td>AP1/1</td><td> 7.65610</td><td>chr1</td><td>15247</td><td>15261</td><td>NR/20</td><td>7.8434</td><td>  37</td></tr>\n",
       "</tbody>\n",
       "</table>\n"
      ],
      "text/latex": [
       "A tibble: 6 × 11\n",
       "\\begin{tabular}{lllllllllll}\n",
       " MTF1\\_Chrom & MTF1\\_Start & MTF1\\_End & MTF1 & MTF1\\_score & MTF2\\_Chrom & MTF2\\_Start & MTF2\\_End & MTF2 & MTF2\\_score & Distance\\\\\n",
       " <chr> & <dbl> & <dbl> & <chr> & <dbl> & <chr> & <dbl> & <dbl> & <chr> & <dbl> & <dbl>\\\\\n",
       "\\hline\n",
       "\t chr1 & 12190 & 12198 & AP1/1 &  7.43060 & chr1 & 14615 & 14629 & NR/20 & 7.1956 & 2418\\\\\n",
       "\t chr1 & 12950 & 12959 & AP1/1 &  6.79415 & chr1 & 14615 & 14629 & NR/20 & 7.1956 & 1657\\\\\n",
       "\t chr1 & 13971 & 13980 & AP1/1 & 10.96380 & chr1 & 14615 & 14629 & NR/20 & 7.1956 &  636\\\\\n",
       "\t chr1 & 14158 & 14166 & AP1/1 &  6.73210 & chr1 & 14615 & 14629 & NR/20 & 7.1956 &  450\\\\\n",
       "\t chr1 & 15090 & 15098 & AP1/1 &  7.53870 & chr1 & 15090 & 15104 & NR/20 & 7.8854 &    0\\\\\n",
       "\t chr1 & 15297 & 15305 & AP1/1 &  7.65610 & chr1 & 15247 & 15261 & NR/20 & 7.8434 &   37\\\\\n",
       "\\end{tabular}\n"
      ],
      "text/markdown": [
       "\n",
       "A tibble: 6 × 11\n",
       "\n",
       "| MTF1_Chrom &lt;chr&gt; | MTF1_Start &lt;dbl&gt; | MTF1_End &lt;dbl&gt; | MTF1 &lt;chr&gt; | MTF1_score &lt;dbl&gt; | MTF2_Chrom &lt;chr&gt; | MTF2_Start &lt;dbl&gt; | MTF2_End &lt;dbl&gt; | MTF2 &lt;chr&gt; | MTF2_score &lt;dbl&gt; | Distance &lt;dbl&gt; |\n",
       "|---|---|---|---|---|---|---|---|---|---|---|\n",
       "| chr1 | 12190 | 12198 | AP1/1 |  7.43060 | chr1 | 14615 | 14629 | NR/20 | 7.1956 | 2418 |\n",
       "| chr1 | 12950 | 12959 | AP1/1 |  6.79415 | chr1 | 14615 | 14629 | NR/20 | 7.1956 | 1657 |\n",
       "| chr1 | 13971 | 13980 | AP1/1 | 10.96380 | chr1 | 14615 | 14629 | NR/20 | 7.1956 |  636 |\n",
       "| chr1 | 14158 | 14166 | AP1/1 |  6.73210 | chr1 | 14615 | 14629 | NR/20 | 7.1956 |  450 |\n",
       "| chr1 | 15090 | 15098 | AP1/1 |  7.53870 | chr1 | 15090 | 15104 | NR/20 | 7.8854 |    0 |\n",
       "| chr1 | 15297 | 15305 | AP1/1 |  7.65610 | chr1 | 15247 | 15261 | NR/20 | 7.8434 |   37 |\n",
       "\n"
      ],
      "text/plain": [
       "  MTF1_Chrom MTF1_Start MTF1_End MTF1  MTF1_score MTF2_Chrom MTF2_Start\n",
       "1 chr1       12190      12198    AP1/1  7.43060   chr1       14615     \n",
       "2 chr1       12950      12959    AP1/1  6.79415   chr1       14615     \n",
       "3 chr1       13971      13980    AP1/1 10.96380   chr1       14615     \n",
       "4 chr1       14158      14166    AP1/1  6.73210   chr1       14615     \n",
       "5 chr1       15090      15098    AP1/1  7.53870   chr1       15090     \n",
       "6 chr1       15297      15305    AP1/1  7.65610   chr1       15247     \n",
       "  MTF2_End MTF2  MTF2_score Distance\n",
       "1 14629    NR/20 7.1956     2418    \n",
       "2 14629    NR/20 7.1956     1657    \n",
       "3 14629    NR/20 7.1956      636    \n",
       "4 14629    NR/20 7.1956      450    \n",
       "5 15104    NR/20 7.8854        0    \n",
       "6 15261    NR/20 7.8434       37    "
      ]
     },
     "metadata": {},
     "output_type": "display_data"
    }
   ],
   "source": [
    "head(dat_dist_AB)"
   ]
  },
  {
   "cell_type": "code",
   "execution_count": 9,
   "metadata": {},
   "outputs": [
    {
     "data": {
      "text/html": [
       "<table class=\"dataframe\">\n",
       "<caption>A tibble: 6 × 11</caption>\n",
       "<thead>\n",
       "\t<tr><th scope=col>MTF1_Chrom</th><th scope=col>MTF1_Start</th><th scope=col>MTF1_End</th><th scope=col>MTF1</th><th scope=col>MTF1_score</th><th scope=col>MTF2_Chrom</th><th scope=col>MTF2_Start</th><th scope=col>MTF2_End</th><th scope=col>MTF2</th><th scope=col>MTF2_score</th><th scope=col>Distance</th></tr>\n",
       "\t<tr><th scope=col>&lt;chr&gt;</th><th scope=col>&lt;dbl&gt;</th><th scope=col>&lt;dbl&gt;</th><th scope=col>&lt;chr&gt;</th><th scope=col>&lt;dbl&gt;</th><th scope=col>&lt;chr&gt;</th><th scope=col>&lt;dbl&gt;</th><th scope=col>&lt;dbl&gt;</th><th scope=col>&lt;chr&gt;</th><th scope=col>&lt;dbl&gt;</th><th scope=col>&lt;dbl&gt;</th></tr>\n",
       "</thead>\n",
       "<tbody>\n",
       "\t<tr><td>chr1</td><td>14615</td><td>14629</td><td>NR/20</td><td>7.1956</td><td>chr1</td><td>14158</td><td>14166</td><td>AP1/1</td><td>6.7321</td><td> 450</td></tr>\n",
       "\t<tr><td>chr1</td><td>15090</td><td>15104</td><td>NR/20</td><td>7.8854</td><td>chr1</td><td>15090</td><td>15098</td><td>AP1/1</td><td>7.5387</td><td>   0</td></tr>\n",
       "\t<tr><td>chr1</td><td>15247</td><td>15261</td><td>NR/20</td><td>7.8434</td><td>chr1</td><td>15297</td><td>15305</td><td>AP1/1</td><td>7.6561</td><td>  37</td></tr>\n",
       "\t<tr><td>chr1</td><td>17444</td><td>17458</td><td>NR/20</td><td>8.6846</td><td>chr1</td><td>15297</td><td>15305</td><td>AP1/1</td><td>7.6561</td><td>2140</td></tr>\n",
       "\t<tr><td>chr1</td><td>19010</td><td>19025</td><td>NR/20</td><td>6.8888</td><td>chr1</td><td>21549</td><td>21557</td><td>AP1/1</td><td>8.2049</td><td>2525</td></tr>\n",
       "\t<tr><td>chr1</td><td>19846</td><td>19860</td><td>NR/20</td><td>8.2151</td><td>chr1</td><td>21549</td><td>21557</td><td>AP1/1</td><td>8.2049</td><td>1690</td></tr>\n",
       "</tbody>\n",
       "</table>\n"
      ],
      "text/latex": [
       "A tibble: 6 × 11\n",
       "\\begin{tabular}{lllllllllll}\n",
       " MTF1\\_Chrom & MTF1\\_Start & MTF1\\_End & MTF1 & MTF1\\_score & MTF2\\_Chrom & MTF2\\_Start & MTF2\\_End & MTF2 & MTF2\\_score & Distance\\\\\n",
       " <chr> & <dbl> & <dbl> & <chr> & <dbl> & <chr> & <dbl> & <dbl> & <chr> & <dbl> & <dbl>\\\\\n",
       "\\hline\n",
       "\t chr1 & 14615 & 14629 & NR/20 & 7.1956 & chr1 & 14158 & 14166 & AP1/1 & 6.7321 &  450\\\\\n",
       "\t chr1 & 15090 & 15104 & NR/20 & 7.8854 & chr1 & 15090 & 15098 & AP1/1 & 7.5387 &    0\\\\\n",
       "\t chr1 & 15247 & 15261 & NR/20 & 7.8434 & chr1 & 15297 & 15305 & AP1/1 & 7.6561 &   37\\\\\n",
       "\t chr1 & 17444 & 17458 & NR/20 & 8.6846 & chr1 & 15297 & 15305 & AP1/1 & 7.6561 & 2140\\\\\n",
       "\t chr1 & 19010 & 19025 & NR/20 & 6.8888 & chr1 & 21549 & 21557 & AP1/1 & 8.2049 & 2525\\\\\n",
       "\t chr1 & 19846 & 19860 & NR/20 & 8.2151 & chr1 & 21549 & 21557 & AP1/1 & 8.2049 & 1690\\\\\n",
       "\\end{tabular}\n"
      ],
      "text/markdown": [
       "\n",
       "A tibble: 6 × 11\n",
       "\n",
       "| MTF1_Chrom &lt;chr&gt; | MTF1_Start &lt;dbl&gt; | MTF1_End &lt;dbl&gt; | MTF1 &lt;chr&gt; | MTF1_score &lt;dbl&gt; | MTF2_Chrom &lt;chr&gt; | MTF2_Start &lt;dbl&gt; | MTF2_End &lt;dbl&gt; | MTF2 &lt;chr&gt; | MTF2_score &lt;dbl&gt; | Distance &lt;dbl&gt; |\n",
       "|---|---|---|---|---|---|---|---|---|---|---|\n",
       "| chr1 | 14615 | 14629 | NR/20 | 7.1956 | chr1 | 14158 | 14166 | AP1/1 | 6.7321 |  450 |\n",
       "| chr1 | 15090 | 15104 | NR/20 | 7.8854 | chr1 | 15090 | 15098 | AP1/1 | 7.5387 |    0 |\n",
       "| chr1 | 15247 | 15261 | NR/20 | 7.8434 | chr1 | 15297 | 15305 | AP1/1 | 7.6561 |   37 |\n",
       "| chr1 | 17444 | 17458 | NR/20 | 8.6846 | chr1 | 15297 | 15305 | AP1/1 | 7.6561 | 2140 |\n",
       "| chr1 | 19010 | 19025 | NR/20 | 6.8888 | chr1 | 21549 | 21557 | AP1/1 | 8.2049 | 2525 |\n",
       "| chr1 | 19846 | 19860 | NR/20 | 8.2151 | chr1 | 21549 | 21557 | AP1/1 | 8.2049 | 1690 |\n",
       "\n"
      ],
      "text/plain": [
       "  MTF1_Chrom MTF1_Start MTF1_End MTF1  MTF1_score MTF2_Chrom MTF2_Start\n",
       "1 chr1       14615      14629    NR/20 7.1956     chr1       14158     \n",
       "2 chr1       15090      15104    NR/20 7.8854     chr1       15090     \n",
       "3 chr1       15247      15261    NR/20 7.8434     chr1       15297     \n",
       "4 chr1       17444      17458    NR/20 8.6846     chr1       15297     \n",
       "5 chr1       19010      19025    NR/20 6.8888     chr1       21549     \n",
       "6 chr1       19846      19860    NR/20 8.2151     chr1       21549     \n",
       "  MTF2_End MTF2  MTF2_score Distance\n",
       "1 14166    AP1/1 6.7321      450    \n",
       "2 15098    AP1/1 7.5387        0    \n",
       "3 15305    AP1/1 7.6561       37    \n",
       "4 15305    AP1/1 7.6561     2140    \n",
       "5 21557    AP1/1 8.2049     2525    \n",
       "6 21557    AP1/1 8.2049     1690    "
      ]
     },
     "metadata": {},
     "output_type": "display_data"
    }
   ],
   "source": [
    "head(dat_dist_BA)"
   ]
  },
  {
   "cell_type": "code",
   "execution_count": null,
   "metadata": {},
   "outputs": [],
   "source": []
  },
  {
   "cell_type": "code",
   "execution_count": null,
   "metadata": {},
   "outputs": [],
   "source": []
  },
  {
   "cell_type": "code",
   "execution_count": 11,
   "metadata": {},
   "outputs": [
    {
     "data": {
      "text/html": [
       "<table class=\"dataframe\">\n",
       "<caption>A tibble: 6 × 3</caption>\n",
       "<thead>\n",
       "\t<tr><th scope=col>Chrom</th><th scope=col>Motif</th><th scope=col>Count</th></tr>\n",
       "\t<tr><th scope=col>&lt;chr&gt;</th><th scope=col>&lt;chr&gt;</th><th scope=col>&lt;dbl&gt;</th></tr>\n",
       "</thead>\n",
       "<tbody>\n",
       "\t<tr><td>chr1</td><td>AP1_1</td><td>226207</td></tr>\n",
       "\t<tr><td>chr1</td><td>NR_20</td><td> 81649</td></tr>\n",
       "\t<tr><td>chr2</td><td>AP1_1</td><td>224460</td></tr>\n",
       "\t<tr><td>chr2</td><td>NR_20</td><td> 87275</td></tr>\n",
       "\t<tr><td>chr3</td><td>AP1_1</td><td>181468</td></tr>\n",
       "\t<tr><td>chr3</td><td>NR_20</td><td> 71559</td></tr>\n",
       "</tbody>\n",
       "</table>\n"
      ],
      "text/latex": [
       "A tibble: 6 × 3\n",
       "\\begin{tabular}{lll}\n",
       " Chrom & Motif & Count\\\\\n",
       " <chr> & <chr> & <dbl>\\\\\n",
       "\\hline\n",
       "\t chr1 & AP1\\_1 & 226207\\\\\n",
       "\t chr1 & NR\\_20 &  81649\\\\\n",
       "\t chr2 & AP1\\_1 & 224460\\\\\n",
       "\t chr2 & NR\\_20 &  87275\\\\\n",
       "\t chr3 & AP1\\_1 & 181468\\\\\n",
       "\t chr3 & NR\\_20 &  71559\\\\\n",
       "\\end{tabular}\n"
      ],
      "text/markdown": [
       "\n",
       "A tibble: 6 × 3\n",
       "\n",
       "| Chrom &lt;chr&gt; | Motif &lt;chr&gt; | Count &lt;dbl&gt; |\n",
       "|---|---|---|\n",
       "| chr1 | AP1_1 | 226207 |\n",
       "| chr1 | NR_20 |  81649 |\n",
       "| chr2 | AP1_1 | 224460 |\n",
       "| chr2 | NR_20 |  87275 |\n",
       "| chr3 | AP1_1 | 181468 |\n",
       "| chr3 | NR_20 |  71559 |\n",
       "\n"
      ],
      "text/plain": [
       "  Chrom Motif Count \n",
       "1 chr1  AP1_1 226207\n",
       "2 chr1  NR_20  81649\n",
       "3 chr2  AP1_1 224460\n",
       "4 chr2  NR_20  87275\n",
       "5 chr3  AP1_1 181468\n",
       "6 chr3  NR_20  71559"
      ]
     },
     "metadata": {},
     "output_type": "display_data"
    }
   ],
   "source": [
    "dat1 = dat_cnt_tot %>% dplyr::filter(Motif %in% c(\"AP1_1\", \"NR_20\"))\n",
    "head(dat1)"
   ]
  },
  {
   "cell_type": "code",
   "execution_count": 14,
   "metadata": {},
   "outputs": [
    {
     "data": {
      "text/html": [
       "<table class=\"dataframe\">\n",
       "<caption>A tibble: 6 × 3</caption>\n",
       "<thead>\n",
       "\t<tr><th scope=col>Chrom</th><th scope=col>Count</th><th scope=col>Motif</th></tr>\n",
       "\t<tr><th scope=col>&lt;chr&gt;</th><th scope=col>&lt;int&gt;</th><th scope=col>&lt;chr&gt;</th></tr>\n",
       "</thead>\n",
       "<tbody>\n",
       "\t<tr><td>chr1 </td><td>112591</td><td>AP1_1_NR_20</td></tr>\n",
       "\t<tr><td>chr10</td><td> 65838</td><td>AP1_1_NR_20</td></tr>\n",
       "\t<tr><td>chr11</td><td> 63029</td><td>AP1_1_NR_20</td></tr>\n",
       "\t<tr><td>chr12</td><td> 63554</td><td>AP1_1_NR_20</td></tr>\n",
       "\t<tr><td>chr13</td><td> 45462</td><td>AP1_1_NR_20</td></tr>\n",
       "\t<tr><td>chr14</td><td> 42559</td><td>AP1_1_NR_20</td></tr>\n",
       "</tbody>\n",
       "</table>\n"
      ],
      "text/latex": [
       "A tibble: 6 × 3\n",
       "\\begin{tabular}{lll}\n",
       " Chrom & Count & Motif\\\\\n",
       " <chr> & <int> & <chr>\\\\\n",
       "\\hline\n",
       "\t chr1  & 112591 & AP1\\_1\\_NR\\_20\\\\\n",
       "\t chr10 &  65838 & AP1\\_1\\_NR\\_20\\\\\n",
       "\t chr11 &  63029 & AP1\\_1\\_NR\\_20\\\\\n",
       "\t chr12 &  63554 & AP1\\_1\\_NR\\_20\\\\\n",
       "\t chr13 &  45462 & AP1\\_1\\_NR\\_20\\\\\n",
       "\t chr14 &  42559 & AP1\\_1\\_NR\\_20\\\\\n",
       "\\end{tabular}\n"
      ],
      "text/markdown": [
       "\n",
       "A tibble: 6 × 3\n",
       "\n",
       "| Chrom &lt;chr&gt; | Count &lt;int&gt; | Motif &lt;chr&gt; |\n",
       "|---|---|---|\n",
       "| chr1  | 112591 | AP1_1_NR_20 |\n",
       "| chr10 |  65838 | AP1_1_NR_20 |\n",
       "| chr11 |  63029 | AP1_1_NR_20 |\n",
       "| chr12 |  63554 | AP1_1_NR_20 |\n",
       "| chr13 |  45462 | AP1_1_NR_20 |\n",
       "| chr14 |  42559 | AP1_1_NR_20 |\n",
       "\n"
      ],
      "text/plain": [
       "  Chrom Count  Motif      \n",
       "1 chr1  112591 AP1_1_NR_20\n",
       "2 chr10  65838 AP1_1_NR_20\n",
       "3 chr11  63029 AP1_1_NR_20\n",
       "4 chr12  63554 AP1_1_NR_20\n",
       "5 chr13  45462 AP1_1_NR_20\n",
       "6 chr14  42559 AP1_1_NR_20"
      ]
     },
     "metadata": {},
     "output_type": "display_data"
    }
   ],
   "source": [
    "dat2 = dat_dist_AB %>% \n",
    "    dplyr::filter(Distance <= 1000) %>% \n",
    "    mutate(Chrom = MTF1_Chrom) %>%\n",
    "    group_by(Chrom) %>% \n",
    "    summarize(Count = n()) %>%\n",
    "    mutate(Motif=\"AP1_1_NR_20\")\n",
    "head(dat2)"
   ]
  },
  {
   "cell_type": "code",
   "execution_count": 15,
   "metadata": {},
   "outputs": [
    {
     "data": {
      "text/html": [
       "<table class=\"dataframe\">\n",
       "<caption>A tibble: 6 × 3</caption>\n",
       "<thead>\n",
       "\t<tr><th scope=col>Chrom</th><th scope=col>Count</th><th scope=col>Motif</th></tr>\n",
       "\t<tr><th scope=col>&lt;chr&gt;</th><th scope=col>&lt;int&gt;</th><th scope=col>&lt;chr&gt;</th></tr>\n",
       "</thead>\n",
       "<tbody>\n",
       "\t<tr><td>chr1 </td><td>68788</td><td>NR_20_AP1_1</td></tr>\n",
       "\t<tr><td>chr10</td><td>40860</td><td>NR_20_AP1_1</td></tr>\n",
       "\t<tr><td>chr11</td><td>40059</td><td>NR_20_AP1_1</td></tr>\n",
       "\t<tr><td>chr12</td><td>38827</td><td>NR_20_AP1_1</td></tr>\n",
       "\t<tr><td>chr13</td><td>29764</td><td>NR_20_AP1_1</td></tr>\n",
       "\t<tr><td>chr14</td><td>26643</td><td>NR_20_AP1_1</td></tr>\n",
       "</tbody>\n",
       "</table>\n"
      ],
      "text/latex": [
       "A tibble: 6 × 3\n",
       "\\begin{tabular}{lll}\n",
       " Chrom & Count & Motif\\\\\n",
       " <chr> & <int> & <chr>\\\\\n",
       "\\hline\n",
       "\t chr1  & 68788 & NR\\_20\\_AP1\\_1\\\\\n",
       "\t chr10 & 40860 & NR\\_20\\_AP1\\_1\\\\\n",
       "\t chr11 & 40059 & NR\\_20\\_AP1\\_1\\\\\n",
       "\t chr12 & 38827 & NR\\_20\\_AP1\\_1\\\\\n",
       "\t chr13 & 29764 & NR\\_20\\_AP1\\_1\\\\\n",
       "\t chr14 & 26643 & NR\\_20\\_AP1\\_1\\\\\n",
       "\\end{tabular}\n"
      ],
      "text/markdown": [
       "\n",
       "A tibble: 6 × 3\n",
       "\n",
       "| Chrom &lt;chr&gt; | Count &lt;int&gt; | Motif &lt;chr&gt; |\n",
       "|---|---|---|\n",
       "| chr1  | 68788 | NR_20_AP1_1 |\n",
       "| chr10 | 40860 | NR_20_AP1_1 |\n",
       "| chr11 | 40059 | NR_20_AP1_1 |\n",
       "| chr12 | 38827 | NR_20_AP1_1 |\n",
       "| chr13 | 29764 | NR_20_AP1_1 |\n",
       "| chr14 | 26643 | NR_20_AP1_1 |\n",
       "\n"
      ],
      "text/plain": [
       "  Chrom Count Motif      \n",
       "1 chr1  68788 NR_20_AP1_1\n",
       "2 chr10 40860 NR_20_AP1_1\n",
       "3 chr11 40059 NR_20_AP1_1\n",
       "4 chr12 38827 NR_20_AP1_1\n",
       "5 chr13 29764 NR_20_AP1_1\n",
       "6 chr14 26643 NR_20_AP1_1"
      ]
     },
     "metadata": {},
     "output_type": "display_data"
    }
   ],
   "source": [
    "dat3 = dat_dist_BA %>% \n",
    "    dplyr::filter(Distance <= 1000) %>% \n",
    "    mutate(Chrom = MTF1_Chrom) %>%\n",
    "    group_by(Chrom) %>% \n",
    "    summarize(Count = n()) %>%\n",
    "    mutate(Motif=\"NR_20_AP1_1\")\n",
    "head(dat3)"
   ]
  },
  {
   "cell_type": "code",
   "execution_count": 18,
   "metadata": {},
   "outputs": [
    {
     "name": "stderr",
     "output_type": "stream",
     "text": [
      "Warning message:\n",
      "“Ignoring unknown parameters: binwidth, bins, pad”\n"
     ]
    }
   ],
   "source": [
    "dat = bind_rows(dat1, dat2, dat3)\n",
    "dat$Motif = factor(dat$Motif, levels=c(\"AP1_1\", \"NR_20\", \"AP1_1_NR_20\", \"NR_20_AP1_1\"))\n",
    "dat$Chrom = factor(dat$Chrom, levels=paste0(\"chr\", c(1:22, \"X\", \"Y\")))\n",
    "gpt = ggplot(dat, aes(x=Chrom, y=Count, fill=Motif)) + \n",
    "    geom_histogram(stat = \"identity\", position=\"dodge\") + \n",
    "    #scale_y_log10() +\n",
    "    labs(x=\"\") +\n",
    "    theme_cowplot() +\n",
    "    background_grid() + \n",
    "    theme(\n",
    "        axis.title  = element_text(size=20),\n",
    "        axis.text.x = element_text(size=20, angle=90, hjust=1, vjust=0.5))"
   ]
  },
  {
   "cell_type": "code",
   "execution_count": 19,
   "metadata": {},
   "outputs": [
    {
     "data": {
      "image/png": "[encoded data removed]",
      "text/plain": [
       "plot without title"
      ]
     },
     "metadata": {
      "image/png": {
       "height": 300,
       "width": 900
      }
     },
     "output_type": "display_data"
    }
   ],
   "source": [
    "options(repr.plot.height=5, repr.plot.width=15)\n",
    "print(gpt)"
   ]
  },
  {
   "cell_type": "code",
   "execution_count": 20,
   "metadata": {},
   "outputs": [
    {
     "data": {
      "text/html": [
       "<table class=\"dataframe\">\n",
       "<caption>A tibble: 6 × 3</caption>\n",
       "<thead>\n",
       "\t<tr><th scope=col>Chrom</th><th scope=col>Motif</th><th scope=col>Count</th></tr>\n",
       "\t<tr><th scope=col>&lt;chr&gt;</th><th scope=col>&lt;chr&gt;</th><th scope=col>&lt;dbl&gt;</th></tr>\n",
       "</thead>\n",
       "<tbody>\n",
       "\t<tr><td>chr1</td><td>AP1_1</td><td>5599</td></tr>\n",
       "\t<tr><td>chr1</td><td>NR_20</td><td>1671</td></tr>\n",
       "\t<tr><td>chr2</td><td>AP1_1</td><td>5762</td></tr>\n",
       "\t<tr><td>chr2</td><td>NR_20</td><td>1625</td></tr>\n",
       "\t<tr><td>chr3</td><td>AP1_1</td><td>4557</td></tr>\n",
       "\t<tr><td>chr3</td><td>NR_20</td><td>1361</td></tr>\n",
       "</tbody>\n",
       "</table>\n"
      ],
      "text/latex": [
       "A tibble: 6 × 3\n",
       "\\begin{tabular}{lll}\n",
       " Chrom & Motif & Count\\\\\n",
       " <chr> & <chr> & <dbl>\\\\\n",
       "\\hline\n",
       "\t chr1 & AP1\\_1 & 5599\\\\\n",
       "\t chr1 & NR\\_20 & 1671\\\\\n",
       "\t chr2 & AP1\\_1 & 5762\\\\\n",
       "\t chr2 & NR\\_20 & 1625\\\\\n",
       "\t chr3 & AP1\\_1 & 4557\\\\\n",
       "\t chr3 & NR\\_20 & 1361\\\\\n",
       "\\end{tabular}\n"
      ],
      "text/markdown": [
       "\n",
       "A tibble: 6 × 3\n",
       "\n",
       "| Chrom &lt;chr&gt; | Motif &lt;chr&gt; | Count &lt;dbl&gt; |\n",
       "|---|---|---|\n",
       "| chr1 | AP1_1 | 5599 |\n",
       "| chr1 | NR_20 | 1671 |\n",
       "| chr2 | AP1_1 | 5762 |\n",
       "| chr2 | NR_20 | 1625 |\n",
       "| chr3 | AP1_1 | 4557 |\n",
       "| chr3 | NR_20 | 1361 |\n",
       "\n"
      ],
      "text/plain": [
       "  Chrom Motif Count\n",
       "1 chr1  AP1_1 5599 \n",
       "2 chr1  NR_20 1671 \n",
       "3 chr2  AP1_1 5762 \n",
       "4 chr2  NR_20 1625 \n",
       "5 chr3  AP1_1 4557 \n",
       "6 chr3  NR_20 1361 "
      ]
     },
     "metadata": {},
     "output_type": "display_data"
    }
   ],
   "source": [
    "dat1 = dat_cnt_f95 %>% dplyr::filter(Motif %in% c(\"AP1_1\", \"NR_20\"))\n",
    "head(dat1)"
   ]
  },
  {
   "cell_type": "code",
   "execution_count": 21,
   "metadata": {},
   "outputs": [
    {
     "data": {
      "text/html": [
       "<table class=\"dataframe\">\n",
       "<caption>A tibble: 6 × 11</caption>\n",
       "<thead>\n",
       "\t<tr><th scope=col>MTF1_Chrom</th><th scope=col>MTF1_Start</th><th scope=col>MTF1_End</th><th scope=col>MTF1</th><th scope=col>MTF1_score</th><th scope=col>MTF2_Chrom</th><th scope=col>MTF2_Start</th><th scope=col>MTF2_End</th><th scope=col>MTF2</th><th scope=col>MTF2_score</th><th scope=col>Distance</th></tr>\n",
       "\t<tr><th scope=col>&lt;chr&gt;</th><th scope=col>&lt;dbl&gt;</th><th scope=col>&lt;dbl&gt;</th><th scope=col>&lt;chr&gt;</th><th scope=col>&lt;dbl&gt;</th><th scope=col>&lt;chr&gt;</th><th scope=col>&lt;dbl&gt;</th><th scope=col>&lt;dbl&gt;</th><th scope=col>&lt;chr&gt;</th><th scope=col>&lt;dbl&gt;</th><th scope=col>&lt;dbl&gt;</th></tr>\n",
       "</thead>\n",
       "<tbody>\n",
       "\t<tr><td>chr1</td><td>12190</td><td>12198</td><td>AP1/1</td><td> 7.43060</td><td>chr1</td><td>14615</td><td>14629</td><td>NR/20</td><td>7.1956</td><td>2418</td></tr>\n",
       "\t<tr><td>chr1</td><td>12950</td><td>12959</td><td>AP1/1</td><td> 6.79415</td><td>chr1</td><td>14615</td><td>14629</td><td>NR/20</td><td>7.1956</td><td>1657</td></tr>\n",
       "\t<tr><td>chr1</td><td>13971</td><td>13980</td><td>AP1/1</td><td>10.96380</td><td>chr1</td><td>14615</td><td>14629</td><td>NR/20</td><td>7.1956</td><td> 636</td></tr>\n",
       "\t<tr><td>chr1</td><td>14158</td><td>14166</td><td>AP1/1</td><td> 6.73210</td><td>chr1</td><td>14615</td><td>14629</td><td>NR/20</td><td>7.1956</td><td> 450</td></tr>\n",
       "\t<tr><td>chr1</td><td>15090</td><td>15098</td><td>AP1/1</td><td> 7.53870</td><td>chr1</td><td>15090</td><td>15104</td><td>NR/20</td><td>7.8854</td><td>   0</td></tr>\n",
       "\t<tr><td>chr1</td><td>15297</td><td>15305</td><td>AP1/1</td><td> 7.65610</td><td>chr1</td><td>15247</td><td>15261</td><td>NR/20</td><td>7.8434</td><td>  37</td></tr>\n",
       "</tbody>\n",
       "</table>\n"
      ],
      "text/latex": [
       "A tibble: 6 × 11\n",
       "\\begin{tabular}{lllllllllll}\n",
       " MTF1\\_Chrom & MTF1\\_Start & MTF1\\_End & MTF1 & MTF1\\_score & MTF2\\_Chrom & MTF2\\_Start & MTF2\\_End & MTF2 & MTF2\\_score & Distance\\\\\n",
       " <chr> & <dbl> & <dbl> & <chr> & <dbl> & <chr> & <dbl> & <dbl> & <chr> & <dbl> & <dbl>\\\\\n",
       "\\hline\n",
       "\t chr1 & 12190 & 12198 & AP1/1 &  7.43060 & chr1 & 14615 & 14629 & NR/20 & 7.1956 & 2418\\\\\n",
       "\t chr1 & 12950 & 12959 & AP1/1 &  6.79415 & chr1 & 14615 & 14629 & NR/20 & 7.1956 & 1657\\\\\n",
       "\t chr1 & 13971 & 13980 & AP1/1 & 10.96380 & chr1 & 14615 & 14629 & NR/20 & 7.1956 &  636\\\\\n",
       "\t chr1 & 14158 & 14166 & AP1/1 &  6.73210 & chr1 & 14615 & 14629 & NR/20 & 7.1956 &  450\\\\\n",
       "\t chr1 & 15090 & 15098 & AP1/1 &  7.53870 & chr1 & 15090 & 15104 & NR/20 & 7.8854 &    0\\\\\n",
       "\t chr1 & 15297 & 15305 & AP1/1 &  7.65610 & chr1 & 15247 & 15261 & NR/20 & 7.8434 &   37\\\\\n",
       "\\end{tabular}\n"
      ],
      "text/markdown": [
       "\n",
       "A tibble: 6 × 11\n",
       "\n",
       "| MTF1_Chrom &lt;chr&gt; | MTF1_Start &lt;dbl&gt; | MTF1_End &lt;dbl&gt; | MTF1 &lt;chr&gt; | MTF1_score &lt;dbl&gt; | MTF2_Chrom &lt;chr&gt; | MTF2_Start &lt;dbl&gt; | MTF2_End &lt;dbl&gt; | MTF2 &lt;chr&gt; | MTF2_score &lt;dbl&gt; | Distance &lt;dbl&gt; |\n",
       "|---|---|---|---|---|---|---|---|---|---|---|\n",
       "| chr1 | 12190 | 12198 | AP1/1 |  7.43060 | chr1 | 14615 | 14629 | NR/20 | 7.1956 | 2418 |\n",
       "| chr1 | 12950 | 12959 | AP1/1 |  6.79415 | chr1 | 14615 | 14629 | NR/20 | 7.1956 | 1657 |\n",
       "| chr1 | 13971 | 13980 | AP1/1 | 10.96380 | chr1 | 14615 | 14629 | NR/20 | 7.1956 |  636 |\n",
       "| chr1 | 14158 | 14166 | AP1/1 |  6.73210 | chr1 | 14615 | 14629 | NR/20 | 7.1956 |  450 |\n",
       "| chr1 | 15090 | 15098 | AP1/1 |  7.53870 | chr1 | 15090 | 15104 | NR/20 | 7.8854 |    0 |\n",
       "| chr1 | 15297 | 15305 | AP1/1 |  7.65610 | chr1 | 15247 | 15261 | NR/20 | 7.8434 |   37 |\n",
       "\n"
      ],
      "text/plain": [
       "  MTF1_Chrom MTF1_Start MTF1_End MTF1  MTF1_score MTF2_Chrom MTF2_Start\n",
       "1 chr1       12190      12198    AP1/1  7.43060   chr1       14615     \n",
       "2 chr1       12950      12959    AP1/1  6.79415   chr1       14615     \n",
       "3 chr1       13971      13980    AP1/1 10.96380   chr1       14615     \n",
       "4 chr1       14158      14166    AP1/1  6.73210   chr1       14615     \n",
       "5 chr1       15090      15098    AP1/1  7.53870   chr1       15090     \n",
       "6 chr1       15297      15305    AP1/1  7.65610   chr1       15247     \n",
       "  MTF2_End MTF2  MTF2_score Distance\n",
       "1 14629    NR/20 7.1956     2418    \n",
       "2 14629    NR/20 7.1956     1657    \n",
       "3 14629    NR/20 7.1956      636    \n",
       "4 14629    NR/20 7.1956      450    \n",
       "5 15104    NR/20 7.8854        0    \n",
       "6 15261    NR/20 7.8434       37    "
      ]
     },
     "metadata": {},
     "output_type": "display_data"
    }
   ],
   "source": [
    "head(dat_dist_AB)"
   ]
  },
  {
   "cell_type": "code",
   "execution_count": 23,
   "metadata": {},
   "outputs": [
    {
     "data": {
      "text/html": [
       "<table class=\"dataframe\">\n",
       "<caption>A tibble: 6 × 3</caption>\n",
       "<thead>\n",
       "\t<tr><th scope=col>Chrom</th><th scope=col>Count</th><th scope=col>Motif</th></tr>\n",
       "\t<tr><th scope=col>&lt;chr&gt;</th><th scope=col>&lt;int&gt;</th><th scope=col>&lt;chr&gt;</th></tr>\n",
       "</thead>\n",
       "<tbody>\n",
       "\t<tr><td>chr1 </td><td>57</td><td>AP1_1_NR_20</td></tr>\n",
       "\t<tr><td>chr10</td><td>39</td><td>AP1_1_NR_20</td></tr>\n",
       "\t<tr><td>chr11</td><td>42</td><td>AP1_1_NR_20</td></tr>\n",
       "\t<tr><td>chr12</td><td>31</td><td>AP1_1_NR_20</td></tr>\n",
       "\t<tr><td>chr13</td><td>23</td><td>AP1_1_NR_20</td></tr>\n",
       "\t<tr><td>chr14</td><td>21</td><td>AP1_1_NR_20</td></tr>\n",
       "</tbody>\n",
       "</table>\n"
      ],
      "text/latex": [
       "A tibble: 6 × 3\n",
       "\\begin{tabular}{lll}\n",
       " Chrom & Count & Motif\\\\\n",
       " <chr> & <int> & <chr>\\\\\n",
       "\\hline\n",
       "\t chr1  & 57 & AP1\\_1\\_NR\\_20\\\\\n",
       "\t chr10 & 39 & AP1\\_1\\_NR\\_20\\\\\n",
       "\t chr11 & 42 & AP1\\_1\\_NR\\_20\\\\\n",
       "\t chr12 & 31 & AP1\\_1\\_NR\\_20\\\\\n",
       "\t chr13 & 23 & AP1\\_1\\_NR\\_20\\\\\n",
       "\t chr14 & 21 & AP1\\_1\\_NR\\_20\\\\\n",
       "\\end{tabular}\n"
      ],
      "text/markdown": [
       "\n",
       "A tibble: 6 × 3\n",
       "\n",
       "| Chrom &lt;chr&gt; | Count &lt;int&gt; | Motif &lt;chr&gt; |\n",
       "|---|---|---|\n",
       "| chr1  | 57 | AP1_1_NR_20 |\n",
       "| chr10 | 39 | AP1_1_NR_20 |\n",
       "| chr11 | 42 | AP1_1_NR_20 |\n",
       "| chr12 | 31 | AP1_1_NR_20 |\n",
       "| chr13 | 23 | AP1_1_NR_20 |\n",
       "| chr14 | 21 | AP1_1_NR_20 |\n",
       "\n"
      ],
      "text/plain": [
       "  Chrom Count Motif      \n",
       "1 chr1  57    AP1_1_NR_20\n",
       "2 chr10 39    AP1_1_NR_20\n",
       "3 chr11 42    AP1_1_NR_20\n",
       "4 chr12 31    AP1_1_NR_20\n",
       "5 chr13 23    AP1_1_NR_20\n",
       "6 chr14 21    AP1_1_NR_20"
      ]
     },
     "metadata": {},
     "output_type": "display_data"
    }
   ],
   "source": [
    "dat2 = dat_dist_AB %>% \n",
    "    dplyr::filter(\n",
    "        Distance   <= 1000,\n",
    "        MTF1_score >= 10.81,\n",
    "        MTF2_score >= 10.81) %>% \n",
    "    mutate(Chrom = MTF1_Chrom) %>%\n",
    "    group_by(Chrom) %>% \n",
    "    summarize(Count = n()) %>%\n",
    "    mutate(Motif=\"AP1_1_NR_20\")\n",
    "head(dat2)"
   ]
  },
  {
   "cell_type": "code",
   "execution_count": 22,
   "metadata": {},
   "outputs": [
    {
     "data": {
      "text/html": [
       "<table class=\"dataframe\">\n",
       "<caption>A tibble: 6 × 3</caption>\n",
       "<thead>\n",
       "\t<tr><th scope=col>Chrom</th><th scope=col>Count</th><th scope=col>Motif</th></tr>\n",
       "\t<tr><th scope=col>&lt;chr&gt;</th><th scope=col>&lt;int&gt;</th><th scope=col>&lt;chr&gt;</th></tr>\n",
       "</thead>\n",
       "<tbody>\n",
       "\t<tr><td>chr1 </td><td>28</td><td>NR_20_AP1_1</td></tr>\n",
       "\t<tr><td>chr10</td><td>24</td><td>NR_20_AP1_1</td></tr>\n",
       "\t<tr><td>chr11</td><td>32</td><td>NR_20_AP1_1</td></tr>\n",
       "\t<tr><td>chr12</td><td>28</td><td>NR_20_AP1_1</td></tr>\n",
       "\t<tr><td>chr13</td><td>15</td><td>NR_20_AP1_1</td></tr>\n",
       "\t<tr><td>chr14</td><td>16</td><td>NR_20_AP1_1</td></tr>\n",
       "</tbody>\n",
       "</table>\n"
      ],
      "text/latex": [
       "A tibble: 6 × 3\n",
       "\\begin{tabular}{lll}\n",
       " Chrom & Count & Motif\\\\\n",
       " <chr> & <int> & <chr>\\\\\n",
       "\\hline\n",
       "\t chr1  & 28 & NR\\_20\\_AP1\\_1\\\\\n",
       "\t chr10 & 24 & NR\\_20\\_AP1\\_1\\\\\n",
       "\t chr11 & 32 & NR\\_20\\_AP1\\_1\\\\\n",
       "\t chr12 & 28 & NR\\_20\\_AP1\\_1\\\\\n",
       "\t chr13 & 15 & NR\\_20\\_AP1\\_1\\\\\n",
       "\t chr14 & 16 & NR\\_20\\_AP1\\_1\\\\\n",
       "\\end{tabular}\n"
      ],
      "text/markdown": [
       "\n",
       "A tibble: 6 × 3\n",
       "\n",
       "| Chrom &lt;chr&gt; | Count &lt;int&gt; | Motif &lt;chr&gt; |\n",
       "|---|---|---|\n",
       "| chr1  | 28 | NR_20_AP1_1 |\n",
       "| chr10 | 24 | NR_20_AP1_1 |\n",
       "| chr11 | 32 | NR_20_AP1_1 |\n",
       "| chr12 | 28 | NR_20_AP1_1 |\n",
       "| chr13 | 15 | NR_20_AP1_1 |\n",
       "| chr14 | 16 | NR_20_AP1_1 |\n",
       "\n"
      ],
      "text/plain": [
       "  Chrom Count Motif      \n",
       "1 chr1  28    NR_20_AP1_1\n",
       "2 chr10 24    NR_20_AP1_1\n",
       "3 chr11 32    NR_20_AP1_1\n",
       "4 chr12 28    NR_20_AP1_1\n",
       "5 chr13 15    NR_20_AP1_1\n",
       "6 chr14 16    NR_20_AP1_1"
      ]
     },
     "metadata": {},
     "output_type": "display_data"
    }
   ],
   "source": [
    "dat3 = dat_dist_BA %>% \n",
    "    dplyr::filter(\n",
    "        Distance   <= 1000,\n",
    "        MTF1_score >= 10.81,\n",
    "        MTF2_score >= 10.81) %>% \n",
    "    mutate(Chrom = MTF1_Chrom) %>%\n",
    "    group_by(Chrom) %>% \n",
    "    summarize(Count = n()) %>%\n",
    "    mutate(Motif=\"NR_20_AP1_1\")\n",
    "head(dat3)"
   ]
  },
  {
   "cell_type": "code",
   "execution_count": 30,
   "metadata": {},
   "outputs": [
    {
     "name": "stderr",
     "output_type": "stream",
     "text": [
      "Warning message:\n",
      "“Ignoring unknown parameters: binwidth, bins, pad”\n"
     ]
    }
   ],
   "source": [
    "dat = bind_rows(dat1, dat2, dat3)\n",
    "dat$Motif = factor(dat$Motif, levels=c(\"AP1_1\", \"NR_20\", \"AP1_1_NR_20\", \"NR_20_AP1_1\"))\n",
    "dat$Chrom = factor(dat$Chrom, levels=paste0(\"chr\", c(1:22, \"X\", \"Y\")))\n",
    "gpt = ggplot(dat, aes(x=Chrom, y=Count, fill=Motif)) + \n",
    "    geom_histogram(stat = \"identity\", position=\"dodge\") + \n",
    "    scale_y_log10() +\n",
    "    labs(x=\"\") +\n",
    "    theme_cowplot() +\n",
    "    background_grid() + \n",
    "    theme(\n",
    "        axis.title  = element_text(size=20),\n",
    "        axis.text.x = element_text(size=20, angle=90, hjust=1, vjust=0.5))"
   ]
  },
  {
   "cell_type": "code",
   "execution_count": 31,
   "metadata": {},
   "outputs": [
    {
     "data": {
      "image/png": "[encoded data removed]",
      "text/plain": [
       "plot without title"
      ]
     },
     "metadata": {
      "image/png": {
       "height": 300,
       "width": 900
      }
     },
     "output_type": "display_data"
    }
   ],
   "source": [
    "options(repr.plot.height=5, repr.plot.width=15)\n",
    "print(gpt)"
   ]
  },
  {
   "cell_type": "code",
   "execution_count": null,
   "metadata": {},
   "outputs": [],
   "source": []
  },
  {
   "cell_type": "code",
   "execution_count": 53,
   "metadata": {},
   "outputs": [
    {
     "name": "stderr",
     "output_type": "stream",
     "text": [
      "`stat_bin()` using `bins = 30`. Pick better value with `binwidth`.\n",
      "\n",
      "Warning message:\n",
      "“Transformation introduced infinite values in continuous y-axis”\n",
      "Warning message:\n",
      "“Removed 245 rows containing missing values (geom_bar).”\n"
     ]
    },
    {
     "data": {
      "image/png": "[encoded data removed]",
      "text/plain": [
       "plot without title"
      ]
     },
     "metadata": {
      "image/png": {
       "height": 600,
       "width": 1200
      }
     },
     "output_type": "display_data"
    }
   ],
   "source": [
    "options(repr.plot.height=10, repr.plot.width=20)\n",
    "ggplot(dat_int, aes(x=Distance)) + \n",
    "    geom_histogram() + \n",
    "    labs(title=\"Distribution of Distance\") +\n",
    "    scale_y_log10() +\n",
    "    theme_cowplot() +\n",
    "    background_grid() +\n",
    "    facet_wrap(~MTF1_Chrom, scale=\"free\")"
   ]
  },
  {
   "cell_type": "code",
   "execution_count": null,
   "metadata": {},
   "outputs": [],
   "source": []
  },
  {
   "cell_type": "code",
   "execution_count": null,
   "metadata": {},
   "outputs": [],
   "source": []
  },
  {
   "cell_type": "code",
   "execution_count": 43,
   "metadata": {},
   "outputs": [
    {
     "data": {
      "text/html": [
       "<table class=\"dataframe\">\n",
       "<caption>A tibble: 6 × 11</caption>\n",
       "<thead>\n",
       "\t<tr><th scope=col>MTF1_Chrom</th><th scope=col>MTF1_Start</th><th scope=col>MTF1_End</th><th scope=col>MTF1</th><th scope=col>MTF1_score</th><th scope=col>MTF2_Chrom</th><th scope=col>MTF2_Start</th><th scope=col>MTF2_End</th><th scope=col>MTF2</th><th scope=col>MTF2_score</th><th scope=col>Distance</th></tr>\n",
       "\t<tr><th scope=col>&lt;chr&gt;</th><th scope=col>&lt;dbl&gt;</th><th scope=col>&lt;dbl&gt;</th><th scope=col>&lt;chr&gt;</th><th scope=col>&lt;dbl&gt;</th><th scope=col>&lt;chr&gt;</th><th scope=col>&lt;dbl&gt;</th><th scope=col>&lt;dbl&gt;</th><th scope=col>&lt;chr&gt;</th><th scope=col>&lt;dbl&gt;</th><th scope=col>&lt;dbl&gt;</th></tr>\n",
       "</thead>\n",
       "<tbody>\n",
       "\t<tr><td>chr1</td><td>12190</td><td>12198</td><td>AP1/1</td><td> 7.43060</td><td>chr1</td><td>14615</td><td>14629</td><td>NR/20</td><td>7.1956</td><td>2418</td></tr>\n",
       "\t<tr><td>chr1</td><td>12950</td><td>12959</td><td>AP1/1</td><td> 6.79415</td><td>chr1</td><td>14615</td><td>14629</td><td>NR/20</td><td>7.1956</td><td>1657</td></tr>\n",
       "\t<tr><td>chr1</td><td>13971</td><td>13980</td><td>AP1/1</td><td>10.96380</td><td>chr1</td><td>14615</td><td>14629</td><td>NR/20</td><td>7.1956</td><td> 636</td></tr>\n",
       "\t<tr><td>chr1</td><td>14158</td><td>14166</td><td>AP1/1</td><td> 6.73210</td><td>chr1</td><td>14615</td><td>14629</td><td>NR/20</td><td>7.1956</td><td> 450</td></tr>\n",
       "\t<tr><td>chr1</td><td>15090</td><td>15098</td><td>AP1/1</td><td> 7.53870</td><td>chr1</td><td>15090</td><td>15104</td><td>NR/20</td><td>7.8854</td><td>   0</td></tr>\n",
       "\t<tr><td>chr1</td><td>15297</td><td>15305</td><td>AP1/1</td><td> 7.65610</td><td>chr1</td><td>15247</td><td>15261</td><td>NR/20</td><td>7.8434</td><td>  37</td></tr>\n",
       "</tbody>\n",
       "</table>\n"
      ],
      "text/latex": [
       "A tibble: 6 × 11\n",
       "\\begin{tabular}{lllllllllll}\n",
       " MTF1\\_Chrom & MTF1\\_Start & MTF1\\_End & MTF1 & MTF1\\_score & MTF2\\_Chrom & MTF2\\_Start & MTF2\\_End & MTF2 & MTF2\\_score & Distance\\\\\n",
       " <chr> & <dbl> & <dbl> & <chr> & <dbl> & <chr> & <dbl> & <dbl> & <chr> & <dbl> & <dbl>\\\\\n",
       "\\hline\n",
       "\t chr1 & 12190 & 12198 & AP1/1 &  7.43060 & chr1 & 14615 & 14629 & NR/20 & 7.1956 & 2418\\\\\n",
       "\t chr1 & 12950 & 12959 & AP1/1 &  6.79415 & chr1 & 14615 & 14629 & NR/20 & 7.1956 & 1657\\\\\n",
       "\t chr1 & 13971 & 13980 & AP1/1 & 10.96380 & chr1 & 14615 & 14629 & NR/20 & 7.1956 &  636\\\\\n",
       "\t chr1 & 14158 & 14166 & AP1/1 &  6.73210 & chr1 & 14615 & 14629 & NR/20 & 7.1956 &  450\\\\\n",
       "\t chr1 & 15090 & 15098 & AP1/1 &  7.53870 & chr1 & 15090 & 15104 & NR/20 & 7.8854 &    0\\\\\n",
       "\t chr1 & 15297 & 15305 & AP1/1 &  7.65610 & chr1 & 15247 & 15261 & NR/20 & 7.8434 &   37\\\\\n",
       "\\end{tabular}\n"
      ],
      "text/markdown": [
       "\n",
       "A tibble: 6 × 11\n",
       "\n",
       "| MTF1_Chrom &lt;chr&gt; | MTF1_Start &lt;dbl&gt; | MTF1_End &lt;dbl&gt; | MTF1 &lt;chr&gt; | MTF1_score &lt;dbl&gt; | MTF2_Chrom &lt;chr&gt; | MTF2_Start &lt;dbl&gt; | MTF2_End &lt;dbl&gt; | MTF2 &lt;chr&gt; | MTF2_score &lt;dbl&gt; | Distance &lt;dbl&gt; |\n",
       "|---|---|---|---|---|---|---|---|---|---|---|\n",
       "| chr1 | 12190 | 12198 | AP1/1 |  7.43060 | chr1 | 14615 | 14629 | NR/20 | 7.1956 | 2418 |\n",
       "| chr1 | 12950 | 12959 | AP1/1 |  6.79415 | chr1 | 14615 | 14629 | NR/20 | 7.1956 | 1657 |\n",
       "| chr1 | 13971 | 13980 | AP1/1 | 10.96380 | chr1 | 14615 | 14629 | NR/20 | 7.1956 |  636 |\n",
       "| chr1 | 14158 | 14166 | AP1/1 |  6.73210 | chr1 | 14615 | 14629 | NR/20 | 7.1956 |  450 |\n",
       "| chr1 | 15090 | 15098 | AP1/1 |  7.53870 | chr1 | 15090 | 15104 | NR/20 | 7.8854 |    0 |\n",
       "| chr1 | 15297 | 15305 | AP1/1 |  7.65610 | chr1 | 15247 | 15261 | NR/20 | 7.8434 |   37 |\n",
       "\n"
      ],
      "text/plain": [
       "  MTF1_Chrom MTF1_Start MTF1_End MTF1  MTF1_score MTF2_Chrom MTF2_Start\n",
       "1 chr1       12190      12198    AP1/1  7.43060   chr1       14615     \n",
       "2 chr1       12950      12959    AP1/1  6.79415   chr1       14615     \n",
       "3 chr1       13971      13980    AP1/1 10.96380   chr1       14615     \n",
       "4 chr1       14158      14166    AP1/1  6.73210   chr1       14615     \n",
       "5 chr1       15090      15098    AP1/1  7.53870   chr1       15090     \n",
       "6 chr1       15297      15305    AP1/1  7.65610   chr1       15247     \n",
       "  MTF2_End MTF2  MTF2_score Distance\n",
       "1 14629    NR/20 7.1956     2418    \n",
       "2 14629    NR/20 7.1956     1657    \n",
       "3 14629    NR/20 7.1956      636    \n",
       "4 14629    NR/20 7.1956      450    \n",
       "5 15104    NR/20 7.8854        0    \n",
       "6 15261    NR/20 7.8434       37    "
      ]
     },
     "metadata": {},
     "output_type": "display_data"
    }
   ],
   "source": [
    "head(lst_dat[[1]])"
   ]
  },
  {
   "cell_type": "code",
   "execution_count": 19,
   "metadata": {},
   "outputs": [],
   "source": [
    "fdiry = file.path(\n",
    "    FD_ANN, \n",
    "    \"motif_cluster_jvierstra\", \n",
    "    \"hg38_archetype_motifs_v1\")\n",
    "\n",
    "fname = \"AP1_1_NR_20.bed\"\n",
    "\n",
    "chroms  = c(1:22, \"X\", \"Y\")\n",
    "lst_dat = lapply(chroms, function(chrom){\n",
    "    fname = paste0(\"dist_chr\", chrom)\n",
    "    dat = read_tsv(fpath, col_names = cnames, show_col_types = FALSE)\n",
    "    return(dat)\n",
    "})"
   ]
  },
  {
   "cell_type": "code",
   "execution_count": 20,
   "metadata": {},
   "outputs": [
    {
     "data": {
      "text/html": [
       "<table class=\"dataframe\">\n",
       "<caption>A tibble: 6 × 11</caption>\n",
       "<thead>\n",
       "\t<tr><th scope=col>MTF1_Chrom</th><th scope=col>MTF1_Start</th><th scope=col>MTF1_End</th><th scope=col>MTF1</th><th scope=col>MTF1_score</th><th scope=col>MTF2_Chrom</th><th scope=col>MTF2_Start</th><th scope=col>MTF2_End</th><th scope=col>MTF2</th><th scope=col>MTF2_score</th><th scope=col>Distance</th></tr>\n",
       "\t<tr><th scope=col>&lt;chr&gt;</th><th scope=col>&lt;dbl&gt;</th><th scope=col>&lt;dbl&gt;</th><th scope=col>&lt;chr&gt;</th><th scope=col>&lt;dbl&gt;</th><th scope=col>&lt;chr&gt;</th><th scope=col>&lt;dbl&gt;</th><th scope=col>&lt;dbl&gt;</th><th scope=col>&lt;chr&gt;</th><th scope=col>&lt;dbl&gt;</th><th scope=col>&lt;dbl&gt;</th></tr>\n",
       "</thead>\n",
       "<tbody>\n",
       "\t<tr><td>chr17</td><td>61128</td><td>61136</td><td>AP1/1</td><td>8.0116</td><td>chr17</td><td>60718</td><td>60732</td><td>NR/20</td><td>8.8112</td><td>397</td></tr>\n",
       "\t<tr><td>chr17</td><td>63311</td><td>63319</td><td>AP1/1</td><td>7.6561</td><td>chr17</td><td>63497</td><td>63512</td><td>NR/20</td><td>7.7355</td><td>179</td></tr>\n",
       "\t<tr><td>chr17</td><td>64199</td><td>64207</td><td>AP1/1</td><td>7.6561</td><td>chr17</td><td>64716</td><td>64731</td><td>NR/20</td><td>7.7355</td><td>510</td></tr>\n",
       "\t<tr><td>chr17</td><td>64443</td><td>64451</td><td>AP1/1</td><td>7.6561</td><td>chr17</td><td>64716</td><td>64731</td><td>NR/20</td><td>7.7355</td><td>266</td></tr>\n",
       "\t<tr><td>chr17</td><td>64565</td><td>64573</td><td>AP1/1</td><td>6.7321</td><td>chr17</td><td>64716</td><td>64731</td><td>NR/20</td><td>7.7355</td><td>144</td></tr>\n",
       "\t<tr><td>chr17</td><td>64861</td><td>64869</td><td>AP1/1</td><td>7.6561</td><td>chr17</td><td>64716</td><td>64731</td><td>NR/20</td><td>7.7355</td><td>131</td></tr>\n",
       "</tbody>\n",
       "</table>\n"
      ],
      "text/latex": [
       "A tibble: 6 × 11\n",
       "\\begin{tabular}{lllllllllll}\n",
       " MTF1\\_Chrom & MTF1\\_Start & MTF1\\_End & MTF1 & MTF1\\_score & MTF2\\_Chrom & MTF2\\_Start & MTF2\\_End & MTF2 & MTF2\\_score & Distance\\\\\n",
       " <chr> & <dbl> & <dbl> & <chr> & <dbl> & <chr> & <dbl> & <dbl> & <chr> & <dbl> & <dbl>\\\\\n",
       "\\hline\n",
       "\t chr17 & 61128 & 61136 & AP1/1 & 8.0116 & chr17 & 60718 & 60732 & NR/20 & 8.8112 & 397\\\\\n",
       "\t chr17 & 63311 & 63319 & AP1/1 & 7.6561 & chr17 & 63497 & 63512 & NR/20 & 7.7355 & 179\\\\\n",
       "\t chr17 & 64199 & 64207 & AP1/1 & 7.6561 & chr17 & 64716 & 64731 & NR/20 & 7.7355 & 510\\\\\n",
       "\t chr17 & 64443 & 64451 & AP1/1 & 7.6561 & chr17 & 64716 & 64731 & NR/20 & 7.7355 & 266\\\\\n",
       "\t chr17 & 64565 & 64573 & AP1/1 & 6.7321 & chr17 & 64716 & 64731 & NR/20 & 7.7355 & 144\\\\\n",
       "\t chr17 & 64861 & 64869 & AP1/1 & 7.6561 & chr17 & 64716 & 64731 & NR/20 & 7.7355 & 131\\\\\n",
       "\\end{tabular}\n"
      ],
      "text/markdown": [
       "\n",
       "A tibble: 6 × 11\n",
       "\n",
       "| MTF1_Chrom &lt;chr&gt; | MTF1_Start &lt;dbl&gt; | MTF1_End &lt;dbl&gt; | MTF1 &lt;chr&gt; | MTF1_score &lt;dbl&gt; | MTF2_Chrom &lt;chr&gt; | MTF2_Start &lt;dbl&gt; | MTF2_End &lt;dbl&gt; | MTF2 &lt;chr&gt; | MTF2_score &lt;dbl&gt; | Distance &lt;dbl&gt; |\n",
       "|---|---|---|---|---|---|---|---|---|---|---|\n",
       "| chr17 | 61128 | 61136 | AP1/1 | 8.0116 | chr17 | 60718 | 60732 | NR/20 | 8.8112 | 397 |\n",
       "| chr17 | 63311 | 63319 | AP1/1 | 7.6561 | chr17 | 63497 | 63512 | NR/20 | 7.7355 | 179 |\n",
       "| chr17 | 64199 | 64207 | AP1/1 | 7.6561 | chr17 | 64716 | 64731 | NR/20 | 7.7355 | 510 |\n",
       "| chr17 | 64443 | 64451 | AP1/1 | 7.6561 | chr17 | 64716 | 64731 | NR/20 | 7.7355 | 266 |\n",
       "| chr17 | 64565 | 64573 | AP1/1 | 6.7321 | chr17 | 64716 | 64731 | NR/20 | 7.7355 | 144 |\n",
       "| chr17 | 64861 | 64869 | AP1/1 | 7.6561 | chr17 | 64716 | 64731 | NR/20 | 7.7355 | 131 |\n",
       "\n"
      ],
      "text/plain": [
       "  MTF1_Chrom MTF1_Start MTF1_End MTF1  MTF1_score MTF2_Chrom MTF2_Start\n",
       "1 chr17      61128      61136    AP1/1 8.0116     chr17      60718     \n",
       "2 chr17      63311      63319    AP1/1 7.6561     chr17      63497     \n",
       "3 chr17      64199      64207    AP1/1 7.6561     chr17      64716     \n",
       "4 chr17      64443      64451    AP1/1 7.6561     chr17      64716     \n",
       "5 chr17      64565      64573    AP1/1 6.7321     chr17      64716     \n",
       "6 chr17      64861      64869    AP1/1 7.6561     chr17      64716     \n",
       "  MTF2_End MTF2  MTF2_score Distance\n",
       "1 60732    NR/20 8.8112     397     \n",
       "2 63512    NR/20 7.7355     179     \n",
       "3 64731    NR/20 7.7355     510     \n",
       "4 64731    NR/20 7.7355     266     \n",
       "5 64731    NR/20 7.7355     144     \n",
       "6 64731    NR/20 7.7355     131     "
      ]
     },
     "metadata": {},
     "output_type": "display_data"
    }
   ],
   "source": [
    "lst_dat[[1]] %>% head"
   ]
  },
  {
   "cell_type": "code",
   "execution_count": null,
   "metadata": {},
   "outputs": [],
   "source": []
  },
  {
   "cell_type": "code",
   "execution_count": 9,
   "metadata": {},
   "outputs": [
    {
     "data": {
      "text/html": [
       "'AP1_1_NR_20.bed'"
      ],
      "text/latex": [
       "'AP1\\_1\\_NR\\_20.bed'"
      ],
      "text/markdown": [
       "'AP1_1_NR_20.bed'"
      ],
      "text/plain": [
       "[1] \"AP1_1_NR_20.bed\""
      ]
     },
     "metadata": {},
     "output_type": "display_data"
    }
   ],
   "source": [
    "fdiry = file.path(\n",
    "    FD_ANN, \n",
    "    \"motif_cluster_jvierstra\", \n",
    "    \"hg38_archetype_motifs_v1\",\n",
    "    \"dist_chr17\")\n",
    "dir(fdiry)"
   ]
  },
  {
   "cell_type": "code",
   "execution_count": 11,
   "metadata": {},
   "outputs": [],
   "source": [
    "cnames = c(\n",
    "    \"MTF1_Chrom\",\n",
    "    \"MTF1_Start\",\n",
    "    \"MTF1_End\",\n",
    "    \"MTF1\",\n",
    "    \"MTF1_score\",\n",
    "    \"MTF2_Chrom\",\n",
    "    \"MTF2_Start\",\n",
    "    \"MTF2_End\",\n",
    "    \"MTF2\",\n",
    "    \"MTF2_score\",\n",
    "    \"Distance\")"
   ]
  },
  {
   "cell_type": "code",
   "execution_count": 12,
   "metadata": {},
   "outputs": [
    {
     "name": "stderr",
     "output_type": "stream",
     "text": [
      "\u001b[1m\u001b[1mRows: \u001b[1m\u001b[22m\u001b[34m\u001b[34m90246\u001b[34m\u001b[39m \u001b[1m\u001b[1mColumns: \u001b[1m\u001b[22m\u001b[34m\u001b[34m11\u001b[34m\u001b[39m\n",
      "\n",
      "\u001b[36m──\u001b[39m \u001b[1m\u001b[1mColumn specification\u001b[1m\u001b[22m \u001b[36m─────────────────────────────────────────────────────────────────────────────────\u001b[39m\n",
      "\u001b[1mDelimiter:\u001b[22m \"\\t\"\n",
      "\u001b[31mchr\u001b[39m (4): MTF1_Chrom, MTF1, MTF2_Chrom, MTF2\n",
      "\u001b[32mdbl\u001b[39m (7): MTF1_Start, MTF1_End, MTF1_score, MTF2_Start, MTF2_End, MTF2_score,...\n",
      "\n",
      "\n",
      "\u001b[36mℹ\u001b[39m Use \u001b[30m\u001b[47m\u001b[30m\u001b[47m`spec()`\u001b[47m\u001b[30m\u001b[49m\u001b[39m to retrieve the full column specification for this data.\n",
      "\u001b[36mℹ\u001b[39m Specify the column types or set \u001b[30m\u001b[47m\u001b[30m\u001b[47m`show_col_types = FALSE`\u001b[47m\u001b[30m\u001b[49m\u001b[39m to quiet this message.\n",
      "\n"
     ]
    },
    {
     "data": {
      "text/html": [
       "<table class=\"dataframe\">\n",
       "<caption>A tibble: 6 × 11</caption>\n",
       "<thead>\n",
       "\t<tr><th scope=col>MTF1_Chrom</th><th scope=col>MTF1_Start</th><th scope=col>MTF1_End</th><th scope=col>MTF1</th><th scope=col>MTF1_score</th><th scope=col>MTF2_Chrom</th><th scope=col>MTF2_Start</th><th scope=col>MTF2_End</th><th scope=col>MTF2</th><th scope=col>MTF2_score</th><th scope=col>Distance</th></tr>\n",
       "\t<tr><th scope=col>&lt;chr&gt;</th><th scope=col>&lt;dbl&gt;</th><th scope=col>&lt;dbl&gt;</th><th scope=col>&lt;chr&gt;</th><th scope=col>&lt;dbl&gt;</th><th scope=col>&lt;chr&gt;</th><th scope=col>&lt;dbl&gt;</th><th scope=col>&lt;dbl&gt;</th><th scope=col>&lt;chr&gt;</th><th scope=col>&lt;dbl&gt;</th><th scope=col>&lt;dbl&gt;</th></tr>\n",
       "</thead>\n",
       "<tbody>\n",
       "\t<tr><td>chr17</td><td>61128</td><td>61136</td><td>AP1/1</td><td>8.0116</td><td>chr17</td><td>60718</td><td>60732</td><td>NR/20</td><td>8.8112</td><td>397</td></tr>\n",
       "\t<tr><td>chr17</td><td>63311</td><td>63319</td><td>AP1/1</td><td>7.6561</td><td>chr17</td><td>63497</td><td>63512</td><td>NR/20</td><td>7.7355</td><td>179</td></tr>\n",
       "\t<tr><td>chr17</td><td>64199</td><td>64207</td><td>AP1/1</td><td>7.6561</td><td>chr17</td><td>64716</td><td>64731</td><td>NR/20</td><td>7.7355</td><td>510</td></tr>\n",
       "\t<tr><td>chr17</td><td>64443</td><td>64451</td><td>AP1/1</td><td>7.6561</td><td>chr17</td><td>64716</td><td>64731</td><td>NR/20</td><td>7.7355</td><td>266</td></tr>\n",
       "\t<tr><td>chr17</td><td>64565</td><td>64573</td><td>AP1/1</td><td>6.7321</td><td>chr17</td><td>64716</td><td>64731</td><td>NR/20</td><td>7.7355</td><td>144</td></tr>\n",
       "\t<tr><td>chr17</td><td>64861</td><td>64869</td><td>AP1/1</td><td>7.6561</td><td>chr17</td><td>64716</td><td>64731</td><td>NR/20</td><td>7.7355</td><td>131</td></tr>\n",
       "</tbody>\n",
       "</table>\n"
      ],
      "text/latex": [
       "A tibble: 6 × 11\n",
       "\\begin{tabular}{lllllllllll}\n",
       " MTF1\\_Chrom & MTF1\\_Start & MTF1\\_End & MTF1 & MTF1\\_score & MTF2\\_Chrom & MTF2\\_Start & MTF2\\_End & MTF2 & MTF2\\_score & Distance\\\\\n",
       " <chr> & <dbl> & <dbl> & <chr> & <dbl> & <chr> & <dbl> & <dbl> & <chr> & <dbl> & <dbl>\\\\\n",
       "\\hline\n",
       "\t chr17 & 61128 & 61136 & AP1/1 & 8.0116 & chr17 & 60718 & 60732 & NR/20 & 8.8112 & 397\\\\\n",
       "\t chr17 & 63311 & 63319 & AP1/1 & 7.6561 & chr17 & 63497 & 63512 & NR/20 & 7.7355 & 179\\\\\n",
       "\t chr17 & 64199 & 64207 & AP1/1 & 7.6561 & chr17 & 64716 & 64731 & NR/20 & 7.7355 & 510\\\\\n",
       "\t chr17 & 64443 & 64451 & AP1/1 & 7.6561 & chr17 & 64716 & 64731 & NR/20 & 7.7355 & 266\\\\\n",
       "\t chr17 & 64565 & 64573 & AP1/1 & 6.7321 & chr17 & 64716 & 64731 & NR/20 & 7.7355 & 144\\\\\n",
       "\t chr17 & 64861 & 64869 & AP1/1 & 7.6561 & chr17 & 64716 & 64731 & NR/20 & 7.7355 & 131\\\\\n",
       "\\end{tabular}\n"
      ],
      "text/markdown": [
       "\n",
       "A tibble: 6 × 11\n",
       "\n",
       "| MTF1_Chrom &lt;chr&gt; | MTF1_Start &lt;dbl&gt; | MTF1_End &lt;dbl&gt; | MTF1 &lt;chr&gt; | MTF1_score &lt;dbl&gt; | MTF2_Chrom &lt;chr&gt; | MTF2_Start &lt;dbl&gt; | MTF2_End &lt;dbl&gt; | MTF2 &lt;chr&gt; | MTF2_score &lt;dbl&gt; | Distance &lt;dbl&gt; |\n",
       "|---|---|---|---|---|---|---|---|---|---|---|\n",
       "| chr17 | 61128 | 61136 | AP1/1 | 8.0116 | chr17 | 60718 | 60732 | NR/20 | 8.8112 | 397 |\n",
       "| chr17 | 63311 | 63319 | AP1/1 | 7.6561 | chr17 | 63497 | 63512 | NR/20 | 7.7355 | 179 |\n",
       "| chr17 | 64199 | 64207 | AP1/1 | 7.6561 | chr17 | 64716 | 64731 | NR/20 | 7.7355 | 510 |\n",
       "| chr17 | 64443 | 64451 | AP1/1 | 7.6561 | chr17 | 64716 | 64731 | NR/20 | 7.7355 | 266 |\n",
       "| chr17 | 64565 | 64573 | AP1/1 | 6.7321 | chr17 | 64716 | 64731 | NR/20 | 7.7355 | 144 |\n",
       "| chr17 | 64861 | 64869 | AP1/1 | 7.6561 | chr17 | 64716 | 64731 | NR/20 | 7.7355 | 131 |\n",
       "\n"
      ],
      "text/plain": [
       "  MTF1_Chrom MTF1_Start MTF1_End MTF1  MTF1_score MTF2_Chrom MTF2_Start\n",
       "1 chr17      61128      61136    AP1/1 8.0116     chr17      60718     \n",
       "2 chr17      63311      63319    AP1/1 7.6561     chr17      63497     \n",
       "3 chr17      64199      64207    AP1/1 7.6561     chr17      64716     \n",
       "4 chr17      64443      64451    AP1/1 7.6561     chr17      64716     \n",
       "5 chr17      64565      64573    AP1/1 6.7321     chr17      64716     \n",
       "6 chr17      64861      64869    AP1/1 7.6561     chr17      64716     \n",
       "  MTF2_End MTF2  MTF2_score Distance\n",
       "1 60732    NR/20 8.8112     397     \n",
       "2 63512    NR/20 7.7355     179     \n",
       "3 64731    NR/20 7.7355     510     \n",
       "4 64731    NR/20 7.7355     266     \n",
       "5 64731    NR/20 7.7355     144     \n",
       "6 64731    NR/20 7.7355     131     "
      ]
     },
     "metadata": {},
     "output_type": "display_data"
    }
   ],
   "source": [
    "fdiry = file.path(\n",
    "    FD_ANN, \n",
    "    \"motif_cluster_jvierstra\", \n",
    "    \"hg38_archetype_motifs_v1\",\n",
    "    \"dist_chr17\")\n",
    "fname = \"AP1_1_NR_20.bed\"\n",
    "fpath = file.path(fdiry, fname)\n",
    "\n",
    "dat = read_tsv(fpath, col_names = cnames)\n",
    "head(dat)"
   ]
  },
  {
   "cell_type": "code",
   "execution_count": 13,
   "metadata": {},
   "outputs": [
    {
     "name": "stderr",
     "output_type": "stream",
     "text": [
      "`stat_bin()` using `bins = 30`. Pick better value with `binwidth`.\n",
      "\n"
     ]
    },
    {
     "data": {
      "image/png": "[encoded data removed]",
      "text/plain": [
       "plot without title"
      ]
     },
     "metadata": {
      "image/png": {
       "height": 420,
       "width": 420
      }
     },
     "output_type": "display_data"
    }
   ],
   "source": [
    "qplot(dat$Distance)"
   ]
  },
  {
   "cell_type": "code",
   "execution_count": null,
   "metadata": {},
   "outputs": [],
   "source": []
  }
 ],
 "metadata": {
  "kernelspec": {
   "display_name": "R (alex_py3)",
   "language": "R",
   "name": "ir_alex_py3"
  },
  "language_info": {
   "codemirror_mode": "r",
   "file_extension": ".r",
   "mimetype": "text/x-r-source",
   "name": "R",
   "pygments_lexer": "r",
   "version": "3.6.2"
  }
 },
 "nbformat": 4,
 "nbformat_minor": 4
}
