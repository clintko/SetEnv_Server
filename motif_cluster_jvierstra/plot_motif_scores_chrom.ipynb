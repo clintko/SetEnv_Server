{
 "cells": [
  {
   "cell_type": "code",
   "execution_count": 1,
   "id": "386e9e56-4b93-4475-87b2-427a3229c14c",
   "metadata": {},
   "outputs": [
    {
     "name": "stdout",
     "output_type": "stream",
     "text": [
      "You are on Duke Server: DCC\n",
      "BASE DIRECTORY:     /work/kk319 \n",
      "WORK DIRECTORY:     /work/kk319/out/CombEffect_STARR \n",
      "LOG  DIRECTORY:     /work/kk319/out/CombEffect_STARR/log \n",
      "PATH OF SOURCE:     /work/kk319/source \n",
      "PATH OF EXECUTABLE: /work/kk319/exe \n",
      "PATH OF ANNOTATION: /work/kk319/annotation \n"
     ]
    }
   ],
   "source": [
    "suppressMessages(suppressWarnings(source(\"../config_duke.R\")))"
   ]
  },
  {
   "cell_type": "code",
   "execution_count": 2,
   "id": "443957c6-1164-4fbc-a8b7-2bd02ba9e9ec",
   "metadata": {},
   "outputs": [],
   "source": [
    "FD_MTF = file.path(FD_ANN, \"motif_cluster_jvierstra\")"
   ]
  },
  {
   "cell_type": "code",
   "execution_count": 3,
   "id": "bdb7bf95-e6c5-4b3a-9d93-a1c2edccf4fa",
   "metadata": {},
   "outputs": [],
   "source": [
    "ctypes = c(col_character(), col_integer(), col_integer(), col_character(), col_double())\n",
    "cnames = c(\"Chrom\", \"Start\", \"End\", \"Cluster\", \"Score\", \"Strand\", \"Motif\", \"Num_Models\")"
   ]
  },
  {
   "cell_type": "code",
   "execution_count": 4,
   "id": "a7d9ee64-d015-428c-9272-c6ff0046dc79",
   "metadata": {},
   "outputs": [
    {
     "data": {
      "text/html": [
       "<table>\n",
       "<thead><tr><th scope=col>Chrom</th><th scope=col>Start</th><th scope=col>End</th><th scope=col>Cluster</th><th scope=col>Score</th><th scope=col>Strand</th><th scope=col>Motif</th><th scope=col>Num_Models</th></tr></thead>\n",
       "<tbody>\n",
       "\t<tr><td>chr10         </td><td>10006         </td><td>10023         </td><td>KLF/SP/2      </td><td>3.7536        </td><td>-             </td><td>RREB1_MA0073.1</td><td>1             </td></tr>\n",
       "\t<tr><td>chr10         </td><td>10012         </td><td>10029         </td><td>KLF/SP/2      </td><td>3.7536        </td><td>-             </td><td>RREB1_MA0073.1</td><td>1             </td></tr>\n",
       "\t<tr><td>chr10         </td><td>10018         </td><td>10035         </td><td>KLF/SP/2      </td><td>3.7536        </td><td>-             </td><td>RREB1_MA0073.1</td><td>1             </td></tr>\n",
       "\t<tr><td>chr10         </td><td>10024         </td><td>10041         </td><td>KLF/SP/2      </td><td>3.7536        </td><td>-             </td><td>RREB1_MA0073.1</td><td>1             </td></tr>\n",
       "\t<tr><td>chr10         </td><td>10030         </td><td>10047         </td><td>KLF/SP/2      </td><td>3.7536        </td><td>-             </td><td>RREB1_MA0073.1</td><td>1             </td></tr>\n",
       "\t<tr><td>chr10         </td><td>10036         </td><td>10053         </td><td>KLF/SP/2      </td><td>3.7536        </td><td>-             </td><td>RREB1_MA0073.1</td><td>1             </td></tr>\n",
       "</tbody>\n",
       "</table>\n"
      ],
      "text/latex": [
       "\\begin{tabular}{r|llllllll}\n",
       " Chrom & Start & End & Cluster & Score & Strand & Motif & Num\\_Models\\\\\n",
       "\\hline\n",
       "\t chr10            & 10006            & 10023            & KLF/SP/2         & 3.7536           & -                & RREB1\\_MA0073.1 & 1               \\\\\n",
       "\t chr10            & 10012            & 10029            & KLF/SP/2         & 3.7536           & -                & RREB1\\_MA0073.1 & 1               \\\\\n",
       "\t chr10            & 10018            & 10035            & KLF/SP/2         & 3.7536           & -                & RREB1\\_MA0073.1 & 1               \\\\\n",
       "\t chr10            & 10024            & 10041            & KLF/SP/2         & 3.7536           & -                & RREB1\\_MA0073.1 & 1               \\\\\n",
       "\t chr10            & 10030            & 10047            & KLF/SP/2         & 3.7536           & -                & RREB1\\_MA0073.1 & 1               \\\\\n",
       "\t chr10            & 10036            & 10053            & KLF/SP/2         & 3.7536           & -                & RREB1\\_MA0073.1 & 1               \\\\\n",
       "\\end{tabular}\n"
      ],
      "text/markdown": [
       "\n",
       "| Chrom | Start | End | Cluster | Score | Strand | Motif | Num_Models |\n",
       "|---|---|---|---|---|---|---|---|\n",
       "| chr10          | 10006          | 10023          | KLF/SP/2       | 3.7536         | -              | RREB1_MA0073.1 | 1              |\n",
       "| chr10          | 10012          | 10029          | KLF/SP/2       | 3.7536         | -              | RREB1_MA0073.1 | 1              |\n",
       "| chr10          | 10018          | 10035          | KLF/SP/2       | 3.7536         | -              | RREB1_MA0073.1 | 1              |\n",
       "| chr10          | 10024          | 10041          | KLF/SP/2       | 3.7536         | -              | RREB1_MA0073.1 | 1              |\n",
       "| chr10          | 10030          | 10047          | KLF/SP/2       | 3.7536         | -              | RREB1_MA0073.1 | 1              |\n",
       "| chr10          | 10036          | 10053          | KLF/SP/2       | 3.7536         | -              | RREB1_MA0073.1 | 1              |\n",
       "\n"
      ],
      "text/plain": [
       "  Chrom Start End   Cluster  Score  Strand Motif          Num_Models\n",
       "1 chr10 10006 10023 KLF/SP/2 3.7536 -      RREB1_MA0073.1 1         \n",
       "2 chr10 10012 10029 KLF/SP/2 3.7536 -      RREB1_MA0073.1 1         \n",
       "3 chr10 10018 10035 KLF/SP/2 3.7536 -      RREB1_MA0073.1 1         \n",
       "4 chr10 10024 10041 KLF/SP/2 3.7536 -      RREB1_MA0073.1 1         \n",
       "5 chr10 10030 10047 KLF/SP/2 3.7536 -      RREB1_MA0073.1 1         \n",
       "6 chr10 10036 10053 KLF/SP/2 3.7536 -      RREB1_MA0073.1 1         "
      ]
     },
     "metadata": {},
     "output_type": "display_data"
    }
   ],
   "source": [
    "fdiry = file.path(FD_MTF, \"hg38_archetype_motifs_v1\")\n",
    "fname = \"chr10_rm_mouse.bed.gz\"\n",
    "fpath = file.path(fdiry, fname)\n",
    "\n",
    "dat_chr10 = read_tsv(fpath, col_names = cnames, col_types = ctypes)\n",
    "head(dat_chr10)"
   ]
  },
  {
   "cell_type": "code",
   "execution_count": 5,
   "id": "4d0b01b0-1ec2-4b04-a0fc-b3603abae49c",
   "metadata": {},
   "outputs": [
    {
     "data": {
      "text/html": [
       "<table>\n",
       "<thead><tr><th scope=col>Chrom</th><th scope=col>Start</th><th scope=col>End</th><th scope=col>Cluster</th><th scope=col>Score</th><th scope=col>Strand</th><th scope=col>Motif</th><th scope=col>Num_Models</th></tr></thead>\n",
       "<tbody>\n",
       "\t<tr><td>chr17                </td><td>60004                </td><td>60022                </td><td>ZNF140               </td><td> 5.6897              </td><td>+                    </td><td>ZN140_HUMAN.H11MO.0.C</td><td>1                    </td></tr>\n",
       "\t<tr><td>chr17                </td><td>60004                </td><td>60022                </td><td>ZNF667               </td><td> 8.0240              </td><td>-                    </td><td>ZN667_HUMAN.H11MO.0.C</td><td>1                    </td></tr>\n",
       "\t<tr><td>chr17                </td><td>60006                </td><td>60015                </td><td>Ebox/CAGCTG          </td><td> 7.9275              </td><td>+                    </td><td>MYOD1_HUMAN.H11MO.0.A</td><td>1                    </td></tr>\n",
       "\t<tr><td>chr17                </td><td>60011                </td><td>60031                </td><td>GC-tract             </td><td>12.1220              </td><td>-                    </td><td>ZN341_HUMAN.H11MO.0.C</td><td>1                    </td></tr>\n",
       "\t<tr><td>chr17                </td><td>60012                </td><td>60025                </td><td>PRDM4                </td><td> 1.3083              </td><td>+                    </td><td>PRDM4_C2H2_1         </td><td>1                    </td></tr>\n",
       "\t<tr><td>chr17                </td><td>60017                </td><td>60028                </td><td>NR/19                </td><td> 9.6680              </td><td>-                    </td><td>NR1D1_HUMAN.H11MO.0.B</td><td>2                    </td></tr>\n",
       "</tbody>\n",
       "</table>\n"
      ],
      "text/latex": [
       "\\begin{tabular}{r|llllllll}\n",
       " Chrom & Start & End & Cluster & Score & Strand & Motif & Num\\_Models\\\\\n",
       "\\hline\n",
       "\t chr17                   & 60004                   & 60022                   & ZNF140                  &  5.6897                 & +                       & ZN140\\_HUMAN.H11MO.0.C & 1                      \\\\\n",
       "\t chr17                   & 60004                   & 60022                   & ZNF667                  &  8.0240                 & -                       & ZN667\\_HUMAN.H11MO.0.C & 1                      \\\\\n",
       "\t chr17                   & 60006                   & 60015                   & Ebox/CAGCTG             &  7.9275                 & +                       & MYOD1\\_HUMAN.H11MO.0.A & 1                      \\\\\n",
       "\t chr17                   & 60011                   & 60031                   & GC-tract                & 12.1220                 & -                       & ZN341\\_HUMAN.H11MO.0.C & 1                      \\\\\n",
       "\t chr17                     & 60012                     & 60025                     & PRDM4                     &  1.3083                   & +                         & PRDM4\\_C2H2\\_1          & 1                        \\\\\n",
       "\t chr17                   & 60017                   & 60028                   & NR/19                   &  9.6680                 & -                       & NR1D1\\_HUMAN.H11MO.0.B & 2                      \\\\\n",
       "\\end{tabular}\n"
      ],
      "text/markdown": [
       "\n",
       "| Chrom | Start | End | Cluster | Score | Strand | Motif | Num_Models |\n",
       "|---|---|---|---|---|---|---|---|\n",
       "| chr17                 | 60004                 | 60022                 | ZNF140                |  5.6897               | +                     | ZN140_HUMAN.H11MO.0.C | 1                     |\n",
       "| chr17                 | 60004                 | 60022                 | ZNF667                |  8.0240               | -                     | ZN667_HUMAN.H11MO.0.C | 1                     |\n",
       "| chr17                 | 60006                 | 60015                 | Ebox/CAGCTG           |  7.9275               | +                     | MYOD1_HUMAN.H11MO.0.A | 1                     |\n",
       "| chr17                 | 60011                 | 60031                 | GC-tract              | 12.1220               | -                     | ZN341_HUMAN.H11MO.0.C | 1                     |\n",
       "| chr17                 | 60012                 | 60025                 | PRDM4                 |  1.3083               | +                     | PRDM4_C2H2_1          | 1                     |\n",
       "| chr17                 | 60017                 | 60028                 | NR/19                 |  9.6680               | -                     | NR1D1_HUMAN.H11MO.0.B | 2                     |\n",
       "\n"
      ],
      "text/plain": [
       "  Chrom Start End   Cluster     Score   Strand Motif                 Num_Models\n",
       "1 chr17 60004 60022 ZNF140       5.6897 +      ZN140_HUMAN.H11MO.0.C 1         \n",
       "2 chr17 60004 60022 ZNF667       8.0240 -      ZN667_HUMAN.H11MO.0.C 1         \n",
       "3 chr17 60006 60015 Ebox/CAGCTG  7.9275 +      MYOD1_HUMAN.H11MO.0.A 1         \n",
       "4 chr17 60011 60031 GC-tract    12.1220 -      ZN341_HUMAN.H11MO.0.C 1         \n",
       "5 chr17 60012 60025 PRDM4        1.3083 +      PRDM4_C2H2_1          1         \n",
       "6 chr17 60017 60028 NR/19        9.6680 -      NR1D1_HUMAN.H11MO.0.B 2         "
      ]
     },
     "metadata": {},
     "output_type": "display_data"
    }
   ],
   "source": [
    "fdiry = file.path(FD_MTF, \"hg38_archetype_motifs_v1\")\n",
    "fname = \"chr17_rm_mouse.bed.gz\"\n",
    "fpath = file.path(fdiry, fname)\n",
    "\n",
    "dat_chr17 = read_tsv(fpath, col_names = cnames, col_types = ctypes)\n",
    "head(dat_chr17)"
   ]
  },
  {
   "cell_type": "code",
   "execution_count": 6,
   "id": "2508b861-1c31-436f-8337-11427b36b73c",
   "metadata": {},
   "outputs": [
    {
     "data": {
      "text/html": [
       "<table>\n",
       "<thead><tr><th scope=col>Chrom</th><th scope=col>Start</th><th scope=col>End</th><th scope=col>Cluster</th><th scope=col>Score</th><th scope=col>Strand</th><th scope=col>Motif</th><th scope=col>Num_Models</th></tr></thead>\n",
       "<tbody>\n",
       "\t<tr><td>chr22                </td><td>10510004             </td><td>10510016             </td><td>FOX/5                </td><td>8.0973               </td><td>-                    </td><td>FOXP2_MA0593.1       </td><td> 6                   </td></tr>\n",
       "\t<tr><td>chr22                </td><td>10510009             </td><td>10510019             </td><td>FOX/4                </td><td>8.0591               </td><td>+                    </td><td>FOXP1_HUMAN.H11MO.0.A</td><td>10                   </td></tr>\n",
       "\t<tr><td>chr22                </td><td>10510034             </td><td>10510046             </td><td>IRF/1                </td><td>4.8468               </td><td>-                    </td><td>IRF9_HUMAN.H11MO.0.C </td><td> 2                   </td></tr>\n",
       "\t<tr><td>chr22                </td><td>10510061             </td><td>10510073             </td><td>FOX/6                </td><td>6.8029               </td><td>-                    </td><td>FOXD2_forkhead_1     </td><td> 1                   </td></tr>\n",
       "\t<tr><td>chr22                </td><td>10510084             </td><td>10510106             </td><td>ZNF136               </td><td>3.5056               </td><td>+                    </td><td>ZN136_HUMAN.H11MO.0.C</td><td> 1                   </td></tr>\n",
       "\t<tr><td>chr22                </td><td>10510115             </td><td>10510128             </td><td>SOX/3                </td><td>7.4701               </td><td>+                    </td><td>SOX21_HMG_4          </td><td>12                   </td></tr>\n",
       "</tbody>\n",
       "</table>\n"
      ],
      "text/latex": [
       "\\begin{tabular}{r|llllllll}\n",
       " Chrom & Start & End & Cluster & Score & Strand & Motif & Num\\_Models\\\\\n",
       "\\hline\n",
       "\t chr22                   & 10510004                & 10510016                & FOX/5                   & 8.0973                  & -                       & FOXP2\\_MA0593.1        &  6                     \\\\\n",
       "\t chr22                   & 10510009                & 10510019                & FOX/4                   & 8.0591                  & +                       & FOXP1\\_HUMAN.H11MO.0.A & 10                     \\\\\n",
       "\t chr22                   & 10510034                & 10510046                & IRF/1                   & 4.8468                  & -                       & IRF9\\_HUMAN.H11MO.0.C  &  2                     \\\\\n",
       "\t chr22                     & 10510061                  & 10510073                  & FOX/6                     & 6.8029                    & -                         & FOXD2\\_forkhead\\_1      &  1                       \\\\\n",
       "\t chr22                   & 10510084                & 10510106                & ZNF136                  & 3.5056                  & +                       & ZN136\\_HUMAN.H11MO.0.C &  1                     \\\\\n",
       "\t chr22                     & 10510115                  & 10510128                  & SOX/3                     & 7.4701                    & +                         & SOX21\\_HMG\\_4           & 12                       \\\\\n",
       "\\end{tabular}\n"
      ],
      "text/markdown": [
       "\n",
       "| Chrom | Start | End | Cluster | Score | Strand | Motif | Num_Models |\n",
       "|---|---|---|---|---|---|---|---|\n",
       "| chr22                 | 10510004              | 10510016              | FOX/5                 | 8.0973                | -                     | FOXP2_MA0593.1        |  6                    |\n",
       "| chr22                 | 10510009              | 10510019              | FOX/4                 | 8.0591                | +                     | FOXP1_HUMAN.H11MO.0.A | 10                    |\n",
       "| chr22                 | 10510034              | 10510046              | IRF/1                 | 4.8468                | -                     | IRF9_HUMAN.H11MO.0.C  |  2                    |\n",
       "| chr22                 | 10510061              | 10510073              | FOX/6                 | 6.8029                | -                     | FOXD2_forkhead_1      |  1                    |\n",
       "| chr22                 | 10510084              | 10510106              | ZNF136                | 3.5056                | +                     | ZN136_HUMAN.H11MO.0.C |  1                    |\n",
       "| chr22                 | 10510115              | 10510128              | SOX/3                 | 7.4701                | +                     | SOX21_HMG_4           | 12                    |\n",
       "\n"
      ],
      "text/plain": [
       "  Chrom Start    End      Cluster Score  Strand Motif                \n",
       "1 chr22 10510004 10510016 FOX/5   8.0973 -      FOXP2_MA0593.1       \n",
       "2 chr22 10510009 10510019 FOX/4   8.0591 +      FOXP1_HUMAN.H11MO.0.A\n",
       "3 chr22 10510034 10510046 IRF/1   4.8468 -      IRF9_HUMAN.H11MO.0.C \n",
       "4 chr22 10510061 10510073 FOX/6   6.8029 -      FOXD2_forkhead_1     \n",
       "5 chr22 10510084 10510106 ZNF136  3.5056 +      ZN136_HUMAN.H11MO.0.C\n",
       "6 chr22 10510115 10510128 SOX/3   7.4701 +      SOX21_HMG_4          \n",
       "  Num_Models\n",
       "1  6        \n",
       "2 10        \n",
       "3  2        \n",
       "4  1        \n",
       "5  1        \n",
       "6 12        "
      ]
     },
     "metadata": {},
     "output_type": "display_data"
    }
   ],
   "source": [
    "fdiry = file.path(FD_MTF, \"hg38_archetype_motifs_v1\")\n",
    "fname = \"chr22_rm_mouse.bed.gz\"\n",
    "fpath = file.path(fdiry, fname)\n",
    "\n",
    "dat_chr22 = read_tsv(fpath, col_names = cnames, col_types = ctypes)\n",
    "head(dat_chr22)"
   ]
  },
  {
   "cell_type": "code",
   "execution_count": 7,
   "id": "3a9ed7b0-07fa-4621-8578-8905aa330831",
   "metadata": {},
   "outputs": [
    {
     "data": {
      "text/plain": [
       "   Min. 1st Qu.  Median    Mean 3rd Qu.    Max. \n",
       "  1.000   7.151   7.828   7.910   8.763  30.302 "
      ]
     },
     "metadata": {},
     "output_type": "display_data"
    }
   ],
   "source": [
    "summary(dat_chr10$Score)"
   ]
  },
  {
   "cell_type": "code",
   "execution_count": 8,
   "id": "4753d454-aa2e-415d-a8d5-1c274b3188eb",
   "metadata": {},
   "outputs": [
    {
     "data": {
      "text/plain": [
       "   Min. 1st Qu.  Median    Mean 3rd Qu.    Max. \n",
       "  1.000   7.368   8.105   8.232   9.089  30.568 "
      ]
     },
     "metadata": {},
     "output_type": "display_data"
    }
   ],
   "source": [
    "summary(dat_chr17$Score)"
   ]
  },
  {
   "cell_type": "code",
   "execution_count": 9,
   "id": "ce9dceb1-6c1f-4605-af4c-85ea718e8ef8",
   "metadata": {},
   "outputs": [
    {
     "data": {
      "text/plain": [
       "   Min. 1st Qu.  Median    Mean 3rd Qu.    Max. \n",
       "  1.000   7.369   8.239   8.306   9.190  30.568 "
      ]
     },
     "metadata": {},
     "output_type": "display_data"
    }
   ],
   "source": [
    "summary(dat_chr22$Score)"
   ]
  },
  {
   "cell_type": "code",
   "execution_count": 15,
   "id": "29a66023-4118-4aee-b235-7957b5b94fb9",
   "metadata": {},
   "outputs": [],
   "source": [
    "dat = dat_chr10\n",
    "txt = \"Distribution of Motif Scores (chr10)\"\n",
    "gp1 = ggplot(dat, aes(x=Score)) + \n",
    "    geom_histogram(bins=50) + \n",
    "    geom_vline(xintercept = median(dat$Score), color=\"blue\") +\n",
    "    xlim(0, 31) +\n",
    "    theme_bw() +\n",
    "    labs(title=txt)"
   ]
  },
  {
   "cell_type": "code",
   "execution_count": 16,
   "id": "05329dd1-eefa-4e2b-b843-b48f16c67546",
   "metadata": {},
   "outputs": [],
   "source": [
    "dat = dat_chr17\n",
    "txt = \"Distribution of Motif Scores (chr17)\"\n",
    "gp2 = ggplot(dat, aes(x=Score)) + \n",
    "    geom_histogram(bins=50) + \n",
    "    geom_vline(xintercept = median(dat$Score), color=\"blue\") +\n",
    "    xlim(0, 31) +\n",
    "    theme_bw() +\n",
    "    labs(title=txt)"
   ]
  },
  {
   "cell_type": "code",
   "execution_count": 17,
   "id": "be93826a-f19c-4a88-85fa-2eb2fa2aa91c",
   "metadata": {},
   "outputs": [],
   "source": [
    "dat = dat_chr22\n",
    "txt = \"Distribution of Motif Scores (chr22)\"\n",
    "gp3 = ggplot(dat, aes(x=Score)) + \n",
    "    geom_histogram(bins=50) + \n",
    "    geom_vline(xintercept = median(dat$Score), color=\"blue\") +\n",
    "    xlim(0, 31) +\n",
    "    theme_bw() +\n",
    "    labs(title=txt)"
   ]
  },
  {
   "cell_type": "code",
   "execution_count": 18,
   "id": "d42e7017-75d4-4add-bb71-2c8f4cde2451",
   "metadata": {},
   "outputs": [
    {
     "name": "stderr",
     "output_type": "stream",
     "text": [
      "Warning message:\n",
      "“Removed 2 rows containing missing values (geom_bar).”Warning message:\n",
      "“Removed 2 rows containing missing values (geom_bar).”Warning message:\n",
      "“Removed 2 rows containing missing values (geom_bar).”"
     ]
    },
    {
     "data": {
      "image/png": "[encoded data removed]",
      "text/plain": [
       "plot without title"
      ]
     },
     "metadata": {},
     "output_type": "display_data"
    }
   ],
   "source": [
    "options(repr.plot.height=9, repr.plot.width=5)\n",
    "grid.arrange(gp1, gp2, gp3, ncol=1)"
   ]
  },
  {
   "cell_type": "code",
   "execution_count": null,
   "id": "162f331a-d5ff-48cb-b79e-ac9a1cb09c17",
   "metadata": {},
   "outputs": [],
   "source": []
  },
  {
   "cell_type": "code",
   "execution_count": null,
   "id": "5a6079ba-fd71-4be6-9da4-4204a994a5a2",
   "metadata": {},
   "outputs": [],
   "source": []
  }
 ],
 "metadata": {
  "kernelspec": {
   "display_name": "R",
   "language": "R",
   "name": "ir"
  },
  "language_info": {
   "codemirror_mode": "r",
   "file_extension": ".r",
   "mimetype": "text/x-r-source",
   "name": "R",
   "pygments_lexer": "r",
   "version": "3.6.1"
  }
 },
 "nbformat": 4,
 "nbformat_minor": 5
}
