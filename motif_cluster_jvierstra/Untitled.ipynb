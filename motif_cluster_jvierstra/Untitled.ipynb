{
 "cells": [
  {
   "cell_type": "code",
   "execution_count": 1,
   "id": "5caedce0-2898-4974-8288-7e8edce46813",
   "metadata": {},
   "outputs": [
    {
     "name": "stdout",
     "output_type": "stream",
     "text": [
      "01_get_motif_cluster.ipynb                extract_NR20.ipynb\n",
      "02_split_cluster_by_chrom.ipynb           \u001b[0m\u001b[01;34mlog\u001b[0m\n",
      "03_split_motif_and_merge_by_strand.ipynb  plot_motif_scores_chrom.ipynb\n",
      "11_clusters_and_motifs.ipynb              Untitled.ipynb\n",
      "12_get_clusters.ipynb\n"
     ]
    }
   ],
   "source": [
    "ls"
   ]
  },
  {
   "cell_type": "code",
   "execution_count": 2,
   "id": "9874d4ff-c560-4285-850d-fb766e3b60bb",
   "metadata": {},
   "outputs": [
    {
     "name": "stdout",
     "output_type": "stream",
     "text": [
      "\u001b[0m\u001b[01;34mannotation\u001b[0m  \u001b[01;34mexe\u001b[0m  \u001b[01;34mout\u001b[0m  \u001b[01;34msource\u001b[0m\n"
     ]
    }
   ],
   "source": [
    "ls /work/kk319"
   ]
  },
  {
   "cell_type": "code",
   "execution_count": 3,
   "id": "1cf477d9-1449-4c0e-8a75-a17085800fe9",
   "metadata": {},
   "outputs": [
    {
     "name": "stdout",
     "output_type": "stream",
     "text": [
      "\u001b[0m\u001b[01;34mgenome\u001b[0m  \u001b[01;34mmotif_cluster_jvierstra\u001b[0m  \u001b[01;34mmotif_jaspar_2020\u001b[0m\n"
     ]
    }
   ],
   "source": [
    "ls /work/kk319/annotation"
   ]
  },
  {
   "cell_type": "code",
   "execution_count": 4,
   "id": "52b87920-9d0e-45b5-a7a8-a753da9d4b06",
   "metadata": {},
   "outputs": [
    {
     "name": "stdout",
     "output_type": "stream",
     "text": [
      "Archetype_clusters.txt            hg38_archetype_motifs_clusters_reduce.txt\n",
      "hg38_all_motifs_chroms.txt        \u001b[0m\u001b[01;34mhg38_archetype_motifs_v1\u001b[0m\n",
      "\u001b[01;34mhg38_all_motifs_v1\u001b[0m                Motifs.txt\n",
      "hg38_archetype_motifs_chroms.txt\n"
     ]
    }
   ],
   "source": [
    "ls /work/kk319/annotation/motif_cluster_jvierstra"
   ]
  },
  {
   "cell_type": "code",
   "execution_count": 7,
   "id": "04048b45-d5e8-460e-b756-22e90e4fc595",
   "metadata": {},
   "outputs": [
    {
     "name": "stdout",
     "output_type": "stream",
     "text": [
      "-rw-r--r--. 1 kk319 root 2.7G Jun  6 14:06 \u001b[0m\u001b[01;31m/work/kk319/annotation/motif_cluster_jvierstra/hg38_all_motifs_v1/chr1.bed.gz\u001b[0m\u001b[K\n"
     ]
    }
   ],
   "source": [
    "ls -lh /work/kk319/annotation/motif_cluster_jvierstra/hg38_all_motifs_v1/chr1.bed.gz"
   ]
  },
  {
   "cell_type": "code",
   "execution_count": 8,
   "id": "3021ae01-5a0b-4206-805a-b377ab654696",
   "metadata": {},
   "outputs": [
    {
     "name": "stdout",
     "output_type": "stream",
     "text": [
      "chr1\t10003\t10023\tRREB1_MA0073.1\t3.75359698976\t+\tCCCTAACCCTAACCCTAACC\n",
      "chr1\t10009\t10029\tRREB1_MA0073.1\t3.75359698976\t+\tCCCTAACCCTAACCCTAACC\n",
      "chr1\t10015\t10035\tRREB1_MA0073.1\t3.75359698976\t+\tCCCTAACCCTAACCCTAACC\n",
      "chr1\t10021\t10041\tRREB1_MA0073.1\t3.75359698976\t+\tCCCTAACCCTAACCCTAACC\n",
      "chr1\t10027\t10047\tRREB1_MA0073.1\t3.75359698976\t+\tCCCTAACCCTAACCCTAACC\n",
      "chr1\t10033\t10053\tRREB1_MA0073.1\t3.75359698976\t+\tCCCTAACCCTAACCCTAACC\n",
      "chr1\t10039\t10059\tRREB1_MA0073.1\t3.75359698976\t+\tCCCTAACCCTAACCCTAACC\n",
      "chr1\t10045\t10065\tRREB1_MA0073.1\t3.75359698976\t+\tCCCTAACCCTAACCCTAACC\n",
      "chr1\t10051\t10071\tRREB1_MA0073.1\t3.75359698976\t+\tCCCTAACCCTAACCCTAACC\n",
      "chr1\t10057\t10077\tRREB1_MA0073.1\t3.75359698976\t+\tCCCTAACCCTAACCCTAACC\n",
      "\n",
      "gzip: stdout: Broken pipe\n"
     ]
    }
   ],
   "source": [
    "zcat /work/kk319/annotation/motif_cluster_jvierstra/hg38_all_motifs_v1/chr1.bed.gz | head"
   ]
  },
  {
   "cell_type": "code",
   "execution_count": 5,
   "id": "537e1ec4-2b8b-4f50-b4ca-b17c298a021b",
   "metadata": {},
   "outputs": [
    {
     "name": "stdout",
     "output_type": "stream",
     "text": [
      "chr1\t10003\t10023\t3.75359698976\n",
      "chr1\t10009\t10029\t3.75359698976\n",
      "chr1\t10015\t10035\t3.75359698976\n",
      "chr1\t10021\t10041\t3.75359698976\n",
      "chr1\t10027\t10047\t3.75359698976\n",
      "chr1\t10033\t10053\t3.75359698976\n",
      "chr1\t10039\t10059\t3.75359698976\n",
      "chr1\t10045\t10065\t3.75359698976\n",
      "chr1\t10051\t10071\t3.75359698976\n",
      "chr1\t10057\t10077\t3.75359698976\n",
      "\n"
     ]
    }
   ],
   "source": [
    "FDIRY=/work/kk319/annotation/motif_cluster_jvierstra/hg38_all_motifs_v1\n",
    "FNAME=chr1.bed.gz \n",
    "zcat ${FDIRY}/${FNAME} | cut -f1,2,3,5 | head"
   ]
  },
  {
   "cell_type": "code",
   "execution_count": 6,
   "id": "b9e08b87-4f8f-4f99-9fb2-0bd515c8709d",
   "metadata": {},
   "outputs": [
    {
     "name": "stdout",
     "output_type": "stream",
     "text": [
      "01_get_motif_cluster.ipynb                extract_NR20.ipynb\n",
      "02_split_cluster_by_chrom.ipynb           \u001b[0m\u001b[01;34mlog\u001b[0m\n",
      "03_split_motif_and_merge_by_strand.ipynb  plot_motif_scores_chrom.ipynb\n",
      "11_clusters_and_motifs.ipynb              Untitled1.ipynb\n",
      "12_get_clusters.ipynb                     Untitled.ipynb\n"
     ]
    }
   ],
   "source": [
    "ls"
   ]
  },
  {
   "cell_type": "code",
   "execution_count": 7,
   "id": "73450f3b-6f13-4bd2-8bb7-713151816e13",
   "metadata": {},
   "outputs": [],
   "source": [
    "zcat ${FDIRY}/${FNAME} | cut -f1,2,3,5 > ${FDIRY}/test.bed"
   ]
  },
  {
   "cell_type": "code",
   "execution_count": 8,
   "id": "5ae7ecc5-a8a9-420f-aa41-57e8d58a05dc",
   "metadata": {},
   "outputs": [
    {
     "name": "stdout",
     "output_type": "stream",
     "text": [
      "-rw-r--r--. 1 kk319 root 6.4G Sep  2 15:37 /work/kk319/annotation/motif_cluster_jvierstra/hg38_all_motifs_v1/test.bed\n"
     ]
    }
   ],
   "source": [
    "ls -lh ${FDIRY}/test.bed"
   ]
  },
  {
   "cell_type": "code",
   "execution_count": 9,
   "id": "b9d83aff-dd62-47dd-800d-2c4d6eece2b4",
   "metadata": {},
   "outputs": [
    {
     "name": "stdout",
     "output_type": "stream",
     "text": [
      "181029347 /work/kk319/annotation/motif_cluster_jvierstra/hg38_all_motifs_v1/test.bed\n"
     ]
    }
   ],
   "source": [
    "wc -l ${FDIRY}/test.bed"
   ]
  },
  {
   "cell_type": "code",
   "execution_count": null,
   "id": "0db9012b-331c-4bd6-87e1-3a59944f70b3",
   "metadata": {},
   "outputs": [],
   "source": []
  },
  {
   "cell_type": "code",
   "execution_count": null,
   "id": "a1801a2c-f628-4fc2-a7fe-1ccff474750e",
   "metadata": {},
   "outputs": [],
   "source": [
    "zcat ${FDIRY}/${FNAME} | cut -f1,2,3,5 > ${FDIRY}/test_all.bed"
   ]
  },
  {
   "cell_type": "code",
   "execution_count": null,
   "id": "643f78d1-9804-431c-91b5-71bba83d8ff9",
   "metadata": {},
   "outputs": [],
   "source": []
  }
 ],
 "metadata": {
  "kernelspec": {
   "display_name": "Bash",
   "language": "bash",
   "name": "bash"
  },
  "language_info": {
   "codemirror_mode": "shell",
   "file_extension": ".sh",
   "mimetype": "text/x-sh",
   "name": "bash"
  }
 },
 "nbformat": 4,
 "nbformat_minor": 5
}
