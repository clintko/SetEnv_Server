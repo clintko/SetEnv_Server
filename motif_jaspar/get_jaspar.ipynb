{
 "cells": [
  {
   "cell_type": "code",
   "execution_count": 1,
   "id": "24f4336f-86af-45e2-92ba-ef6f38eabf42",
   "metadata": {},
   "outputs": [
    {
     "name": "stdout",
     "output_type": "stream",
     "text": [
      "You are on Duke Server: DCC\n",
      "BASE DIRECTORY:     /work/kk319\n",
      "PATH OF SOURCE:     /work/kk319/source\n",
      "PATH OF EXECUTABLE: /work/kk319/exe\n",
      "PATH OF ANNOTATION: /work/kk319/annotation\n",
      "\n"
     ]
    }
   ],
   "source": [
    "source ../config_duke.sh"
   ]
  },
  {
   "cell_type": "code",
   "execution_count": 4,
   "id": "aea77f3d-910b-4cac-b364-f96d9665a959",
   "metadata": {},
   "outputs": [
    {
     "name": "stdout",
     "output_type": "stream",
     "text": [
      "\u001b[0m\u001b[01;34mgenome\u001b[0m  \u001b[01;34mmotif_cluster_jvierstra\u001b[0m  \u001b[01;34mwhole_genome_STARRseq\u001b[0m\n"
     ]
    }
   ],
   "source": [
    "ls /work/kk319/source"
   ]
  },
  {
   "cell_type": "code",
   "execution_count": 5,
   "id": "5dbf5f82-8ea7-4013-b836-3aa317aa7376",
   "metadata": {},
   "outputs": [
    {
     "name": "stdout",
     "output_type": "stream",
     "text": [
      "--2021-07-28 03:18:03--  http://expdata.cmmt.ubc.ca/JASPAR/downloads/UCSC_tracks/2020/hg38/MA0113.3.tsv.gz\n",
      "Resolving expdata.cmmt.ubc.ca (expdata.cmmt.ubc.ca)... 137.82.44.19\n",
      "Connecting to expdata.cmmt.ubc.ca (expdata.cmmt.ubc.ca)|137.82.44.19|:80... connected.\n",
      "HTTP request sent, awaiting response... 200 OK\n",
      "Length: 9047928 (8.6M) [application/x-gzip]\n",
      "Saving to: ‘/work/kk319/source/motif_jaspar_2020/MA0113.3.tsv.gz’\n",
      "\n",
      "MA0113.3.tsv.gz     100%[===================>]   8.63M  2.56MB/s    in 3.6s    \n",
      "\n",
      "2021-07-28 03:18:07 (2.42 MB/s) - ‘/work/kk319/source/motif_jaspar_2020/MA0113.3.tsv.gz’ saved [9047928/9047928]\n",
      "\n"
     ]
    }
   ],
   "source": [
    "URL=http://expdata.cmmt.ubc.ca/JASPAR/downloads/UCSC_tracks/2020/hg38/MA0113.3.tsv.gz\n",
    "FD_OUT=${FD_SRC}/motif_jaspar_2020\n",
    "\n",
    "mkdir -p ${FD_OUT}\n",
    "wget ${URL} -P ${FD_OUT}"
   ]
  },
  {
   "cell_type": "code",
   "execution_count": 6,
   "id": "30ae7234-c507-43a5-92c0-1d3be313940d",
   "metadata": {},
   "outputs": [
    {
     "name": "stdout",
     "output_type": "stream",
     "text": [
      "--2021-07-28 03:18:31--  http://expdata.cmmt.ubc.ca/JASPAR/downloads/UCSC_tracks/2020/hg38/MA0099.3.tsv.gz\n",
      "Resolving expdata.cmmt.ubc.ca (expdata.cmmt.ubc.ca)... 137.82.44.19\n",
      "Connecting to expdata.cmmt.ubc.ca (expdata.cmmt.ubc.ca)|137.82.44.19|:80... connected.\n",
      "HTTP request sent, awaiting response... 200 OK\n",
      "Length: 111343747 (106M) [application/x-gzip]\n",
      "Saving to: ‘/work/kk319/source/motif_jaspar_2020/MA0099.3.tsv.gz’\n",
      "\n",
      "MA0099.3.tsv.gz     100%[===================>] 106.19M  31.1MB/s    in 6.8s    \n",
      "\n",
      "2021-07-28 03:18:39 (15.7 MB/s) - ‘/work/kk319/source/motif_jaspar_2020/MA0099.3.tsv.gz’ saved [111343747/111343747]\n",
      "\n"
     ]
    }
   ],
   "source": [
    "URL=http://expdata.cmmt.ubc.ca/JASPAR/downloads/UCSC_tracks/2020/hg38/MA0099.3.tsv.gz\n",
    "FD_OUT=${FD_SRC}/motif_jaspar_2020\n",
    "\n",
    "mkdir -p ${FD_OUT}\n",
    "wget ${URL} -P ${FD_OUT}"
   ]
  },
  {
   "cell_type": "code",
   "execution_count": 13,
   "id": "67a16252-1815-48e3-876e-1d3e1a972dde",
   "metadata": {},
   "outputs": [
    {
     "name": "stdout",
     "output_type": "stream",
     "text": [
      "\u001b[0m\u001b[01;31mMA0099.3.tsv.gz\u001b[0m  \u001b[01;31mMA0113.3.tsv.gz\u001b[0m\n"
     ]
    }
   ],
   "source": [
    "ls ${FD_SRC}/motif_jaspar_2020"
   ]
  },
  {
   "cell_type": "code",
   "execution_count": 14,
   "id": "fba8572c-b264-453a-a101-a8050813b771",
   "metadata": {},
   "outputs": [
    {
     "name": "stdout",
     "output_type": "stream",
     "text": [
      "\u001b[0m\u001b[01;34mgenome\u001b[0m  \u001b[01;34mmotif_cluster_jvierstra\u001b[0m\n"
     ]
    }
   ],
   "source": [
    "ls ${FD_ANN}"
   ]
  },
  {
   "cell_type": "code",
   "execution_count": 15,
   "id": "f31306e2-8a3e-49ac-b5d8-857212970b5a",
   "metadata": {},
   "outputs": [
    {
     "name": "stdout",
     "output_type": "stream",
     "text": [
      "hg38_all_motifs_chroms.txt        hg38_archetype_motifs_clusters_reduce.txt\n",
      "\u001b[0m\u001b[01;34mhg38_all_motifs_v1\u001b[0m                \u001b[01;34mhg38_archetype_motifs_v1\u001b[0m\n",
      "hg38_archetype_motifs_chroms.txt\n"
     ]
    }
   ],
   "source": [
    "ls ${FD_ANN}/motif_cluster_jvierstra"
   ]
  },
  {
   "cell_type": "code",
   "execution_count": 17,
   "id": "c40aa414-416e-4cfe-94b8-43f48da799ac",
   "metadata": {},
   "outputs": [],
   "source": [
    "FD_MTF=${FD_ANN}/motif_jaspar_2020\n",
    "mkdir -p ${FD_MTF}"
   ]
  },
  {
   "cell_type": "code",
   "execution_count": 18,
   "id": "6e45c20b-969d-491c-ba99-c1460ca3bb34",
   "metadata": {},
   "outputs": [
    {
     "name": "stdout",
     "output_type": "stream",
     "text": [
      "\u001b[0m\u001b[01;34mgenome\u001b[0m  \u001b[01;34mmotif_cluster_jvierstra\u001b[0m  \u001b[01;34mmotif_jaspar_2020\u001b[0m\n"
     ]
    }
   ],
   "source": [
    "ls ${FD_ANN}"
   ]
  },
  {
   "cell_type": "code",
   "execution_count": 19,
   "id": "2ed7104d-3931-42c8-9420-fc4e9cef461b",
   "metadata": {},
   "outputs": [],
   "source": [
    "gunzip -c ${FD_SRC}/motif_jaspar_2020/MA0099.3.tsv.gz > ${FD_MTF}/MA0099.3.tsv\n",
    "gunzip -c ${FD_SRC}/motif_jaspar_2020/MA0113.3.tsv.gz > ${FD_MTF}/MA0113.3.tsv"
   ]
  },
  {
   "cell_type": "code",
   "execution_count": 20,
   "id": "bb072009-a65b-427c-8932-8fdb89e3ac5e",
   "metadata": {},
   "outputs": [
    {
     "name": "stdout",
     "output_type": "stream",
     "text": [
      "MA0099.3.tsv  MA0113.3.tsv\n"
     ]
    }
   ],
   "source": [
    "ls ${FD_MTF}"
   ]
  },
  {
   "cell_type": "code",
   "execution_count": 21,
   "id": "d71e9f68-36e7-4d7f-8235-7f5e41297b14",
   "metadata": {},
   "outputs": [
    {
     "name": "stdout",
     "output_type": "stream",
     "text": [
      "chr10\t11241\t11251\tFOS::JUN\t800\t277\t-\n",
      "chr10\t12124\t12134\tFOS::JUN\t815\t294\t-\n",
      "chr10\t12125\t12135\tFOS::JUN\t824\t302\t+\n"
     ]
    }
   ],
   "source": [
    "head -3 ${FD_MTF}/MA0099.3.tsv"
   ]
  },
  {
   "cell_type": "code",
   "execution_count": 22,
   "id": "36783cf6-2b58-4f00-bb8d-621ce620ba36",
   "metadata": {},
   "outputs": [
    {
     "name": "stdout",
     "output_type": "stream",
     "text": [
      "chr10\t11650\t11667\tNR3C1\t814\t384\t+\n",
      "chr10\t16730\t16747\tNR3C1\t825\t399\t+\n",
      "chr10\t16730\t16747\tNR3C1\t826\t400\t-\n"
     ]
    }
   ],
   "source": [
    "head -3 ${FD_MTF}/MA0113.3.tsv"
   ]
  },
  {
   "cell_type": "code",
   "execution_count": null,
   "id": "51dd8862-6de5-4115-afd7-032528933358",
   "metadata": {},
   "outputs": [],
   "source": []
  }
 ],
 "metadata": {
  "kernelspec": {
   "display_name": "Bash",
   "language": "bash",
   "name": "bash"
  },
  "language_info": {
   "codemirror_mode": "shell",
   "file_extension": ".sh",
   "mimetype": "text/x-sh",
   "name": "bash"
  }
 },
 "nbformat": 4,
 "nbformat_minor": 5
}
